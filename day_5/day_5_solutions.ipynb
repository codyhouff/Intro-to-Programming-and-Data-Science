{
 "cells": [
  {
   "cell_type": "markdown",
   "metadata": {},
   "source": [
    "## PY4E Ch 9"
   ]
  },
  {
   "cell_type": "markdown",
   "metadata": {},
   "source": [
    "Exercise 2: Write a program that categorizes each mail message by which day of the week the commit was done. To do this look for lines that start with “From”, then look for the third word and keep a running count of each of the days of the week. At the end of the program print out the contents of your dictionary (order does not matter).\n",
    "\n",
    "Sample Line:\n",
    "\n",
    "    From stephen.marquard@uct.ac.za Sat Jan  5 09:14:16 2008\n",
    "\n",
    "Sample Execution:\n",
    "\n",
    "    python dow.py\n",
    "    Enter a file name: mbox-short.txt\n",
    "    {'Fri': 20, 'Thu': 6, 'Sat': 1}"
   ]
  },
  {
   "cell_type": "code",
   "execution_count": 6,
   "metadata": {},
   "outputs": [
    {
     "name": "stdout",
     "output_type": "stream",
     "text": [
      "Enter a file name: mbox-short.txt\n",
      "{'Sat': 1, 'Fri': 20, 'Thu': 6}\n"
     ]
    }
   ],
   "source": [
    "fname = input('Enter a file name: ')\n",
    "#fname = 'mbox-short.txt'\n",
    "\n",
    "days = {}\n",
    "with open(fname, 'r') as f:\n",
    "    for line in f.readlines():\n",
    "        if line.startswith('From'):\n",
    "            words = line.split(' ')\n",
    "            if len(words) > 2:\n",
    "                day = words[2]\n",
    "                try:\n",
    "                    days[day] = days[day] + 1\n",
    "                except KeyError:\n",
    "                    days[day] = 1\n",
    "\n",
    "print(days)\n",
    "            "
   ]
  },
  {
   "cell_type": "markdown",
   "metadata": {},
   "source": [
    "Exercise 3: Write a program to read through a mail log, build a histogram using a dictionary to count how many messages have come from each email address, and print the dictionary.\n",
    "\n",
    "    Enter file name: mbox-short.txt\n",
    "    {'gopal.ramasammycook@gmail.com': 1, 'louis@media.berkeley.edu': 3,\n",
    "    'cwen@iupui.edu': 5, 'antranig@caret.cam.ac.uk': 1,\n",
    "    'rjlowe@iupui.edu': 2, 'gsilver@umich.edu': 3,\n",
    "    'david.horwitz@uct.ac.za': 4, 'wagnermr@iupui.edu': 1,\n",
    "    'zqian@umich.edu': 4, 'stephen.marquard@uct.ac.za': 2,\n",
    "    'ray@media.berkeley.edu': 1}"
   ]
  },
  {
   "cell_type": "code",
   "execution_count": null,
   "metadata": {},
   "outputs": [],
   "source": [
    "fname = input('Enter the file name: ')\n",
    "try:\n",
    "    fhand = open(fname)\n",
    "except:\n",
    "    print('File cannot be opened:', fname)\n",
    "    \n",
    "d = dict()\n",
    "emails=list()\n",
    "\n",
    "for line in fhand:\n",
    "    if not line.startswith('From '): \n",
    "        continue\n",
    "    else:\n",
    "        words = line.split()\n",
    "        emails.append(words[1])\n",
    "    \n",
    "for c in emails:\n",
    "    d[c] = d.get(c,0) + 1\n",
    "    \n",
    "print(d)"
   ]
  },
  {
   "cell_type": "markdown",
   "metadata": {},
   "source": [
    "Exercise 4: Add code to the above program to figure out who has the most messages in the file. After all the data has been read and the dictionary has been created, look through the dictionary using a maximum loop (see Chapter 5: Maximum and minimum loops) to find who has the most messages and print how many messages the person has.\n",
    "\n",
    "    Enter a file name: mbox-short.txt\n",
    "    cwen@iupui.edu 5\n",
    "\n",
    "    Enter a file name: mbox.txt\n",
    "    zqian@umich.edu 195"
   ]
  },
  {
   "cell_type": "code",
   "execution_count": 7,
   "metadata": {},
   "outputs": [
    {
     "name": "stdout",
     "output_type": "stream",
     "text": [
      "cwen@iupui.edu has sent you the most messeges with a messgae count of 10.\n"
     ]
    }
   ],
   "source": [
    "fhand = open(\"mbox-short.txt\")\n",
    "\n",
    "sender_dict = {}\n",
    "mcs = None\n",
    "mcsv = 0 \n",
    "\n",
    "for line in fhand:\n",
    "    if line.startswith(\"From\"):\n",
    "        try:\n",
    "            sender = line.split()[1]\n",
    "            if sender not in sender_dict:\n",
    "                sender_dict[sender] = 1 \n",
    "            else:\n",
    "                sender_dict[sender] += 1           \n",
    "        except:\n",
    "            continue\n",
    "\n",
    "for key in sender_dict:\n",
    "    if sender_dict[key] > mcsv:  \n",
    "        mcs = key\n",
    "        mcsv = sender_dict[key]\n",
    "        \n",
    "print(f\"{mcs} has sent you the most messeges with a messgae count of {mcsv}.\")\n",
    "fhand.close()"
   ]
  },
  {
   "cell_type": "markdown",
   "metadata": {},
   "source": [
    "## PY4E Ch 10"
   ]
  },
  {
   "cell_type": "markdown",
   "metadata": {},
   "source": [
    "Exercise 1: Revise a previous program as follows: Read and parse the “From” lines and pull out the addresses from the line. Count the number of messages from each person using a dictionary.\n",
    "\n",
    "After all the data has been read, print the person with the most commits by creating a list of (count, email) tuples from the dictionary. Then sort the list in reverse order and print out the person who has the most commits.\n",
    "\n",
    "    Sample Line:\n",
    "    From stephen.marquard@uct.ac.za Sat Jan  5 09:14:16 2008\n",
    "\n",
    "    Enter a file name: mbox-short.txt\n",
    "    cwen@iupui.edu 5\n",
    "\n",
    "    Enter a file name: mbox.txt\n",
    "    zqian@umich.edu 195"
   ]
  },
  {
   "cell_type": "code",
   "execution_count": 8,
   "metadata": {},
   "outputs": [
    {
     "name": "stdout",
     "output_type": "stream",
     "text": [
      "Enter a file name: mbox-short.txt\n",
      "cwen@iupui.edu 5\n"
     ]
    }
   ],
   "source": [
    "#E10.1\n",
    "email = {}\n",
    "list_email = []\n",
    "\n",
    "file = input(\"Enter a file name: \")\n",
    "text = open(file, 'r')\n",
    "\n",
    "for line in text:\n",
    "    if line.startswith('From:'):\n",
    "        try:\n",
    "            curr_email = line.split(' ')[1].rstrip()\n",
    "            if curr_email not in email:\n",
    "                email.update({curr_email: 1})\n",
    "            else:\n",
    "                email[curr_email] += 1\n",
    "        except:\n",
    "            continue\n",
    "\n",
    "\n",
    "for key, val in email.items() :\n",
    "    list_email.append((val, key))\n",
    "tuple_email = tuple(list_email)\n",
    "tuple_email = sorted(tuple_email, reverse = True)\n",
    "most = tuple_email[0]\n",
    "print(most[1], most[0])"
   ]
  },
  {
   "cell_type": "markdown",
   "metadata": {},
   "source": [
    "Exercise 2: This program counts the distribution of the hour of the day for each of the messages. You can pull the hour from the “From” line by finding the time string and then splitting that string into parts using the colon character. Once you have accumulated the counts for each hour, print out the counts, one per line, sorted by hour as shown below.\n",
    "\n",
    "    python timeofday.py\n",
    "    Enter a file name: mbox-short.txt\n",
    "    04 3\n",
    "    06 1\n",
    "    07 1\n",
    "    09 2\n",
    "    10 3\n",
    "    11 6\n",
    "    14 1\n",
    "    15 2\n",
    "    16 4\n",
    "    17 2\n",
    "    18 1\n",
    "    19 1"
   ]
  },
  {
   "cell_type": "code",
   "execution_count": 14,
   "metadata": {},
   "outputs": [
    {
     "name": "stdout",
     "output_type": "stream",
     "text": [
      "Enter the file name: mbox-short.txt\n"
     ]
    },
    {
     "data": {
      "text/plain": [
       "[('04', 3),\n",
       " ('06', 1),\n",
       " ('07', 1),\n",
       " ('09', 2),\n",
       " ('10', 3),\n",
       " ('11', 6),\n",
       " ('14', 1),\n",
       " ('15', 2),\n",
       " ('16', 4),\n",
       " ('17', 2),\n",
       " ('18', 1),\n",
       " ('19', 1)]"
      ]
     },
     "execution_count": 14,
     "metadata": {},
     "output_type": "execute_result"
    }
   ],
   "source": [
    "hours = dict()\n",
    "fname = input('Enter the file name: ')\n",
    "fhand = open(fname)\n",
    "for line in fhand:\n",
    "    if line.startswith(\"From\"):\n",
    "        l = line.split(\" \")\n",
    "        if len(l) >= 5:\n",
    "            time = l[6]\n",
    "            ti = time.split(\":\")\n",
    "            hr = ti[0]\n",
    "            if hr in hours:\n",
    "                hours[hr] = hours[hr] + 1\n",
    "            else:\n",
    "                hours[hr] = 1\n",
    "fhand.close()\n",
    "\n",
    "\n",
    "t = []\n",
    "for key in hours:\n",
    "    value = hours[key]\n",
    "    t.append((key, value))\n",
    "    \n",
    "sorted(t)"
   ]
  },
  {
   "cell_type": "code",
   "execution_count": 11,
   "metadata": {},
   "outputs": [
    {
     "data": {
      "text/plain": [
       "[('09', 2),\n",
       " ('18', 1),\n",
       " ('16', 4),\n",
       " ('15', 2),\n",
       " ('14', 1),\n",
       " ('11', 6),\n",
       " ('10', 3),\n",
       " ('07', 1),\n",
       " ('06', 1),\n",
       " ('04', 3),\n",
       " ('19', 1),\n",
       " ('17', 2)]"
      ]
     },
     "execution_count": 11,
     "metadata": {},
     "output_type": "execute_result"
    }
   ],
   "source": [
    "list(hours.items())"
   ]
  },
  {
   "cell_type": "markdown",
   "metadata": {},
   "source": [
    "## Jeremy's Notebook Exercises\n",
    "\n",
    "1. See if you can modify the code above to count how often each word appears instead."
   ]
  },
  {
   "cell_type": "code",
   "execution_count": 19,
   "metadata": {},
   "outputs": [
    {
     "name": "stdout",
     "output_type": "stream",
     "text": [
      "{'i': 7, 'have': 7, 'been': 2, 'one': 3, 'acquainted': 2, 'with': 2, 'the': 8, 'night.': 2, 'walked': 1, 'out': 1, 'in': 2, 'rain—and': 1, 'back': 2, 'rain.': 1, 'outwalked': 1, 'furthest': 1, 'city': 2, 'light.': 1, 'looked': 1, 'down': 1, 'saddest': 1, 'lane.': 1, 'passed': 1, 'by': 1, 'watchman': 1, 'on': 1, 'his': 1, 'beat': 1, 'and': 3, 'dropped': 1, 'my': 1, 'eyes,': 1, 'unwilling': 1, 'to': 2, 'explain.': 1, 'stood': 1, 'still': 2, 'stopped': 1, 'sound': 1, 'of': 1, 'feet': 1, 'when': 1, 'far': 1, 'away': 1, 'an': 2, 'interrupted': 1, 'cry': 1, 'came': 1, 'over': 1, 'houses': 1, 'from': 1, 'another': 1, 'street,': 1, 'but': 1, 'not': 1, 'call': 1, 'me': 1, 'or': 1, 'say': 1, 'good-bye;': 1, 'further': 1, 'at': 1, 'unearthly': 1, 'height,': 1, 'luminary': 1, 'clock': 1, 'against': 1, 'sky': 1, 'proclaimed': 1, 'time': 1, 'was': 1, 'neither': 1, 'wrong': 1, 'nor': 1, 'right.': 1}\n"
     ]
    }
   ],
   "source": [
    "string = \"\"\"\n",
    "I have been one acquainted with the night.\n",
    "I have walked out in rain—and back in rain.\n",
    "I have outwalked the furthest city light.\n",
    "\n",
    "I have looked down the saddest city lane.\n",
    "I have passed by the watchman on his beat\n",
    "And dropped my eyes, unwilling to explain.\n",
    "\n",
    "I have stood still and stopped the sound of feet\n",
    "When far away an interrupted cry\n",
    "Came over houses from another street,\n",
    "\n",
    "But not to call me back or say good-bye;\n",
    "And further still at an unearthly height,\n",
    "One luminary clock against the sky\n",
    "\n",
    "Proclaimed the time was neither wrong nor right. \n",
    "I have been one acquainted with the night.\n",
    "\"\"\"\n",
    "\n",
    "string = string.lower()\n",
    "## Your code here\n",
    "word_dict = {}\n",
    "words = string.split()\n",
    "\n",
    "for word in words:\n",
    "    if word in word_dict:\n",
    "        word_dict[word] += 1 #I think I know what I did but Idk if I was supposed to use the dictionary\n",
    "    else:\n",
    "        word_dict[word] = 1\n",
    "print(word_dict)"
   ]
  },
  {
   "cell_type": "markdown",
   "metadata": {},
   "source": [
    "2. Reuse and modify the code above so that it prints a dictionary of the total population of cities that start with each letter of the alphabet."
   ]
  },
  {
   "cell_type": "code",
   "execution_count": 21,
   "metadata": {},
   "outputs": [
    {
     "name": "stdout",
     "output_type": "stream",
     "text": [
      "[(('Alabama', 'Abbeville city'), 2560), (('Alabama', 'Adamsville city'), 4281), (('Alabama', 'Addison town'), 718), (('Alabama', 'Akron town'), 328), (('Alabama', 'Alabaster city'), 33487)]\n",
      "Austin city 978908\n",
      "Boston city 692600\n",
      "Chicago city 2693976\n",
      "Dallas city 1343573\n",
      "El Paso city 681728\n",
      "Fort Worth city 909585\n",
      "Greensboro city 296710\n",
      "Houston city 2320268\n",
      "Indianapolis city (balance) 876384\n",
      "Jersey City city 262075\n",
      "Kansas City city 495327\n",
      "Los Angeles city 3979576\n",
      "Milwaukee city 590157\n",
      "New York city 8336817\n",
      "Oklahoma City city 655057\n",
      "Pittsburgh city 300286\n",
      "Queen Creek town 50890\n",
      "Raleigh city 474069\n",
      "San Antonio city 1547253\n",
      "Tucson city 548073\n",
      "Urban Honolulu CDP 345064\n",
      "Virginia Beach city 449974\n",
      "Wichita city 389938\n",
      "Xenia city 26947\n",
      "Yonkers city 200370\n",
      "Zionsville town 28357\n"
     ]
    }
   ],
   "source": [
    "import csv\n",
    "import requests\n",
    "import codecs\n",
    "\n",
    "# This downloads the file and then opens it. You could also save it to your computer, and open it in the normal way\n",
    "f = requests.get('https://raw.githubusercontent.com/jdfoote/Intro-to-Programming-and-Data-Science/master/resources/data/uscities.csv')\n",
    "f_csv = csv.reader(codecs.iterdecode(f.iter_lines(), 'utf-8'))\n",
    "next(f_csv) # This just skips the header row, so it isn't in our data\n",
    "\n",
    "population_dict = {}\n",
    "for row in f_csv:\n",
    "     # To get these numbers, I just opened the CSV file and looked at which columns had this data\n",
    "    city = row[1]\n",
    "    state = row[2]\n",
    "    population = int(row[0])\n",
    "    if (state, city) in population_dict: # Check for the same city twice in the same state\n",
    "        print(f\"{(state, city)} appears twice in the data\")\n",
    "    else:\n",
    "        population_dict[(state, city)] = population\n",
    "\n",
    "# This code prints the first few items in the dictionary, to make sure it looks like it's right\n",
    "print(list(population_dict.items())[:5])\n",
    "city_populations = {}\n",
    "alphabet = 'abcdefghijklmnopqrstuvwxyz'\n",
    "upper = alphabet.upper()\n",
    "city_top = {}\n",
    "\n",
    "\n",
    "for cities in population_dict:\n",
    "    city = cities[1] \n",
    "    city_num = population_dict[cities] \n",
    "    city_populations[city] = city_num\n",
    "\n",
    "\n",
    "for letter in upper:\n",
    "    temp = {}\n",
    "    for key, val in city_populations.items():\n",
    "        if key[0] == letter:\n",
    "            temp[key] = val\n",
    "        else:\n",
    "            continue\n",
    "    most = max(temp, key=temp.get)\n",
    "    values = temp.values()\n",
    "    max_value = max(values)\n",
    "    print(most, max_value)\n"
   ]
  },
  {
   "cell_type": "code",
   "execution_count": 24,
   "metadata": {},
   "outputs": [
    {
     "name": "stdout",
     "output_type": "stream",
     "text": [
      "{'a': 10205308, 'b': 12556367, 'c': 19334831, 'd': 8004522, 'e': 5776253, 'f': 7887257, 'g': 6978634, 'h': 9657570, 'i': 2537573, 'j': 3115112, 'k': 3357584, 'l': 15896771, 'm': 15038400, 'n': 15665179, 'o': 5766337, 'p': 13478110, 'r': 7750171, 's': 23085235, 't': 6159462, 'u': 1158915, 'v': 2185529, 'w': 9914670, 'y': 952731, 'q': 244256, 'z': 150757, 'x': 27315}\n"
     ]
    }
   ],
   "source": [
    "city_letters = {}\n",
    "for state_city in population_dict:\n",
    "    city = state_city[1].lower()\n",
    "    letter = city[0]\n",
    "    if letter in city_letters:\n",
    "        city_letters[letter] += population_dict[state_city]\n",
    "    else:\n",
    "        city_letters[letter] = population_dict[state_city]\n",
    "print(city_letters)"
   ]
  },
  {
   "cell_type": "code",
   "execution_count": 26,
   "metadata": {},
   "outputs": [
    {
     "name": "stdout",
     "output_type": "stream",
     "text": [
      "{'A': 10205308, 'B': 12556367, 'C': 19334831, 'D': 8004522, 'E': 5776253, 'F': 7887257, 'G': 6978634, 'H': 9657570, 'I': 2537573, 'J': 3115112, 'K': 3357584, 'L': 15896771, 'M': 15038400, 'N': 15665179, 'O': 5766337, 'P': 13478110, 'R': 7750171, 'S': 23085235, 'T': 6159462, 'U': 1158915, 'V': 2185529, 'W': 9914670, 'Y': 952731, 'Q': 244256, 'Z': 150757, 'X': 27315}\n"
     ]
    }
   ],
   "source": [
    "city_populations = {}\n",
    "for state_city in population_dict:\n",
    "    city = state_city[1] \n",
    "    city_pop = population_dict[state_city] \n",
    "    for letter in \"ABCDEFGHIJKLMNOPQRSTUVWXYZ\":\n",
    "        if city.startswith(letter):\n",
    "            if letter in city_populations:\n",
    "                city_populations[letter] = city_populations[letter] + city_pop  ## can we confirm this?\n",
    "            else:\n",
    "                city_populations[letter] = city_pop\n",
    "#            city_populations[letter] = city_populations.get(letter,0) + city_pop  ## can we confirm this?\n",
    "print(city_populations)"
   ]
  },
  {
   "cell_type": "markdown",
   "metadata": {},
   "source": [
    "## Babynames\n",
    "\n",
    "\n",
    "Search for your own name. Are there both boys and girls that have your name? Is it more popular for one group than for the other?\n"
   ]
  },
  {
   "cell_type": "code",
   "execution_count": null,
   "metadata": {},
   "outputs": [],
   "source": []
  },
  {
   "cell_type": "markdown",
   "metadata": {},
   "source": [
    "\n",
    "Are there more boys' names or girls' names? What about for particular first letters? What about for ''every'' first letter?\n"
   ]
  },
  {
   "cell_type": "code",
   "execution_count": null,
   "metadata": {},
   "outputs": [],
   "source": []
  },
  {
   "cell_type": "markdown",
   "metadata": {},
   "source": [
    "What is the longest name in the dataset?\n"
   ]
  },
  {
   "cell_type": "code",
   "execution_count": 29,
   "metadata": {},
   "outputs": [],
   "source": [
    "NAMES_LIST = \"babynames/yob2018.txt\"\n",
    "\n",
    "boys = {}\n",
    "girls = {}\n",
    "\n",
    "for line in open(NAMES_LIST, 'r').readlines():\n",
    "    name, gender, count = line.strip().split(\",\")\n",
    "    count = int(count)\n",
    "\n",
    "    if gender == \"F\":\n",
    "        girls[name.lower()] = count\n",
    "    elif gender == \"M\":\n",
    "        boys[name.lower()] = count"
   ]
  },
  {
   "cell_type": "markdown",
   "metadata": {},
   "source": [
    "What is the most common name and how often does it occur?"
   ]
  },
  {
   "cell_type": "code",
   "execution_count": 39,
   "metadata": {},
   "outputs": [
    {
     "name": "stdout",
     "output_type": "stream",
     "text": [
      "liam 19837\n"
     ]
    },
    {
     "data": {
      "text/plain": [
       "'liam'"
      ]
     },
     "execution_count": 39,
     "metadata": {},
     "output_type": "execute_result"
    }
   ],
   "source": [
    "most_common_count = 0\n",
    "most_common_name = ''\n",
    "for key in boys:\n",
    "    value = boys[key]\n",
    "    if value > most_common_count:\n",
    "        most_common_count = value\n",
    "        most_common_name = key\n",
    "print(most_common_name, most_common_count)\n"
   ]
  },
  {
   "cell_type": "markdown",
   "metadata": {},
   "source": [
    "What is the least common name and how often does it occur? Does that concern you?"
   ]
  },
  {
   "cell_type": "code",
   "execution_count": null,
   "metadata": {},
   "outputs": [],
   "source": []
  },
  {
   "cell_type": "markdown",
   "metadata": {},
   "source": [
    "How many boys and girls are described in the dataset (i.e., how many boys and girls born in 2018 have names given to at least four others)?\n"
   ]
  },
  {
   "cell_type": "code",
   "execution_count": null,
   "metadata": {},
   "outputs": [],
   "source": []
  },
  {
   "cell_type": "markdown",
   "metadata": {},
   "source": [
    "How many boys' names are also girls' names? How many girls' names are also boys' names?"
   ]
  },
  {
   "cell_type": "code",
   "execution_count": null,
   "metadata": {},
   "outputs": [],
   "source": []
  },
  {
   "cell_type": "markdown",
   "metadata": {},
   "source": [
    "How many names are subsets of other names?"
   ]
  },
  {
   "cell_type": "code",
   "execution_count": 32,
   "metadata": {},
   "outputs": [
    {
     "name": "stdout",
     "output_type": "stream",
     "text": [
      "Names as subsets of other names in boys: 30327\n",
      "Names as subsets of other names in girls: 61299\n"
     ]
    }
   ],
   "source": [
    "# NOT WORKING\n",
    "def subset_names(kids):\n",
    "    count = 0\n",
    "    for name in kids.keys():\n",
    "        for subname in kids.keys():\n",
    "            if subname in name and subname != name:\n",
    "                count += 1\n",
    "    return count\n",
    "\n",
    "print(\"Names as subsets of other names in boys: \" + str(subset_names(boys)))\n",
    "print(\"Names as subsets of other names in girls: \" + str(subset_names(girls)))"
   ]
  },
  {
   "cell_type": "code",
   "execution_count": 34,
   "metadata": {},
   "outputs": [
    {
     "name": "stdout",
     "output_type": "stream",
     "text": [
      "3467\n",
      "5948\n",
      "3467\n"
     ]
    },
    {
     "ename": "KeyboardInterrupt",
     "evalue": "",
     "output_type": "error",
     "traceback": [
      "\u001b[0;31m------------------------------------------------------------------\u001b[0m",
      "\u001b[0;31mKeyboardInterrupt\u001b[0m                Traceback (most recent call last)",
      "\u001b[0;32m<ipython-input-34-46828cbf99c7>\u001b[0m in \u001b[0;36m<module>\u001b[0;34m\u001b[0m\n\u001b[0;32m----> 1\u001b[0;31m \u001b[0mget_ipython\u001b[0m\u001b[0;34m(\u001b[0m\u001b[0;34m)\u001b[0m\u001b[0;34m.\u001b[0m\u001b[0mrun_cell_magic\u001b[0m\u001b[0;34m(\u001b[0m\u001b[0;34m'timeit'\u001b[0m\u001b[0;34m,\u001b[0m \u001b[0;34m''\u001b[0m\u001b[0;34m,\u001b[0m \u001b[0;34m'boys_subsets = 0\\nfor name in boys:\\n    match = False\\n    for anothername in boys:\\n        if not match and name in anothername and anothername != name:\\n            boys_subsets = boys_subsets + 1\\n            break\\n\\nprint(f\"{boys_subsets}\")\\n\\ngirls_subsets = 0\\nfor name in girls:\\n    match = False\\n    for anothername in girls:\\n        if not match and name in anothername and anothername != name:\\n            girls_subsets = girls_subsets + 1\\n            break\\n\\nprint(f\"{girls_subsets}\")\\n'\u001b[0m\u001b[0;34m)\u001b[0m\u001b[0;34m\u001b[0m\u001b[0;34m\u001b[0m\u001b[0m\n\u001b[0m",
      "\u001b[0;32m~/anaconda3/lib/python3.7/site-packages/IPython/core/interactiveshell.py\u001b[0m in \u001b[0;36mrun_cell_magic\u001b[0;34m(self, magic_name, line, cell)\u001b[0m\n\u001b[1;32m   2357\u001b[0m             \u001b[0;32mwith\u001b[0m \u001b[0mself\u001b[0m\u001b[0;34m.\u001b[0m\u001b[0mbuiltin_trap\u001b[0m\u001b[0;34m:\u001b[0m\u001b[0;34m\u001b[0m\u001b[0;34m\u001b[0m\u001b[0m\n\u001b[1;32m   2358\u001b[0m                 \u001b[0margs\u001b[0m \u001b[0;34m=\u001b[0m \u001b[0;34m(\u001b[0m\u001b[0mmagic_arg_s\u001b[0m\u001b[0;34m,\u001b[0m \u001b[0mcell\u001b[0m\u001b[0;34m)\u001b[0m\u001b[0;34m\u001b[0m\u001b[0;34m\u001b[0m\u001b[0m\n\u001b[0;32m-> 2359\u001b[0;31m                 \u001b[0mresult\u001b[0m \u001b[0;34m=\u001b[0m \u001b[0mfn\u001b[0m\u001b[0;34m(\u001b[0m\u001b[0;34m*\u001b[0m\u001b[0margs\u001b[0m\u001b[0;34m,\u001b[0m \u001b[0;34m**\u001b[0m\u001b[0mkwargs\u001b[0m\u001b[0;34m)\u001b[0m\u001b[0;34m\u001b[0m\u001b[0;34m\u001b[0m\u001b[0m\n\u001b[0m\u001b[1;32m   2360\u001b[0m             \u001b[0;32mreturn\u001b[0m \u001b[0mresult\u001b[0m\u001b[0;34m\u001b[0m\u001b[0;34m\u001b[0m\u001b[0m\n\u001b[1;32m   2361\u001b[0m \u001b[0;34m\u001b[0m\u001b[0m\n",
      "\u001b[0;32m</home/jeremy/anaconda3/lib/python3.7/site-packages/decorator.py:decorator-gen-60>\u001b[0m in \u001b[0;36mtimeit\u001b[0;34m(self, line, cell, local_ns)\u001b[0m\n",
      "\u001b[0;32m~/anaconda3/lib/python3.7/site-packages/IPython/core/magic.py\u001b[0m in \u001b[0;36m<lambda>\u001b[0;34m(f, *a, **k)\u001b[0m\n\u001b[1;32m    185\u001b[0m     \u001b[0;31m# but it's overkill for just that one bit of state.\u001b[0m\u001b[0;34m\u001b[0m\u001b[0;34m\u001b[0m\u001b[0;34m\u001b[0m\u001b[0m\n\u001b[1;32m    186\u001b[0m     \u001b[0;32mdef\u001b[0m \u001b[0mmagic_deco\u001b[0m\u001b[0;34m(\u001b[0m\u001b[0marg\u001b[0m\u001b[0;34m)\u001b[0m\u001b[0;34m:\u001b[0m\u001b[0;34m\u001b[0m\u001b[0;34m\u001b[0m\u001b[0m\n\u001b[0;32m--> 187\u001b[0;31m         \u001b[0mcall\u001b[0m \u001b[0;34m=\u001b[0m \u001b[0;32mlambda\u001b[0m \u001b[0mf\u001b[0m\u001b[0;34m,\u001b[0m \u001b[0;34m*\u001b[0m\u001b[0ma\u001b[0m\u001b[0;34m,\u001b[0m \u001b[0;34m**\u001b[0m\u001b[0mk\u001b[0m\u001b[0;34m:\u001b[0m \u001b[0mf\u001b[0m\u001b[0;34m(\u001b[0m\u001b[0;34m*\u001b[0m\u001b[0ma\u001b[0m\u001b[0;34m,\u001b[0m \u001b[0;34m**\u001b[0m\u001b[0mk\u001b[0m\u001b[0;34m)\u001b[0m\u001b[0;34m\u001b[0m\u001b[0;34m\u001b[0m\u001b[0m\n\u001b[0m\u001b[1;32m    188\u001b[0m \u001b[0;34m\u001b[0m\u001b[0m\n\u001b[1;32m    189\u001b[0m         \u001b[0;32mif\u001b[0m \u001b[0mcallable\u001b[0m\u001b[0;34m(\u001b[0m\u001b[0marg\u001b[0m\u001b[0;34m)\u001b[0m\u001b[0;34m:\u001b[0m\u001b[0;34m\u001b[0m\u001b[0;34m\u001b[0m\u001b[0m\n",
      "\u001b[0;32m~/anaconda3/lib/python3.7/site-packages/IPython/core/magics/execution.py\u001b[0m in \u001b[0;36mtimeit\u001b[0;34m(self, line, cell, local_ns)\u001b[0m\n\u001b[1;32m   1160\u001b[0m                     \u001b[0;32mbreak\u001b[0m\u001b[0;34m\u001b[0m\u001b[0;34m\u001b[0m\u001b[0m\n\u001b[1;32m   1161\u001b[0m \u001b[0;34m\u001b[0m\u001b[0m\n\u001b[0;32m-> 1162\u001b[0;31m         \u001b[0mall_runs\u001b[0m \u001b[0;34m=\u001b[0m \u001b[0mtimer\u001b[0m\u001b[0;34m.\u001b[0m\u001b[0mrepeat\u001b[0m\u001b[0;34m(\u001b[0m\u001b[0mrepeat\u001b[0m\u001b[0;34m,\u001b[0m \u001b[0mnumber\u001b[0m\u001b[0;34m)\u001b[0m\u001b[0;34m\u001b[0m\u001b[0;34m\u001b[0m\u001b[0m\n\u001b[0m\u001b[1;32m   1163\u001b[0m         \u001b[0mbest\u001b[0m \u001b[0;34m=\u001b[0m \u001b[0mmin\u001b[0m\u001b[0;34m(\u001b[0m\u001b[0mall_runs\u001b[0m\u001b[0;34m)\u001b[0m \u001b[0;34m/\u001b[0m \u001b[0mnumber\u001b[0m\u001b[0;34m\u001b[0m\u001b[0;34m\u001b[0m\u001b[0m\n\u001b[1;32m   1164\u001b[0m         \u001b[0mworst\u001b[0m \u001b[0;34m=\u001b[0m \u001b[0mmax\u001b[0m\u001b[0;34m(\u001b[0m\u001b[0mall_runs\u001b[0m\u001b[0;34m)\u001b[0m \u001b[0;34m/\u001b[0m \u001b[0mnumber\u001b[0m\u001b[0;34m\u001b[0m\u001b[0;34m\u001b[0m\u001b[0m\n",
      "\u001b[0;32m~/anaconda3/lib/python3.7/timeit.py\u001b[0m in \u001b[0;36mrepeat\u001b[0;34m(self, repeat, number)\u001b[0m\n\u001b[1;32m    202\u001b[0m         \u001b[0mr\u001b[0m \u001b[0;34m=\u001b[0m \u001b[0;34m[\u001b[0m\u001b[0;34m]\u001b[0m\u001b[0;34m\u001b[0m\u001b[0;34m\u001b[0m\u001b[0m\n\u001b[1;32m    203\u001b[0m         \u001b[0;32mfor\u001b[0m \u001b[0mi\u001b[0m \u001b[0;32min\u001b[0m \u001b[0mrange\u001b[0m\u001b[0;34m(\u001b[0m\u001b[0mrepeat\u001b[0m\u001b[0;34m)\u001b[0m\u001b[0;34m:\u001b[0m\u001b[0;34m\u001b[0m\u001b[0;34m\u001b[0m\u001b[0m\n\u001b[0;32m--> 204\u001b[0;31m             \u001b[0mt\u001b[0m \u001b[0;34m=\u001b[0m \u001b[0mself\u001b[0m\u001b[0;34m.\u001b[0m\u001b[0mtimeit\u001b[0m\u001b[0;34m(\u001b[0m\u001b[0mnumber\u001b[0m\u001b[0;34m)\u001b[0m\u001b[0;34m\u001b[0m\u001b[0;34m\u001b[0m\u001b[0m\n\u001b[0m\u001b[1;32m    205\u001b[0m             \u001b[0mr\u001b[0m\u001b[0;34m.\u001b[0m\u001b[0mappend\u001b[0m\u001b[0;34m(\u001b[0m\u001b[0mt\u001b[0m\u001b[0;34m)\u001b[0m\u001b[0;34m\u001b[0m\u001b[0;34m\u001b[0m\u001b[0m\n\u001b[1;32m    206\u001b[0m         \u001b[0;32mreturn\u001b[0m \u001b[0mr\u001b[0m\u001b[0;34m\u001b[0m\u001b[0;34m\u001b[0m\u001b[0m\n",
      "\u001b[0;32m~/anaconda3/lib/python3.7/site-packages/IPython/core/magics/execution.py\u001b[0m in \u001b[0;36mtimeit\u001b[0;34m(self, number)\u001b[0m\n\u001b[1;32m    167\u001b[0m         \u001b[0mgc\u001b[0m\u001b[0;34m.\u001b[0m\u001b[0mdisable\u001b[0m\u001b[0;34m(\u001b[0m\u001b[0;34m)\u001b[0m\u001b[0;34m\u001b[0m\u001b[0;34m\u001b[0m\u001b[0m\n\u001b[1;32m    168\u001b[0m         \u001b[0;32mtry\u001b[0m\u001b[0;34m:\u001b[0m\u001b[0;34m\u001b[0m\u001b[0;34m\u001b[0m\u001b[0m\n\u001b[0;32m--> 169\u001b[0;31m             \u001b[0mtiming\u001b[0m \u001b[0;34m=\u001b[0m \u001b[0mself\u001b[0m\u001b[0;34m.\u001b[0m\u001b[0minner\u001b[0m\u001b[0;34m(\u001b[0m\u001b[0mit\u001b[0m\u001b[0;34m,\u001b[0m \u001b[0mself\u001b[0m\u001b[0;34m.\u001b[0m\u001b[0mtimer\u001b[0m\u001b[0;34m)\u001b[0m\u001b[0;34m\u001b[0m\u001b[0;34m\u001b[0m\u001b[0m\n\u001b[0m\u001b[1;32m    170\u001b[0m         \u001b[0;32mfinally\u001b[0m\u001b[0;34m:\u001b[0m\u001b[0;34m\u001b[0m\u001b[0;34m\u001b[0m\u001b[0m\n\u001b[1;32m    171\u001b[0m             \u001b[0;32mif\u001b[0m \u001b[0mgcold\u001b[0m\u001b[0;34m:\u001b[0m\u001b[0;34m\u001b[0m\u001b[0;34m\u001b[0m\u001b[0m\n",
      "\u001b[0;32m<magic-timeit>\u001b[0m in \u001b[0;36minner\u001b[0;34m(_it, _timer)\u001b[0m\n",
      "\u001b[0;31mKeyboardInterrupt\u001b[0m: "
     ]
    }
   ],
   "source": [
    "%%timeit\n",
    "boys_subsets = 0\n",
    "for name in boys:\n",
    "    match = False\n",
    "    for anothername in boys:\n",
    "        if not match and name in anothername and anothername != name:\n",
    "            boys_subsets = boys_subsets + 1\n",
    "            break\n",
    "\n",
    "print(f\"{boys_subsets}\")\n",
    "\n",
    "girls_subsets = 0\n",
    "for name in girls:\n",
    "    match = False\n",
    "    for anothername in girls:\n",
    "        if not match and name in anothername and anothername != name:\n",
    "            girls_subsets = girls_subsets + 1\n",
    "            break\n",
    "\n",
    "print(f\"{girls_subsets}\")"
   ]
  },
  {
   "cell_type": "markdown",
   "metadata": {},
   "source": [
    "\n",
    "What is the most popular girls' name that is also a boys' name?\n"
   ]
  },
  {
   "cell_type": "code",
   "execution_count": null,
   "metadata": {},
   "outputs": [],
   "source": []
  },
  {
   "cell_type": "markdown",
   "metadata": {},
   "source": [
    "Write a function that takes a prefix as input and prints the number of boys and girls with that prefix (e.g., get_names(\"m\") would list all names that start with \"m\" and get_names(\"ma\") would only list those that start with \"ma\")."
   ]
  },
  {
   "cell_type": "code",
   "execution_count": null,
   "metadata": {},
   "outputs": [],
   "source": []
  }
 ],
 "metadata": {
  "kernelspec": {
   "display_name": "Python 3",
   "language": "python",
   "name": "python3"
  },
  "language_info": {
   "codemirror_mode": {
    "name": "ipython",
    "version": 3
   },
   "file_extension": ".py",
   "mimetype": "text/x-python",
   "name": "python",
   "nbconvert_exporter": "python",
   "pygments_lexer": "ipython3",
   "version": "3.7.4"
  }
 },
 "nbformat": 4,
 "nbformat_minor": 2
}
