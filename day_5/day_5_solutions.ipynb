{
 "cells": [
  {
   "cell_type": "markdown",
   "metadata": {},
   "source": [
    "## PY4E Ch 9"
   ]
  },
  {
   "cell_type": "markdown",
   "metadata": {},
   "source": [
    "Exercise 2: Write a program that categorizes each mail message by which day of the week the commit was done. To do this look for lines that start with “From”, then look for the third word and keep a running count of each of the days of the week. At the end of the program print out the contents of your dictionary (order does not matter).\n",
    "\n",
    "Sample Line:\n",
    "\n",
    "    From stephen.marquard@uct.ac.za Sat Jan  5 09:14:16 2008\n",
    "\n",
    "Sample Execution:\n",
    "\n",
    "    python dow.py\n",
    "    Enter a file name: mbox-short.txt\n",
    "    {'Fri': 20, 'Thu': 6, 'Sat': 1}"
   ]
  },
  {
   "cell_type": "code",
   "execution_count": null,
   "metadata": {},
   "outputs": [],
   "source": []
  },
  {
   "cell_type": "markdown",
   "metadata": {},
   "source": [
    "Exercise 3: Write a program to read through a mail log, build a histogram using a dictionary to count how many messages have come from each email address, and print the dictionary.\n",
    "\n",
    "    Enter file name: mbox-short.txt\n",
    "    {'gopal.ramasammycook@gmail.com': 1, 'louis@media.berkeley.edu': 3,\n",
    "    'cwen@iupui.edu': 5, 'antranig@caret.cam.ac.uk': 1,\n",
    "    'rjlowe@iupui.edu': 2, 'gsilver@umich.edu': 3,\n",
    "    'david.horwitz@uct.ac.za': 4, 'wagnermr@iupui.edu': 1,\n",
    "    'zqian@umich.edu': 4, 'stephen.marquard@uct.ac.za': 2,\n",
    "    'ray@media.berkeley.edu': 1}"
   ]
  },
  {
   "cell_type": "code",
   "execution_count": null,
   "metadata": {},
   "outputs": [],
   "source": []
  },
  {
   "cell_type": "markdown",
   "metadata": {},
   "source": [
    "Exercise 4: Add code to the above program to figure out who has the most messages in the file. After all the data has been read and the dictionary has been created, look through the dictionary using a maximum loop (see Chapter 5: Maximum and minimum loops) to find who has the most messages and print how many messages the person has.\n",
    "\n",
    "    Enter a file name: mbox-short.txt\n",
    "    cwen@iupui.edu 5\n",
    "\n",
    "    Enter a file name: mbox.txt\n",
    "    zqian@umich.edu 195"
   ]
  },
  {
   "cell_type": "markdown",
   "metadata": {},
   "source": [
    "## PY4E Ch 10"
   ]
  },
  {
   "cell_type": "markdown",
   "metadata": {},
   "source": [
    "Exercise 1: Revise a previous program as follows: Read and parse the “From” lines and pull out the addresses from the line. Count the number of messages from each person using a dictionary.\n",
    "\n",
    "After all the data has been read, print the person with the most commits by creating a list of (count, email) tuples from the dictionary. Then sort the list in reverse order and print out the person who has the most commits.\n",
    "\n",
    "    Sample Line:\n",
    "    From stephen.marquard@uct.ac.za Sat Jan  5 09:14:16 2008\n",
    "\n",
    "    Enter a file name: mbox-short.txt\n",
    "    cwen@iupui.edu 5\n",
    "\n",
    "    Enter a file name: mbox.txt\n",
    "    zqian@umich.edu 195"
   ]
  },
  {
   "cell_type": "code",
   "execution_count": null,
   "metadata": {},
   "outputs": [],
   "source": []
  },
  {
   "cell_type": "markdown",
   "metadata": {},
   "source": [
    "Exercise 2: This program counts the distribution of the hour of the day for each of the messages. You can pull the hour from the “From” line by finding the time string and then splitting that string into parts using the colon character. Once you have accumulated the counts for each hour, print out the counts, one per line, sorted by hour as shown below.\n",
    "\n",
    "    python timeofday.py\n",
    "    Enter a file name: mbox-short.txt\n",
    "    04 3\n",
    "    06 1\n",
    "    07 1\n",
    "    09 2\n",
    "    10 3\n",
    "    11 6\n",
    "    14 1\n",
    "    15 2\n",
    "    16 4\n",
    "    17 2\n",
    "    18 1\n",
    "    19 1"
   ]
  },
  {
   "cell_type": "markdown",
   "metadata": {},
   "source": [
    "## Jeremy's Notebook Exercises\n",
    "\n",
    "1. See if you can modify the code above to count how often each word appears instead."
   ]
  },
  {
   "cell_type": "code",
   "execution_count": null,
   "metadata": {},
   "outputs": [],
   "source": [
    "string = \"\"\"\n",
    "I have been one acquainted with the night.\n",
    "I have walked out in rain—and back in rain.\n",
    "I have outwalked the furthest city light.\n",
    "\n",
    "I have looked down the saddest city lane.\n",
    "I have passed by the watchman on his beat\n",
    "And dropped my eyes, unwilling to explain.\n",
    "\n",
    "I have stood still and stopped the sound of feet\n",
    "When far away an interrupted cry\n",
    "Came over houses from another street,\n",
    "\n",
    "But not to call me back or say good-bye;\n",
    "And further still at an unearthly height,\n",
    "One luminary clock against the sky\n",
    "\n",
    "Proclaimed the time was neither wrong nor right. \n",
    "I have been one acquainted with the night.\n",
    "\"\"\"\n",
    "\n",
    "string = string.lower()\n",
    "## Your code here\n"
   ]
  },
  {
   "cell_type": "markdown",
   "metadata": {},
   "source": [
    "2. Reuse and modify the code above so that it prints a dictionary of the total population of cities that start with each letter of the alphabet."
   ]
  },
  {
   "cell_type": "code",
   "execution_count": null,
   "metadata": {},
   "outputs": [],
   "source": []
  },
  {
   "cell_type": "markdown",
   "metadata": {},
   "source": [
    "## Babynames\n",
    "\n",
    "\n",
    "Search for your own name. Are there both boys and girls that have your name? Is it more popular for one group than for the other?\n"
   ]
  },
  {
   "cell_type": "code",
   "execution_count": null,
   "metadata": {},
   "outputs": [],
   "source": []
  },
  {
   "cell_type": "markdown",
   "metadata": {},
   "source": [
    "\n",
    "Are there more boys' names or girls' names? What about for particular first letters? What about for ''every'' first letter?\n"
   ]
  },
  {
   "cell_type": "code",
   "execution_count": null,
   "metadata": {},
   "outputs": [],
   "source": []
  },
  {
   "cell_type": "markdown",
   "metadata": {},
   "source": [
    "What is the longest name in the dataset?\n"
   ]
  },
  {
   "cell_type": "code",
   "execution_count": null,
   "metadata": {},
   "outputs": [],
   "source": []
  },
  {
   "cell_type": "markdown",
   "metadata": {},
   "source": [
    "What is the most common name and how often does it occur?"
   ]
  },
  {
   "cell_type": "code",
   "execution_count": null,
   "metadata": {},
   "outputs": [],
   "source": []
  },
  {
   "cell_type": "markdown",
   "metadata": {},
   "source": [
    "What is the least common name and how often does it occur? Does that concern you?"
   ]
  },
  {
   "cell_type": "code",
   "execution_count": null,
   "metadata": {},
   "outputs": [],
   "source": []
  },
  {
   "cell_type": "markdown",
   "metadata": {},
   "source": [
    "How many boys and girls are described in the dataset (i.e., how many boys and girls born in 2018 have names given to at least four others)?\n"
   ]
  },
  {
   "cell_type": "code",
   "execution_count": null,
   "metadata": {},
   "outputs": [],
   "source": []
  },
  {
   "cell_type": "markdown",
   "metadata": {},
   "source": [
    "How many boys' names are also girls' names? How many girls' names are also boys' names?"
   ]
  },
  {
   "cell_type": "code",
   "execution_count": null,
   "metadata": {},
   "outputs": [],
   "source": []
  },
  {
   "cell_type": "markdown",
   "metadata": {},
   "source": [
    "How many names are subsets of other names?"
   ]
  },
  {
   "cell_type": "code",
   "execution_count": null,
   "metadata": {},
   "outputs": [],
   "source": []
  },
  {
   "cell_type": "markdown",
   "metadata": {},
   "source": [
    "\n",
    "What is the most popular girls' name that is also a boys' name?\n"
   ]
  },
  {
   "cell_type": "code",
   "execution_count": null,
   "metadata": {},
   "outputs": [],
   "source": []
  },
  {
   "cell_type": "markdown",
   "metadata": {},
   "source": [
    "Write a function that takes a prefix as input and prints the number of boys and girls with that prefix (e.g., get_names(\"m\") would list all names that start with \"m\" and get_names(\"ma\") would only list those that start with \"ma\")."
   ]
  },
  {
   "cell_type": "code",
   "execution_count": null,
   "metadata": {},
   "outputs": [],
   "source": []
  }
 ],
 "metadata": {
  "kernelspec": {
   "display_name": "Python 3",
   "language": "python",
   "name": "python3"
  },
  "language_info": {
   "codemirror_mode": {
    "name": "ipython",
    "version": 3
   },
   "file_extension": ".py",
   "mimetype": "text/x-python",
   "name": "python",
   "nbconvert_exporter": "python",
   "pygments_lexer": "ipython3",
   "version": "3.7.4"
  }
 },
 "nbformat": 4,
 "nbformat_minor": 2
}
