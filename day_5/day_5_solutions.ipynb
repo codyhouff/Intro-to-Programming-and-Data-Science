{
 "cells": [
  {
   "cell_type": "markdown",
   "metadata": {},
   "source": [
    "## PY4E Ch 9"
   ]
  },
  {
   "cell_type": "markdown",
   "metadata": {},
   "source": [
    "Exercise 2: Write a program that categorizes each mail message by which day of the week the commit was done. To do this look for lines that start with “From”, then look for the third word and keep a running count of each of the days of the week. At the end of the program print out the contents of your dictionary (order does not matter).\n",
    "\n",
    "Sample Line:\n",
    "\n",
    "``` \n",
    "From stephen.marquard@uct.ac.za Sat Jan  5 09:14:16 2008\n",
    "```\n",
    "\n",
    "Sample Execution:\n",
    "\n",
    "```python\n",
    "    python dow.py\n",
    "    Enter a file name: mbox-short.txt\n",
    "    {'Fri': 20, 'Thu': 6, 'Sat': 1}\n",
    "```"
   ]
  },
  {
   "cell_type": "code",
   "execution_count": 5,
   "metadata": {},
   "outputs": [],
   "source": [
    "d = {'Fri': 20, 'Thu': 6, 'Sat': 1}\n",
    "\n",
    "data = ['Fri', 'Mon', 'Sun', 'Fri', 'Sat']\n",
    "\n",
    "for day in data:\n",
    "    d[day] = d.get(day, 0) + 1"
   ]
  },
  {
   "cell_type": "code",
   "execution_count": 7,
   "metadata": {},
   "outputs": [
    {
     "data": {
      "text/plain": [
       "2"
      ]
     },
     "execution_count": 7,
     "metadata": {},
     "output_type": "execute_result"
    }
   ],
   "source": [
    "d.get('Sat')"
   ]
  },
  {
   "cell_type": "code",
   "execution_count": 3,
   "metadata": {},
   "outputs": [
    {
     "data": {
      "text/plain": [
       "'\\nThis is just a comment.\\n\\nAnd here\\n'"
      ]
     },
     "execution_count": 3,
     "metadata": {},
     "output_type": "execute_result"
    }
   ],
   "source": [
    "s"
   ]
  },
  {
   "cell_type": "code",
   "execution_count": 11,
   "metadata": {},
   "outputs": [
    {
     "name": "stdout",
     "output_type": "stream",
     "text": [
      "{'Sat': 1, 'Fri': 20, 'Thu': 6}\n"
     ]
    }
   ],
   "source": [
    "#fname = input('Enter a file name:')\n",
    "fname = 'mbox-short.txt'\n",
    "\n",
    "result = {}\n",
    "with open(fname, 'r') as f:\n",
    "    for line in f.readlines():\n",
    "        if line.startswith('From '):\n",
    "            line = line.split()\n",
    "            date = line[2]\n",
    "            if date not in ['Mon', 'Tue', 'Wed', 'Thu', 'Fri','Sat', 'Sun']:\n",
    "                print(f\"Bad line: {line}\")\n",
    "                continue\n",
    "            if date not in result:\n",
    "                result[date] = 0\n",
    "            result[date] = result[date] + 1\n",
    "            \n",
    "print(result)\n",
    "        "
   ]
  },
  {
   "cell_type": "markdown",
   "metadata": {},
   "source": [
    "Exercise 3: Write a program to read through a mail log, build a histogram using a dictionary to count how many messages have come from each email address, and print the dictionary.\n",
    "\n",
    "    Enter file name: mbox-short.txt\n",
    "    {'gopal.ramasammycook@gmail.com': 1, 'louis@media.berkeley.edu': 3,\n",
    "    'cwen@iupui.edu': 5, 'antranig@caret.cam.ac.uk': 1,\n",
    "    'rjlowe@iupui.edu': 2, 'gsilver@umich.edu': 3,\n",
    "    'david.horwitz@uct.ac.za': 4, 'wagnermr@iupui.edu': 1,\n",
    "    'zqian@umich.edu': 4, 'stephen.marquard@uct.ac.za': 2,\n",
    "    'ray@media.berkeley.edu': 1}"
   ]
  },
  {
   "cell_type": "code",
   "execution_count": 20,
   "metadata": {},
   "outputs": [
    {
     "name": "stdout",
     "output_type": "stream",
     "text": [
      "{'stephen.marquard@uct.ac.za': 2, 'louis@media.berkeley.edu': 3, 'zqian@umich.edu': 4, 'rjlowe@iupui.edu': 2, 'cwen@iupui.edu': 5, 'gsilver@umich.edu': 3, 'wagnermr@iupui.edu': 1, 'antranig@caret.cam.ac.uk': 1, 'gopal.ramasammycook@gmail.com': 1, 'david.horwitz@uct.ac.za': 4, 'ray@media.berkeley.edu': 1}\n"
     ]
    }
   ],
   "source": [
    "fname = 'mbox-short.txt'\n",
    "\n",
    "result = {}\n",
    "with open(fname, 'r') as f:\n",
    "    for line in f.readlines():\n",
    "        if line.startswith('From '):\n",
    "            line = line.split()\n",
    "            email = line[1]\n",
    "            if \"@\" not in email:\n",
    "                print(f\"Bad line: {line}\")\n",
    "                continue\n",
    "            if email not in result:\n",
    "                result[email] = 0\n",
    "            result[email] += 1\n",
    "            \n",
    "print(result)"
   ]
  },
  {
   "cell_type": "markdown",
   "metadata": {},
   "source": [
    "Exercise 4: Add code to the above program to figure out who has the most messages in the file. After all the data has been read and the dictionary has been created, look through the dictionary using a maximum loop (see Chapter 5: Maximum and minimum loops) to find who has the most messages and print how many messages the person has.\n",
    "\n",
    "    Enter a file name: mbox-short.txt\n",
    "    cwen@iupui.edu 5\n",
    "\n",
    "    Enter a file name: mbox.txt\n",
    "    zqian@umich.edu 195"
   ]
  },
  {
   "cell_type": "code",
   "execution_count": 31,
   "metadata": {},
   "outputs": [
    {
     "name": "stdout",
     "output_type": "stream",
     "text": [
      "The email address with the most emails was cwen@iupui.edu, which sent 5 emails.\n",
      "The email address with the second most emails was zqian@umich.edu, which sent 4 emails.\n"
     ]
    }
   ],
   "source": [
    "max_email = ''\n",
    "second_email = ''\n",
    "max_count = 0\n",
    "second_highest = 0\n",
    "\n",
    "for email in result:\n",
    "    email_count = result[email]\n",
    "    if email_count > max_count:\n",
    "        second_highest = max_count\n",
    "        second_email = max_email\n",
    "        max_count = email_count\n",
    "        max_email = email\n",
    "    elif email_count > second_highest:\n",
    "        second_highest = email_count\n",
    "        second_email = email\n",
    "    else:\n",
    "        continue\n",
    "\n",
    "print(f\"The email address with the most emails was {max_email}, which sent {max_count} emails.\")\n",
    "print(f\"The email address with the second most emails was {second_email}, which sent {second_highest} emails.\")"
   ]
  },
  {
   "cell_type": "markdown",
   "metadata": {},
   "source": [
    "## PY4E Ch 10"
   ]
  },
  {
   "cell_type": "markdown",
   "metadata": {},
   "source": [
    "Exercise 1: Revise a previous program as follows: Read and parse the “From” lines and pull out the addresses from the line. Count the number of messages from each person using a dictionary.\n",
    "\n",
    "After all the data has been read, print the person with the most commits by creating a list of (count, email) tuples from the dictionary. Then sort the list in reverse order and print out the person who has the most commits.\n",
    "\n",
    "    Sample Line:\n",
    "    From stephen.marquard@uct.ac.za Sat Jan  5 09:14:16 2008\n",
    "\n",
    "    Enter a file name: mbox-short.txt\n",
    "    cwen@iupui.edu 5\n",
    "\n",
    "    Enter a file name: mbox.txt\n",
    "    zqian@umich.edu 195"
   ]
  },
  {
   "cell_type": "code",
   "execution_count": 14,
   "metadata": {},
   "outputs": [
    {
     "name": "stdout",
     "output_type": "stream",
     "text": [
      "[('gopal.ramasammycook@gmail.com', 1), ('stephen.marquard@uct.ac.za', 2), ('louis@media.berkeley.edu', 3), ('antranig@caret.cam.ac.uk', 1), ('david.horwitz@uct.ac.za', 4), ('ray@media.berkeley.edu', 1), ('wagnermr@iupui.edu', 1), ('gsilver@umich.edu', 3), ('rjlowe@iupui.edu', 2), ('zqian@umich.edu', 4), ('cwen@iupui.edu', 5)]\n"
     ]
    }
   ],
   "source": [
    "fname = 'mbox-short.txt'\n",
    "\n",
    "result = {}\n",
    "with open(fname, 'r') as f:\n",
    "    for line in f.readlines():\n",
    "        if line.startswith('From '):\n",
    "            line = line.split()\n",
    "            email = line[1]\n",
    "            if \"@\" not in email:\n",
    "                print(f\"Bad line: {line}\")\n",
    "                continue\n",
    "            if email not in result:\n",
    "                result[email] = 0\n",
    "            result[email] += 1\n",
    "            \n",
    "\n",
    "result2 = []\n",
    "for key in result:\n",
    "    value = result[key]\n",
    "    result2.append((key, value))\n",
    "\n",
    "print(sorted(result2, key= lambda x: len(x[0]), reverse=True))"
   ]
  },
  {
   "cell_type": "code",
   "execution_count": 46,
   "metadata": {},
   "outputs": [],
   "source": [
    "result2.sort(reverse=True)"
   ]
  },
  {
   "cell_type": "code",
   "execution_count": 49,
   "metadata": {},
   "outputs": [
    {
     "name": "stdout",
     "output_type": "stream",
     "text": [
      "cwen@iupui.edu\n",
      "zqian@umich.edu\n",
      "david.horwitz@uct.ac.za\n"
     ]
    }
   ],
   "source": [
    "for t in result2[:3]:\n",
    "    print(t[1])"
   ]
  },
  {
   "cell_type": "markdown",
   "metadata": {},
   "source": [
    "Exercise 2: This program counts the distribution of the hour of the day for each of the messages. You can pull the hour from the “From” line by finding the time string and then splitting that string into parts using the colon character. Once you have accumulated the counts for each hour, print out the counts, one per line, sorted by hour as shown below.\n",
    "\n",
    "    python timeofday.py\n",
    "    Enter a file name: mbox-short.txt\n",
    "    04 3\n",
    "    06 1\n",
    "    07 1\n",
    "    09 2\n",
    "    10 3\n",
    "    11 6\n",
    "    14 1\n",
    "    15 2\n",
    "    16 4\n",
    "    17 2\n",
    "    18 1\n",
    "    19 1"
   ]
  },
  {
   "cell_type": "code",
   "execution_count": 64,
   "metadata": {},
   "outputs": [
    {
     "name": "stdout",
     "output_type": "stream",
     "text": [
      "04 3\n",
      "06 1\n",
      "07 1\n",
      "09 2\n",
      "10 3\n",
      "11 6\n",
      "14 1\n",
      "15 2\n",
      "16 4\n",
      "17 2\n",
      "18 1\n",
      "19 1\n"
     ]
    }
   ],
   "source": [
    "fname = 'mbox-short.txt'\n",
    "\n",
    "result = {}\n",
    "with open(fname, 'r') as f:\n",
    "    for line in f.readlines():\n",
    "        if line.startswith('From '):\n",
    "            line = line.split()\n",
    "            tod = line[5]\n",
    "            hour = tod[:2]\n",
    "            hour = tod.split(':')[0]\n",
    "            #print(hour)\n",
    "            if hour not in result:\n",
    "                result[hour] = 0\n",
    "            result[hour] += 1\n",
    "#print(result)\n",
    "\n",
    "result2 = []\n",
    "for key in result:\n",
    "    value = result[key]\n",
    "    result2.append((key, value))\n",
    "\n",
    "result2 = sorted(result2)\n",
    "\n",
    "for item in result2:\n",
    "    print(f\"{item[0]} {item[1]}\")"
   ]
  },
  {
   "cell_type": "code",
   "execution_count": 67,
   "metadata": {},
   "outputs": [
    {
     "data": {
      "text/plain": [
       "[('04', 3),\n",
       " ('06', 1),\n",
       " ('07', 1),\n",
       " ('09', 2),\n",
       " ('10', 3),\n",
       " ('11', 6),\n",
       " ('14', 1),\n",
       " ('15', 2),\n",
       " ('16', 4),\n",
       " ('17', 2),\n",
       " ('18', 1),\n",
       " ('19', 1)]"
      ]
     },
     "execution_count": 67,
     "metadata": {},
     "output_type": "execute_result"
    }
   ],
   "source": [
    "sorted(result.items())"
   ]
  },
  {
   "cell_type": "markdown",
   "metadata": {},
   "source": [
    "## Jeremy's Notebook Exercises\n",
    "\n",
    "1. See if you can modify the code above to count how often each word appears instead."
   ]
  },
  {
   "cell_type": "code",
   "execution_count": 78,
   "metadata": {},
   "outputs": [
    {
     "name": "stdout",
     "output_type": "stream",
     "text": [
      "{'i': 7, 'have': 7, 'been': 2, 'one': 3, 'acquainted': 2, 'with': 2, 'the': 8, 'night': 2, 'walked': 1, 'out': 1, 'in': 2, 'rain': 2, 'and': 4, 'back': 2, 'outwalked': 1, 'furthest': 1, 'city': 2, 'light': 1, 'looked': 1, 'down': 1, 'saddest': 1, 'lane': 1, 'passed': 1, 'by': 1, 'watchman': 1, 'on': 1, 'his': 1, 'beat': 1, 'dropped': 1, 'my': 1, 'eyes,': 1, 'unwilling': 1, 'to': 2, 'explain': 1, 'stood': 1, 'still': 2, 'stopped': 1, 'sound': 1, 'of': 1, 'feet': 1, 'when': 1, 'far': 1, 'away': 1, 'an': 2, 'interrupted': 1, 'cry': 1, 'came': 1, 'over': 1, 'houses': 1, 'from': 1, 'another': 1, 'street,': 1, 'but': 1, 'not': 1, 'call': 1, 'me': 1, 'or': 1, 'say': 1, 'good-bye;': 1, 'further': 1, 'at': 1, 'unearthly': 1, 'height,': 1, 'luminary': 1, 'clock': 1, 'against': 1, 'sky': 1, 'proclaimed': 1, 'time': 1, 'was': 1, 'neither': 1, 'wrong': 1, 'nor': 1, 'right': 1}\n"
     ]
    }
   ],
   "source": [
    "string = \"\"\"\n",
    "I have been one acquainted with the night.\n",
    "I have walked out in rain—and back in rain.\n",
    "I have outwalked the furthest city light.\n",
    "\n",
    "I have looked down the saddest city lane.\n",
    "I have passed by the watchman on his beat\n",
    "And dropped my eyes, unwilling to explain.\n",
    "\n",
    "I have stood still and stopped the sound of feet\n",
    "When far away an interrupted cry\n",
    "Came over houses from another street,\n",
    "\n",
    "But not to call me back or say good-bye;\n",
    "And further still at an unearthly height,\n",
    "One luminary clock against the sky\n",
    "\n",
    "Proclaimed the time was neither wrong nor right. \n",
    "I have been one acquainted with the night.\n",
    "\"\"\"\n",
    "\n",
    "string = string.lower()\n",
    "string = string.replace('—', ' ')\n",
    "poem_words = string.split()\n",
    "\n",
    "result = {}\n",
    "for word in poem_words:\n",
    "    word = word.strip('.')\n",
    "    if word not in result:\n",
    "        result[word] = 0\n",
    "    result[word] += 1\n",
    "    \n",
    "print(result)\n"
   ]
  },
  {
   "cell_type": "markdown",
   "metadata": {},
   "source": [
    "2. Reuse and modify the code above so that it prints a dictionary of the total population of cities that start with each letter of the alphabet."
   ]
  },
  {
   "cell_type": "code",
   "execution_count": 16,
   "metadata": {},
   "outputs": [
    {
     "name": "stdout",
     "output_type": "stream",
     "text": [
      "[(('Alabama', 'Abbeville city'), 2560), (('Alabama', 'Adamsville city'), 4281), (('Alabama', 'Addison town'), 718), (('Alabama', 'Akron town'), 328), (('Alabama', 'Alabaster city'), 33487)]\n"
     ]
    }
   ],
   "source": [
    "import csv\n",
    "import requests\n",
    "import codecs\n",
    "\n",
    "# This downloads the file and then opens it. You could also save it to your computer, and open it in the normal way\n",
    "f = requests.get('https://raw.githubusercontent.com/jdfoote/Intro-to-Programming-and-Data-Science/master/resources/data/uscities.csv')\n",
    "f_csv = csv.reader(codecs.iterdecode(f.iter_lines(), 'utf-8'))\n",
    "next(f_csv) # This just skips the header row, so it isn't in our data\n",
    "\n",
    "population_dict = {}\n",
    "for row in f_csv:\n",
    "     # To get these numbers, I just opened the CSV file and looked at which columns had this data\n",
    "    city = row[1]\n",
    "    state = row[2]\n",
    "    population = int(row[0])\n",
    "    if (state, city) in population_dict: # Check for the same city twice in the same state\n",
    "        print(f\"{(state, city)} appears twice in the data\")\n",
    "    else:\n",
    "        population_dict[(state, city)] = population\n",
    "        \n",
    "# This code prints the first few items in the dictionary, to make sure it looks like it's right\n",
    "print(list(population_dict.items())[:5])"
   ]
  },
  {
   "cell_type": "code",
   "execution_count": 17,
   "metadata": {},
   "outputs": [
    {
     "name": "stdout",
     "output_type": "stream",
     "text": [
      "A: 10205308\n",
      "B: 12556367\n",
      "C: 19334831\n",
      "D: 8004522\n",
      "E: 5776253\n",
      "F: 7887257\n",
      "G: 6978634\n",
      "H: 9657570\n",
      "I: 2537573\n",
      "J: 3115112\n",
      "K: 3357584\n",
      "L: 15896771\n",
      "M: 15038400\n",
      "N: 15665179\n",
      "O: 5766337\n",
      "P: 13478110\n",
      "R: 7750171\n",
      "S: 23085235\n",
      "T: 6159462\n",
      "U: 1158915\n",
      "V: 2185529\n",
      "W: 9914670\n",
      "Y: 952731\n",
      "Q: 244256\n",
      "Z: 150757\n",
      "X: 27315\n"
     ]
    }
   ],
   "source": [
    "result = {}\n",
    "for state_city in population_dict:\n",
    "    city = state_city[1] # Extract the city from the key\n",
    "    letter = city[0]\n",
    "    city_pop = population_dict[state_city] # Extract the population from the value\n",
    "    try: # If the key exists, then add the population\n",
    "        result[letter].append(city_pop)\n",
    "    except KeyError: # Otherwise set the value to the population\n",
    "        result[letter] = [city_pop]\n",
    "    \n",
    "for letter in result:\n",
    "    values = result[letter]\n",
    "    print(f\"{letter}: {sum(values)}\")"
   ]
  },
  {
   "cell_type": "markdown",
   "metadata": {},
   "source": [
    "## Babynames\n",
    "\n",
    "\n",
    "Search for your own name. Are there both boys and girls that have your name? Is it more popular for one group than for the other?\n"
   ]
  },
  {
   "cell_type": "code",
   "execution_count": 18,
   "metadata": {},
   "outputs": [],
   "source": [
    "NAMES_LIST = \"babynames/yob2018.txt\"\n",
    "\n",
    "boys = {}\n",
    "girls = {}\n",
    "\n",
    "for line in open(NAMES_LIST, 'r').readlines():\n",
    "    name, gender, count = line.strip().split(\",\")\n",
    "    count = int(count)\n",
    "\n",
    "    if gender == \"F\":\n",
    "        girls[name.lower()] = count\n",
    "    elif gender == \"M\":\n",
    "        boys[name.lower()] = count"
   ]
  },
  {
   "cell_type": "markdown",
   "metadata": {},
   "source": [
    "\n",
    "Are there more boys' names or girls' names? What about for particular first letters? What about for ''every'' first letter?\n"
   ]
  },
  {
   "cell_type": "code",
   "execution_count": null,
   "metadata": {},
   "outputs": [],
   "source": []
  },
  {
   "cell_type": "markdown",
   "metadata": {},
   "source": [
    "What is the longest name in the dataset?\n"
   ]
  },
  {
   "cell_type": "code",
   "execution_count": 21,
   "metadata": {},
   "outputs": [
    {
     "name": "stdout",
     "output_type": "stream",
     "text": [
      "muhammadibrahim\n"
     ]
    }
   ],
   "source": [
    "longest_name = ''\n",
    "for name in list(girls.keys()) + list(boys.keys()):\n",
    "    if len(name) > len(longest_name):\n",
    "        longest_name = name\n",
    "print(longest_name)"
   ]
  },
  {
   "cell_type": "markdown",
   "metadata": {},
   "source": [
    "What is the most common name and how often does it occur?"
   ]
  },
  {
   "cell_type": "code",
   "execution_count": 27,
   "metadata": {},
   "outputs": [
    {
     "name": "stdout",
     "output_type": "stream",
     "text": [
      "The most common name is liam which appeared 19837 times\n"
     ]
    }
   ],
   "source": [
    "highest_count = None\n",
    "most_common_name = None\n",
    "for name in girls:\n",
    "    count = girls[name]\n",
    "    if highest_count is None or count > highest_count:\n",
    "        highest_count = count\n",
    "        most_common_name = name\n",
    "for name in boys:\n",
    "    count = boys[name]\n",
    "    if highest_count is None or count > highest_count:\n",
    "        highest_count = count\n",
    "        most_common_name = name\n",
    "print(f\"The most common name is {most_common_name} which appeared {highest_count} times\")"
   ]
  },
  {
   "cell_type": "markdown",
   "metadata": {},
   "source": [
    "What is the least common name and how often does it occur? Does that concern you?"
   ]
  },
  {
   "cell_type": "code",
   "execution_count": 33,
   "metadata": {},
   "outputs": [
    {
     "name": "stdout",
     "output_type": "stream",
     "text": [
      "The least common name is ['aabidah', 'aaheli', 'aalasia', 'aaleiyah', 'aaliana', 'aaliyha', 'aamaya', 'aamiya', 'aamorah', 'aaralynn', 'aarianna', 'aarie', 'aarilynn', 'aarini', 'aariona', 'aarunya', 'aaryanna', 'aava', 'aayliah', 'abigayl', 'abiya', 'abrea', 'abrey', 'abriah', 'abryanna', 'abygayle', 'adaiyah', 'adaleen', 'adallyn', 'adalys', 'adamarie', 'adanely', 'addalie', 'addelyne', 'addiemae', 'addieson', 'addilyne', 'adeeva', 'adelayda', 'adeliah', 'adelinn', 'adeliza', 'adelline', 'adellynn', 'adelyse', 'adiel', 'adiella', 'adilena', 'adileni', 'adilenne', 'adilia', 'adiline', 'adlai', 'adonai', 'adoniyah', 'adorah', 'adriene', 'adrika', 'adut', 'ady', 'aera', 'aeralyn', 'aerianna', 'aerolynn', 'aerynn', 'aerys', 'aesha', 'affinity', 'afsana', 'afsheen', 'agnia', 'ahlanni', 'ahliyah', 'ahmora', 'ahnylah', 'ahriella', 'ahzaria', 'aidalynn', 'aihnoa', 'aija', 'aileene', 'airalynn', 'airyanna', 'airyn', 'aisosa', 'akeyla', 'akeylah', 'alae', 'alaena', 'alan', 'alannis', 'alanya', 'alayaa', 'alazay', 'alazia', 'albee', 'albertina', 'albina', 'alease', 'alee', 'aleera', 'aleezah', 'aleezay', 'alegria', 'aleinah', 'aleiny', 'alejah', 'alejandria', 'aleka', 'alekhya', 'aleny', 'alery', 'alesa', 'alexsis', 'alexxis', 'alexya', 'aleynna', 'alfreda', 'aliena', 'aliia', 'alishia', 'alister', 'aliyannah', 'alizabella', 'alizeah', 'alizey', 'alizza', 'aljohara', 'allaina', 'allaire', 'allannah', 'alle', 'alleena', 'allysson', 'alohi', 'alpha', 'alyaa', 'alyanah', 'alyda', 'alyiana', 'alyonna', 'alyzae', 'amaara', 'amabel', 'amabelle', 'amahya', 'amaiia', 'amalee', 'amaly', 'amanie', 'amaranta', 'amariyana', 'amayha', 'amaziah', 'ambre', 'ambriel', 'amee', 'ameelia', 'amelea', 'ameliarae', 'amenia', 'ameri', 'ameriie', 'amerika', 'amiaya', 'amiira', 'amiiyah', 'amiko', 'amiley', 'amiliyah', 'amilli', 'amilliah', 'amine', 'amiri', 'amiriah', 'amiryah', 'amonee', 'amoriah', 'amorina', 'amorrah', 'amylee', 'amythyst', 'anabela', 'anabrenda', 'anae', 'anah', 'anahat', 'anahis', 'anahli', 'anaida', 'anaijah', 'analei', 'analena', 'analissa', 'analyssa', 'anapaola', 'anayelis', 'anayia', 'anaysha', 'andalyn', 'ande', 'andreanna', 'andree', 'andressa', 'andrielle', 'aneeka', 'aneira', 'anetta', 'aneya', 'anfal', 'ange', 'angele', 'angelea', 'angeleigh', 'angelisse', 'angellina', 'angelyne', 'anifa', 'anique', 'anisten', 'aniza', 'anjelah', 'annajames', 'annaka', 'annaline', 'annalissa', 'annamary', 'annavictoria', 'annelee', 'anneliz', 'annet', 'annison', 'anoush', 'anousheh', 'anran', 'anri', 'ansha', 'anta', 'antania', 'anthony', 'antionette', 'antonio', 'anura', 'anvee', 'anwen', 'anwyn', 'any', 'anyelin', 'anyi', 'anyliah', 'anzlee', 'aowyn', 'apolline', 'aquila', 'arabela', 'araea', 'araiah', 'arale', 'arelie', 'aretha', 'aretzy', 'arevik', 'argelia', 'ariaa', 'ariahna', 'arialynn', 'aricela', 'ariday', 'ariebella', 'arihana', 'arijah', 'arisbel', 'ariyelle', 'arli', 'arlington', 'armaya', 'armya', 'arnavi', 'aroosh', 'aroura', 'aroyalty', 'arrowyn', 'arryn', 'aryarose', 'arybella', 'aryonna', 'asena', 'aset', 'ash', 'ashai', 'ashara', 'asherah', 'ashlesha', 'ashlinn', 'ashna', 'ashriya', 'astor', 'astou', 'astraya', 'astrea', 'astryd', 'asuka', 'asyia', 'asyiah', 'athaleyah', 'atheer', 'athens', 'athulya', 'atifa', 'atiyah', 'attalia', 'attie', 'aubreelynn', 'aubreerose', 'aubreey', 'aubriannah', 'audrei', 'audreya', 'audreyanna', 'aunisty', 'aurbree', 'auree', 'auroragrace', 'aurya', 'avagail', 'avaia', 'avaiya', 'avajade', 'avajoy', 'avalin', 'avanell', 'avangelina', 'aveanna', 'aveera', 'aveleen', 'avelene', 'avenlee', 'averiella', 'averii', 'averlie', 'averykate', 'aviahna', 'aviyanah', 'avonleigh', 'awesome', 'ayarie', 'aydria', 'ayeesha', 'aylana', 'ayleah', 'ayleigh', 'aylena', 'ayli', 'aylianna', 'aylie', 'aylina', 'ayma', 'aymelia', 'aynoor', 'ayoni', 'ayriah', 'ayrin', 'ayverie', 'ayvia', 'ayzaria', 'ayzlee', 'ayzlin', 'azahara', 'azailya', 'azaleigh', 'azalya', 'azarria', 'azeemah', 'azhar', 'azori', 'azurie', 'azya', 'azzurra', 'baraah', 'bareera', 'bashy', 'baxley', 'baylyn', 'beatris', 'becklynn', 'beia', 'beily', 'belanna', 'belkis', 'bellamae', 'bellanova', 'benicia', 'beren', 'bergen', 'bethanny', 'betsabeth', 'bexli', 'bezawit', 'bilan', 'bilen', 'blakesley', 'blanche', 'blaykelee', 'blaykleigh', 'boe', 'bohdi', 'bradlie', 'braeya', 'braileigh', 'braizlee', 'brandalyn', 'brandee', 'brandii', 'breck', 'breckin', 'brekkyn', 'brendalynn', 'breniyah', 'brennex', 'breona', 'brette', 'breyanna', 'briani', 'briauna', 'brice', 'bridger', 'briea', 'brieanne', 'briele', 'bright', 'brightynn', 'brigit', 'brinna', 'brion', 'brionne', 'brittani', 'brixten', 'brody', 'bronwynn', 'bronze', 'brookley', 'bryann', 'brylyn', 'brynslee', 'bryonna', 'bryten', 'byanca', 'cabela', 'cacey', 'caedence', 'cailie', 'calah', 'caleb', 'caleena', 'caleya', 'caleyah', 'calianne', 'callaghan', 'calliah', 'calysta', 'camariya', 'cambelle', 'cambrea', 'cambriella', 'camina', 'camylah', 'camyra', 'canon', 'canyla', 'cariana', 'carisa', 'carleah', 'carleen', 'carleny', 'carmani', 'carmelle', 'carolyna', 'carrissa', 'cary', 'cason', 'cassey', 'cataleiya', 'catalena', 'cataliyah', 'catherin', 'catlyn', 'caybree', 'cayson', 'cecilie', 'cecylia', 'ceili', 'celenia', 'cella', 'cemile', 'cena', 'ceniyah', 'ceres', 'cesiah', 'ceyda', 'chamari', 'chancellor', 'chancey', 'chanler', 'chanley', 'chante', 'chardonnay', 'charlese', 'charlotterose', 'charlytte', 'chavi', 'chelsee', 'cher', 'chesa', 'chesleigh', 'chevie', 'cheyla', 'chikaima', 'chinenyenwa', 'chloeann', 'chrisann', 'chrissa', 'chrissie', 'christianne', 'christionna', 'christlynn', 'chyla', 'chyler', 'cisse', 'clarah', 'clarajane', 'clarie', 'claritza', 'clemence', 'cloud', 'coleigh', 'collynns', 'concepcion', 'connolly', 'constantina', 'consuela', 'corena', 'coriana', 'corionna', 'corissa', 'corlee', 'cortana', 'cylia', 'cyn', 'cyncere', 'cyrah', 'cyrene', 'cyriah', 'cyrine', 'dacey', 'daena', 'dahliah', 'daisi', 'dajanae', 'dakiyah', 'dakodah', 'dalany', 'dalay', 'dale', 'daleen', 'daleia', 'daleisa', 'dallys', 'dalton', 'dalyn', 'damarys', 'dameria', 'damila', 'damira', 'damonie', 'damyla', 'damyrah', 'danayah', 'daney', 'daniele', 'danila', 'daniylah', 'dannay', 'dannielle', 'dannielynn', 'daphanie', 'daraly', 'dareli', 'darelys', 'darline', 'darshi', 'dashae', 'daveah', 'daveney', 'davine', 'daviya', 'daylanie', 'daylia', 'daylynn', 'daysia', 'dazlyn', 'deangela', 'deann', 'deisi', 'dela', 'delayne', 'delcie', 'deleyza', 'delilahrose', 'delisa', 'dellarae', 'delmi', 'deloni', 'delyliah', 'demelza', 'demirose', 'denaiya', 'denalia', 'denaly', 'deni', 'denis', 'denni', 'deoni', 'dereka', 'derrica', 'derriona', 'deryn', 'desirey', 'deslyn', 'destanee', 'devanie', 'devaya', 'devlin', 'devna', 'deyonna', 'dezaria', 'dhrithi', 'dhruvika', 'dhvani', 'dianelly', 'diani', 'dianny', 'diksha', 'dilia', 'dilylah', 'dinora', 'dionni', 'diti', 'divija', 'divyanka', 'diyala', 'dmiya', 'doaa', 'doba', 'dolce', 'donovan', 'dontavia', 'dreamer', 'driana', 'drina', 'ecclesia', 'edelin', 'ediany', 'edin', 'edlin', 'edrielle', 'edwina', 'eera', 'eibhleann', 'eileithyia', 'eiliana', 'eimi', 'eirini', 'ele', 'elene', 'elesa', 'elian', 'elianie', 'eliara', 'elinna', 'eliona', 'elionna', 'elisabella', 'eliyannah', 'elizabethann', 'elizabethgrace', 'elizajane', 'elizeth', 'ellabelle', 'ellajean', 'ellanese', 'ellenie', 'elleny', 'elliani', 'ellieanne', 'ellissa', 'elliston', 'ellivia', 'ellynor', 'ellyssa', 'elonna', 'elorah', 'elsbeth', 'elys', 'elysabeth', 'elzada', 'emanii', 'embersyn', 'emela', 'emelya', 'emerii', 'emerys', 'emia', 'emiliani', 'emilygrace', 'emilymarie', 'emireth', 'emiri', 'emjay', 'emmani', 'emmelene', 'emmilou', 'emogene', 'emonee', 'emonni', 'emrynn', 'endsley', 'eniko', 'enisa', 'enley', 'enzly', 'enzo', 'erabelle', 'eralyn', 'eren', 'erendira', 'eri', 'erianne', 'eriyan', 'erleen', 'erlinda', 'ernestine', 'erva', 'eseosa', 'eshanvi', 'eslee', 'esley', 'eslyn', 'esmeray', 'estephania', 'estibaliz', 'etana', 'evagrace', 'evaleena', 'evalisse', 'evalyne', 'evangelene', 'evangelynn', 'evannah', 'eveanna', 'evelee', 'evelisse', 'evieanna', 'evika', 'evilyn', 'evonni', 'evyenia', 'ezariah', 'ezinne', 'ezralynn', 'ezrie', 'faeryn', 'fairy', 'faisa', 'faithmarie', 'fara', 'fardowsa', 'farhana', 'farhat', 'farwa', 'fatihah', 'fatumata', 'fayre', 'feiga', 'felicitas', 'felisha', 'feyre', 'feyza', 'ffion', 'fiammetta', 'fiore', 'fizza', 'foreign', 'francely', 'frayah', 'freia', 'freidy', 'fruma', 'fryda', 'gaea', 'gaige', 'galaxi', 'galena', 'galit', 'gamila', 'ganiya', 'garland', 'gatlyn', 'gea', 'geethika', 'genesi', 'genivieve', 'geovana', 'geraldyn', 'geralyn', 'ghala', 'ghalia', 'ghislaine', 'giahna', 'giamarie', 'gianelli', 'giavanni', 'gideon', 'gilah', 'ginette', 'giorgina', 'given', 'gowri', 'gracely', 'gracilynn', 'graesyn', 'graisyn', 'graylie', 'greidys', 'gretell', 'grisel', 'grizelda', 'guliana', 'gunner', 'gwendalynn', 'gwendolyne', 'gwendylan', 'gweneviere', 'gwenith', 'gwinevere', 'haby', 'hadalyn', 'hadasha', 'haddon', 'hadilynn', 'hadja', 'hadly', 'hael', 'hagen', 'haislynn', 'haja', 'hanae', 'hanai', 'hanaya', 'hanora', 'hanvitha', 'hanya', 'hara', 'haram', 'harlea', 'harlin', 'harmonni', 'harneet', 'harshitha', 'haruka', 'harvi', 'hatteras', 'haukea', 'haviland', 'havynn', 'hawwa', 'hayaa', 'haydan', 'haygen', 'hazael', 'hazelanne', 'heartlynn', 'heleena', 'heleyna', 'heli', 'hendel', 'henly', 'henzlee', 'hermelinda', 'hermonie', 'heylen', 'hifza', 'hilaria', 'hildy', 'himari', 'hollan', 'hollee', 'honorah', 'hooriya', 'houstyn', 'hurley', 'hutton', 'hyab', 'icey', 'ichika', 'idris', 'iknoor', 'ilaisaane', 'ilayda', 'ilee', 'ileene', 'ilian', 'ilianny', 'iliyana', 'imana', 'imane', 'inanna', 'infiniti', 'inori', 'intisaar', 'intisar', 'iolana', 'irah', 'iralynn', 'iria', 'irielle', 'isabellamarie', 'isadore', 'isata', 'isatou', 'isbella', 'ishaanvi', 'islarose', 'islee', 'isma', 'ismerai', 'isyss', 'itxel', 'iviana', 'ixora', 'iyland', 'izalea', 'izebella', 'izela', 'izora', 'izzi', 'jaasritha', 'jaaziel', 'jabrayah', 'jabrea', 'jabriya', 'jackielynn', 'jacky', 'jacquline', 'jadarose', 'jadea', 'jadon', 'jaelei', 'jaemarie', 'jahmila', 'jahmiya', 'jahmya', 'jahni', 'jaicey', 'jaidee', 'jailen', 'jakai', 'jakaya', 'jakaylee', 'jakelin', 'jakeria', 'jakylie', 'jalaiah', 'jalecia', 'jaleeah', 'jamaiya', 'jamarie', 'jamariyah', 'jameliah', 'jamiee', 'jamillah', 'jamille', 'jamina', 'jamirah', 'janais', 'janalise', 'janaria', 'janeliz', 'janeya', 'janhvi', 'janitza', 'jannie', 'janvika', 'jarielyz', 'jashlyn', 'jasmely', 'jasneet', 'jatavia', 'jaxlyn', 'jaylahni', 'jaylanis', 'jaylannie', 'jaylarose', 'jayleeana', 'jaylenn', 'jayliah', 'jaylianiz', 'jaylianni', 'jaylina', 'jaylise', 'jayloni', 'jaymeson', 'jayoni', 'jaysie', 'jayson', 'jayva', 'jayvianna', 'jaziel', 'jazilyn', 'jazlen', 'jazly', 'jazzalynn', 'jazzleen', 'jeanmarie', 'jeilany', 'jeily', 'jemina', 'jemiyah', 'jemmah', 'jenavive', 'jenin', 'jennalyse', 'jenneh', 'jennessa', 'jennessy', 'jennette', 'jeremy', 'jernei', 'jeselle', 'jesica', 'jesselyn', 'jesus', 'jette', 'jevaeh', 'jezabelle', 'jhaniya', 'jhara', 'jhelani', 'jhoana', 'jholie', 'jhournee', 'jhream', 'jian', 'jiaqi', 'jiaying', 'jiliana', 'jillianna', 'jimmie', 'jiovanna', 'jirah', 'jisele', 'jlani', 'jodeci', 'joee', 'joei', 'joeleen', 'joeleigh', 'joeli', 'joelly', 'joelyn', 'joelynn', 'jolianna', 'joline', 'jomana', 'jonier', 'joniya', 'joori', 'jora', 'jordanne', 'jorryn', 'josalee', 'jossalyn', 'jossie', 'joule', 'joules', 'jourie', 'journae', 'journeii', 'journni', 'jovelyn', 'jovianne', 'joyana', 'joyann', 'joycie', 'joye', 'joylyn', 'joylynn', 'jozey', 'jraya', 'judia', 'julani', 'jule', 'julee', 'julicia', 'julieana', 'julien', 'juliya', 'jurzi', 'jurzie', 'justyna', 'jyasia', 'kaarina', 'kabria', 'kadijah', 'kaelan', 'kahari', 'kahlaya', 'kahlil', 'kaiann', 'kaihlani', 'kailanee', 'kailynne', 'kaimarie', 'kaisha', 'kaithlyn', 'kaitlen', 'kaity', 'kalayla', 'kaleen', 'kaleiya', 'kaleiyah', 'kalirose', 'kaliyan', 'kalki', 'kallen', 'kalley', 'kaly', 'kalyce', 'kalyiah', 'kalyla', 'kamalei', 'kamellia', 'kamilya', 'kammi', 'kamore', 'kamrii', 'kanari', 'kandi', 'kani', 'karalyne', 'kareen', 'karelys', 'karielys', 'karigan', 'karlene', 'karlina', 'karlita', 'karmah', 'karslynn', 'karsten', 'karuna', 'karyssa', 'kasen', 'kashia', 'kashika', 'kasidee', 'kassaya', 'kassiah', 'kassius', 'kassy', 'kataleiya', 'kataryna', 'katerine', 'kathalia', 'kathlynn', 'katiemae', 'katileya', 'katilyn', 'katrice', 'katriona', 'katryna', 'kausar', 'kaveah', 'kavita', 'kaycen', 'kayde', 'kaydian', 'kaydince', 'kaydyn', 'kaylanee', 'kaylannie', 'kayleigha', 'kaylenn', 'kaylisa', 'kayliyah', 'kaylnn', 'kayoir', 'kayse', 'kaysee', 'kaysi', 'kayton', 'kayzleigh', 'kayzlynn', 'kazlyn', 'kazumi', 'keagyn', 'kealia', 'keandra', 'keeana', 'keelan', 'keelynn', 'keenan', 'keerthika', 'kefira', 'keilianys', 'keimya', 'keior', 'kelaia', 'kelanie', 'kelayah', 'keli', 'kemery', 'kemi', 'kemiah', 'kemira', 'kenasia', 'kendallynn', 'kenedie', 'keni', 'kenise', 'kennsley', 'kerah', 'keriana', 'kerington', 'kevianna', 'keyaira', 'keyanni', 'keyasia', 'keymani', 'keymoni', 'keymora', 'keyona', 'keyonni', 'keyshia', 'khadeeja', 'khadi', 'khaila', 'khaira', 'khairah', 'khaleesa', 'khaleesie', 'khalessy', 'khaleyah', 'khallie', 'khamiah', 'khamil', 'khani', 'khanyla', 'kharii', 'khawla', 'khayla', 'khaylee', 'khianna', 'khilee', 'khiley', 'khira', 'khodi', 'khyasia', 'khylani', 'khylar', 'khylin', 'kiaria', 'kiasia', 'kiava', 'kiely', 'kihlani', 'kimara', 'kimarie', 'kingslee', 'kinlie', 'kinsly', 'kinzee', 'kinzly', 'kirat', 'kirklyn', 'kisha', 'kiyani', 'kiyonna', 'kjerstin', 'kmiya', 'koah', 'koby', 'kodah', 'kolbee', 'konner', 'koriann', 'korii', 'korinna', 'kornelia', 'kortnee', 'korynne', 'kota', 'koto', 'kotone', 'krew', 'krisette', 'krisleigh', 'kristelle', 'kristyna', 'kumari', 'ky', 'kyahna', 'kyanah', 'kyarie', 'kyland', 'kyleia', 'kylenn', 'kylian', 'kylise', 'kyliyah', 'kylo', 'kymbella', 'kymbree', 'kymia', 'kynsie', 'kynzi', 'kyran', 'kyza', 'labelle', 'lace', 'lahni', 'laiani', 'laianna', 'lailaa', 'lailey', 'laionni', 'laiylah', 'lajla', 'lakshana', 'lakya', 'lal', 'lalita', 'lamyra', 'lan', 'lanaeh', 'laneya', 'lanova', 'larah', 'larai', 'laree', 'larin', 'laritza', 'larsyn', 'lashae', 'latasha', 'latia', 'latifah', 'latonya', 'latrinity', 'lauralyn', 'laurelin', 'laurissa', 'lavada', 'lavanya', 'lavera', 'lavynder', 'layaan', 'layahni', 'layia', 'laykyn', 'laylanni', 'laylannie', 'laylonnie', 'leahni', 'leahrose', 'leanah', 'leanette', 'leara', 'leelyn', 'leesha', 'lehani', 'lei', 'leiauna', 'leida', 'leighlah', 'leighlyn', 'leighonna', 'leika', 'leilamarie', 'leilynn', 'leisa', 'leisha', 'leiyani', 'lella', 'lenay', 'lenaya', 'lennen', 'lenzie', 'leonni', 'lessly', 'levee', 'leven', 'levin', 'leyan', 'leyanni', 'leyda', 'lezly', 'lianet', 'liannah', 'liannys', 'liddie', 'lienna', 'liezel', 'life', 'ligaya', 'light', 'ligia', 'lilan', 'lilas', 'liliahna', 'lilikoi', 'lilit', 'lillianah', 'lillianrose', 'lillienne', 'lilyian', 'lin', 'lirah', 'liria', 'lisabella', 'lisha', 'lismary', 'liva', 'livya', 'lizett', 'lizzette', 'lo', 'loanna', 'loganne', 'lolani', 'lolarose', 'lolly', 'loralee', 'loralynn', 'lorayne', 'lorelia', 'lorelie', 'loriah', 'loriel', 'lorilee', 'lorissa', 'lovette', 'lu', 'lucija', 'lucynda', 'ludovica', 'luisana', 'luisanny', 'lulah', 'lulie', 'lunamaria', 'luvina', 'luxley', 'luzelena', 'lyannie', 'lyberty', 'lyfe', 'lyle', 'lyliah', 'lyllah', 'lynex', 'lyniah', 'lynlie', 'lynsie', 'lynzie', 'lyricc', 'lyv', 'mabelyn', 'mackinzie', 'maclaine', 'maddelena', 'madelein', 'madelena', 'madelinn', 'madellyn', 'madhavi', 'madiana', 'madie', 'madlen', 'madrid', 'madysyn', 'maebree', 'maebri', 'maecy', 'maeda', 'magdalina', 'magdaline', 'magdelina', 'mahaley', 'mahani', 'mahdia', 'maheera', 'mahera', 'mahkayla', 'mahliyah', 'mahpiya', 'mahra', 'mahrukh', 'maiyana', 'maizlee', 'majorie', 'makalah', 'makalynn', 'makani', 'makaria', 'makayah', 'makaylynn', 'makeila', 'makelle', 'makenah', 'makenleigh', 'makhari', 'makylee', 'makynlei', 'makynleigh', 'malahn', 'malarie', 'malauni', 'malaylah', 'maleea', 'maleeya', 'malenie', 'malery', 'maleyiah', 'maleyna', 'maliea', 'malikah', 'malilah', 'malk', 'mallary', 'malori', 'malvina', 'malyna', 'mamediarra', 'manami', 'mandie', 'maneh', 'manisha', 'mankirat', 'manon', 'manroop', 'manvitha', 'marai', 'maralyn', 'marchesa', 'mardiya', 'marea', 'marelin', 'mareya', 'margareta', 'margaretann', 'mariahlynn', 'marialena', 'marianah', 'marianela', 'marieliz', 'mariell', 'marieme', 'marijke', 'marilin', 'marine', 'mariona', 'mariza', 'marjae', 'marjan', 'markella', 'markia', 'markyla', 'marleah', 'marleyah', 'marliana', 'marlize', 'marlys', 'marrianna', 'marron', 'marva', 'marybel', 'maryem', 'marylyn', 'marynn', 'maryori', 'maryruth', 'mastani', 'masuma', 'matelyn', 'mathea', 'matisse', 'mattel', 'matteo', 'maud', 'maurianna', 'mave', 'mayalee', 'mayanna', 'maybell', 'mayble', 'maybrie', 'mayer', 'mayim', 'maylasia', 'mayleah', 'maytte', 'mazarine', 'mazayah', 'mccartney', 'mckay', 'mckinney', 'mckinnon', 'mckynzi', 'meenah', 'meeyah', 'mehjabin', 'mehnaz', 'mehnoor', 'meiah', 'meilan', 'mel', 'melaher', 'melenia', 'melita', 'mellani', 'mellina', 'mellissa', 'melly', 'melodyann', 'memori', 'meria', 'merideth', 'merin', 'meris', 'merrit', 'meryam', 'metzi', 'mialuna', 'miamore', 'miavictoria', 'micha', 'michalina', 'michell', 'miciah', 'midna', 'mieke', 'miel', 'mija', 'mikasa', 'mikaylie', 'mikella', 'mikiah', 'mikinley', 'mikiya', 'mikya', 'mikyah', 'milagrace', 'milaina', 'milen', 'milenna', 'milina', 'milley', 'million', 'milyn', 'minori', 'miqueen', 'mirabell', 'mircale', 'mirelle', 'mirrah', 'misaki', 'missouri', 'miyona', 'mj', 'moe', 'mojolaoluwa', 'mollyann', 'monai', 'monay', 'mone', 'moniece', 'monserat', 'monseratt', 'moorea', 'morena', 'moyosoreoluwa', 'mumina', 'mumtas', 'muniba', 'munisa', 'musfirah', 'muskan', 'myalee', 'myarose', 'myella', 'myers', 'mylasia', 'mylea', 'myna', 'myrielle', 'mythri', 'nabella', 'nahliyah', 'naiima', 'naileth', 'nairoby', 'naja', 'nakaya', 'nakayah', 'nakhia', 'nakoa', 'nalahni', 'nalanni', 'naleiah', 'naliana', 'naliya', 'nallah', 'namira', 'nandana', 'nao', 'naphtali', 'nareh', 'narelle', 'naryiah', 'nashira', 'nasia', 'nasirah', 'nasma', 'nasreen', 'natalierose', 'natalija', 'natavia', 'natori', 'nattaly', 'navami', 'naveya', 'naviya', 'nayab', 'nayela', 'nayellie', 'nazyia', 'neenah', 'neesa', 'nehemie', 'neisha', 'nejla', 'nera', 'netanya', 'nevelyn', 'niala', 'nialah', 'niamya', 'niari', 'nicki', 'nicky', 'nicoleta', 'niemah', 'niharika', 'nihasvi', 'nikaela', 'nikolette', 'niloufar', 'nilynn', 'nimar', 'nimo', 'niniola', 'nisaa', 'nivi', 'niyat', 'niyeli', 'noalani', 'noam', 'noellie', 'noir', 'norajane', 'norhan', 'norianna', 'normandy', 'north', 'novae', 'novaeh', 'novajean', 'novaleah', 'novalise', 'novamae', 'novareign', 'novea', 'novelle', 'nyarah', 'nyaylah', 'nyeemah', 'nyel', 'nyelah', 'nyesha', 'nyibol', 'nyjae', 'nykeria', 'nykia', 'nylan', 'nylayah', 'nyomii', 'nyonna', 'ocie', 'octayvia', 'odina', 'ojasvi', 'oktavia', 'olimpia', 'olivet', 'oluwadara', 'oluwaferanmi', 'oluwafifehanmi', 'oluwatobi', 'oluwatomisin', 'olwen', 'omina', 'omolara', 'orlaith', 'osmara', 'ozella', 'paesley', 'paidyn', 'paighten', 'pailyn', 'paizlei', 'paizlie', 'pallas', 'panayiota', 'paralee', 'parmida', 'parvati', 'pashyn', 'pasleigh', 'paulett', 'paylee', 'payzleigh', 'pearlina', 'penda', 'penelopie', 'penney', 'pennylane', 'peru', 'peysley', 'pharaoh', 'pheona', 'pooja', 'preksha', 'prentiss', 'prezley', 'pricila', 'princesa', 'prisila', 'priyah', 'promisee', 'purpose', 'purvi', 'qirat', 'quest', 'quianna', 'quiara', 'quinnlynn', 'quynh', 'raaga', 'raedynn', 'raegann', 'raeni', 'rahama', 'rai', 'raidyn', 'raiin', 'raimey', 'raivyn', 'raiyn', 'raiyna', 'rakell', 'rakiya', 'ramani', 'ramira', 'ramisa', 'ramsay', 'ramyiah', 'rasiyah', 'raylenn', 'raylynne', 'rayme', 'razia', 'realyn', 'rebelle', 'rees', 'reesa', 'reighan', 'reise', 'reiss', 'reitzy', 'rejina', 'remia', 'remiyah', 'remley', 'rendi', 'retag', 'revy', 'rhae', 'rhapsody', 'rhealee', 'rhealyn', 'rhenn', 'rhetta', 'rhettlee', 'rhia', 'rhyanna', 'rhyian', 'rhyland', 'rhyli', 'ricci', 'rickayla', 'riddhima', 'ridwan', 'rielynn', 'riha', 'riho', 'riko', 'rileymae', 'rily', 'rinad', 'rithvi', 'rithvika', 'ritvi', 'riyanna', 'rockelle', 'rocklyn', 'roha', 'rokhaya', 'romeesa', 'ronia', 'roniya', 'rook', 'roqaya', 'rorey', 'rosaisela', 'rosanne', 'roselind', 'rosemari', 'roshni', 'rosibel', 'rosilyn', 'rous', 'rowann', 'rowdy', 'rowenna', 'royaltie', 'rua', 'rubye', 'rubyrae', 'ruhamah', 'rumina', 'ruqaiyah', 'ruqaya', 'rushda', 'ruzainah', 'ryenne', 'ryian', 'rylieann', 'ryon', 'saanchi', 'saanya', 'saatvika', 'sabre', 'sabree', 'sabriah', 'sabriya', 'sadeigh', 'sadye', 'sae', 'safoora', 'safwa', 'safwana', 'sahanna', 'saheli', 'sahirah', 'saiah', 'saidy', 'saila', 'sairy', 'saleha', 'salimata', 'samairah', 'samatha', 'sameena', 'sameya', 'samika', 'samoni', 'sandhya', 'sanii', 'sanmita', 'santiago', 'sarahann', 'sarahmae', 'sarinity', 'saryia', 'sashi', 'sathvika', 'saumya', 'saveena', 'saveyah', 'saviana', 'sayeda', 'scotty', 'sean', 'secily', 'seena', 'seher', 'selam', 'selenia', 'selihom', 'semaja', 'semaya', 'semma', 'senaya', 'seran', 'serenitey', 'sereyah', 'seveah', 'seville', 'shade', 'shadyn', 'shaeleigh', 'shahreen', 'shaianne', 'shaielle', 'shakyra', 'shalane', 'shalayah', 'shamirah', 'shammah', 'shamso', 'shanai', 'shanelly', 'shannara', 'shantall', 'shara', 'sharlize', 'shavonne', 'shawnee', 'shayenne', 'shaylen', 'shayma', 'sheriah', 'sherrie', 'sheva', 'sheylin', 'shikha', 'shiny', 'shiphrah', 'shiya', 'shoni', 'shoshanah', 'shreeda', 'shrena', 'shrija', 'shrivika', 'shuyao', 'shy', 'shyaire', 'shyenne', 'sianney', 'siarra', 'sibel', 'siddhiksha', 'sierrah', 'sigourney', 'silka', 'siman', 'simcha', 'simonne', 'simrin', 'sinia', 'siomara', 'sionna', 'sirin', 'sivani', 'skaii', 'skilah', 'skyanna', 'skylarr', 'skyleen', 'skylor', 'smriti', 'snithika', 'sochikaima', 'sofhia', 'sofiagrace', 'sofiarose', 'sofiyah', 'sohvi', 'sokona', 'solangel', 'solena', 'solymar', 'somi', 'soni', 'soniya', 'sophiana', 'sophira', 'sophonie', 'soraia', 'soumya', 'spiritual', 'spoorthi', 'sreenika', 'stacia', 'starlett', 'stefaniya', 'stellar', 'sthefany', 'stina', 'stokely', 'stormee', 'sudeeksha', 'suellen', 'sukhleen', 'sulema', 'suleyma', 'sumnima', 'sun', 'sunniva', 'surabhi', 'surbhi', 'surie', 'susu', 'swan', 'syanna', 'syiah', 'syleena', 'sylver', 'symphanie', 'taalia', 'taaliah', 'tabassum', 'tabita', 'tahara', 'tahera', 'tahj', 'tahliah', 'tahreem', 'taima', 'tairy', 'taiyari', 'tajae', 'tajah', 'talaiya', 'talayiah', 'talley', 'tallula', 'tamarah', 'tamilore', 'tamina', 'tanae', 'tani', 'tapanga', 'tarahji', 'tasmia', 'tauren', 'tauri', 'tay', 'tayanna', 'taylea', 'tayma', 'taytem', 'tayven', 'teala', 'teari', 'tearra', 'teilynn', 'teleah', 'teliyah', 'terah', 'terese', 'teri', 'teriana', 'terrae', 'terrah', 'terrie', 'tesa', 'tesia', 'tesneem', 'tessalyn', 'tessla', 'testimony', 'thai', 'thaleia', 'thali', 'thaliah', 'thang', 'theda', 'theya', 'thi', 'thianna', 'thisbe', 'thy', 'tian', 'tiauna', 'tierany', 'tiernan', 'tifa', 'timea', 'timora', 'tinzlee', 'tiona', 'tionne', 'titania', 'titilayo', 'tomiris', 'tony', 'toren', 'toria', 'toriann', 'torii', 'torilynn', 'traeh', 'trejure', 'treva', 'trillium', 'trini', 'troy', 'truleigh', 'trulie', 'tu', 'tuleen', 'tyann', 'tylin', 'tyona', 'tyrah', 'tyson', 'tytiana', 'tzivi', 'uinise', 'ulla', 'valaya', 'vanely', 'vaniyah', 'vannessa', 'vanshika', 'varshini', 'vasti', 'vayle', 'vayolet', 'veah', 'vedhika', 'velina', 'venicia', 'veronia', 'vibiana', 'victoriah', 'victorina', 'videlle', 'viena', 'vindhya', 'violetrose', 'vivan', 'vivienna', 'vivyanna', 'vrinda', 'vyana', 'vyanna', 'waelyn', 'waleska', 'waverleigh', 'weam', 'wenona', 'westley', 'whitten', 'willamena', 'willie', 'willoughby', 'willowmae', 'wilmary', 'wilson', 'winni', 'wryn', 'wyla', 'xamora', 'xaniya', 'xaylah', 'xaylee', 'xerenity', 'xi', 'xiadani', 'ximara', 'ximora', 'xion', 'xiyue', 'yadelyn', 'yahli', 'yahvi', 'yaileen', 'yailen', 'yalexi', 'yali', 'yalissa', 'yamili', 'yamiyah', 'yanais', 'yanexi', 'yanice', 'yanielys', 'yanina', 'yanis', 'yannah', 'yanxi', 'yarden', 'yarelin', 'yarelli', 'yaremi', 'yareth', 'yarethzy', 'yaretsi', 'yariana', 'yarianna', 'yarielys', 'yarleth', 'yasamin', 'yasina', 'yasmeena', 'yasmely', 'yassmin', 'yayra', 'yazmarie', 'yazmeen', 'yazmina', 'yazmyn', 'yazmyne', 'yehudit', 'yeilani', 'yeisy', 'yekaterina', 'yelani', 'yeslin', 'yexalen', 'yian', 'yianna', 'yining', 'ylenia', 'yojana', 'yolandi', 'york', 'yorleny', 'yousef', 'youssra', 'ysa', 'ysabela', 'yukari', 'yukiko', 'yulenny', 'yulie', 'yuliya', 'yunuen', 'yura', 'yuzuha', 'zade', 'zady', 'zaeda', 'zahli', 'zaiden', 'zakhari', 'zakhia', 'zakirah', 'zakyria', 'zaleiah', 'zamani', 'zamarie', 'zamayah', 'zamirha', 'zamoni', 'zamyiah', 'zanayah', 'zander', 'zarayiah', 'zariel', 'zarionna', 'zarnish', 'zarriyah', 'zavanah', 'zayde', 'zayleah', 'zayliah', 'zayliana', 'zayn', 'zee', 'zehava', 'zehira', 'zehlani', 'zeidy', 'zendeya', 'zennia', 'zephora', 'zevaeh', 'zeyah', 'zhaniya', 'zhanna', 'zhariah', 'zhariyah', 'zhen', 'zhia', 'zhoemy', 'ziaire', 'ziann', 'ziarah', 'ziasia', 'ziel', 'zinat', 'zinia', 'ziyi', 'zlaty', 'zoanna', 'zodi', 'zoeey', 'zoel', 'zoela', 'zoellie', 'zophie', 'zoria', 'zsofia', 'zubaida', 'zuli', 'zumar', 'zuriana', 'zurina', 'zyanah', 'zyanne', 'zylaa', 'zyleigh', 'zymirah', 'zynah', 'zyniyah', 'zynlee', 'zyona'] which appeared 5 times\n"
     ]
    }
   ],
   "source": [
    "lowest_count = None\n",
    "least_common_names = []\n",
    "for name in girls:\n",
    "    count = girls[name]\n",
    "    if lowest_count is None or count < lowest_count:\n",
    "        lowest_count = count\n",
    "        least_common_names = [name]\n",
    "    elif count == lowest_count:\n",
    "        least_common_names.append(name)\n",
    "\n",
    "print(f\"The least common name is {least_common_names} which appeared {lowest_count} times\")       "
   ]
  },
  {
   "cell_type": "markdown",
   "metadata": {},
   "source": [
    "How many boys and girls are described in the dataset (i.e., how many boys and girls born in 2018 have names given to at least four others)?\n"
   ]
  },
  {
   "cell_type": "code",
   "execution_count": null,
   "metadata": {},
   "outputs": [],
   "source": []
  },
  {
   "cell_type": "markdown",
   "metadata": {},
   "source": [
    "How many boys' names are also girls' names? How many girls' names are also boys' names?"
   ]
  },
  {
   "cell_type": "code",
   "execution_count": null,
   "metadata": {},
   "outputs": [],
   "source": []
  },
  {
   "cell_type": "markdown",
   "metadata": {},
   "source": [
    "How many names are subsets of other names?"
   ]
  },
  {
   "cell_type": "code",
   "execution_count": null,
   "metadata": {},
   "outputs": [],
   "source": []
  },
  {
   "cell_type": "markdown",
   "metadata": {},
   "source": [
    "\n",
    "What is the most popular girls' name that is also a boys' name?\n"
   ]
  },
  {
   "cell_type": "code",
   "execution_count": null,
   "metadata": {},
   "outputs": [],
   "source": []
  },
  {
   "cell_type": "markdown",
   "metadata": {},
   "source": [
    "Write a function that takes a prefix as input and prints the number of boys and girls with that prefix (e.g., get_names(\"m\") would list all names that start with \"m\" and get_names(\"ma\") would only list those that start with \"ma\")."
   ]
  },
  {
   "cell_type": "code",
   "execution_count": null,
   "metadata": {},
   "outputs": [],
   "source": []
  }
 ],
 "metadata": {
  "kernelspec": {
   "display_name": "Python 3",
   "language": "python",
   "name": "python3"
  },
  "language_info": {
   "codemirror_mode": {
    "name": "ipython",
    "version": 3
   },
   "file_extension": ".py",
   "mimetype": "text/x-python",
   "name": "python",
   "nbconvert_exporter": "python",
   "pygments_lexer": "ipython3",
   "version": "3.8.8"
  }
 },
 "nbformat": 4,
 "nbformat_minor": 4
}
