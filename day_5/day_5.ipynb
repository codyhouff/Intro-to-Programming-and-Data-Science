{
 "cells": [
  {
   "cell_type": "markdown",
   "metadata": {},
   "source": [
    "# Introduction to Dictionaries"
   ]
  },
  {
   "cell_type": "markdown",
   "metadata": {},
   "source": [
    "Dictionaries are sort of like lists, except that we access them with a key, rather than with the index. A key can be a number of different objects: a string, a number, or even a tuple (which we will talk about in a moment).\n",
    "\n",
    "Dictionaries are within \"curly braces\"-- `{}` -- and each key is separated by the value with a colon.\n",
    "\n",
    "The following creates a new dictionary, and then shows how to add or edit entries."
   ]
  },
  {
   "cell_type": "code",
   "execution_count": 3,
   "metadata": {},
   "outputs": [
    {
     "name": "stdout",
     "output_type": "stream",
     "text": [
      "{'Purdue': 6, 'IU': 2, 'Northwestern': 0, 'Michigan': 5}\n"
     ]
    }
   ],
   "source": [
    "basketball_wins = {'Purdue': 5,\n",
    "                   'IU': 2,\n",
    "                   'Northwestern': 0}\n",
    "\n",
    "# To add a new entry\n",
    "basketball_wins['Michigan'] = 5\n",
    "\n",
    "# The same syntax updates an existing entry\n",
    "basketball_wins['Purdue'] = 6\n",
    "\n",
    "print(basketball_wins)"
   ]
  },
  {
   "cell_type": "markdown",
   "metadata": {},
   "source": [
    "Note that when we print the dictionary, it may be in a different order than how we put items into it. While lists maintain the same order, dictionaries are \"unordered\". This is why you can't access an item in a dictionary by an index number.\n",
    "\n",
    "Rather, you access the data associated with a key by entering the name of the key."
   ]
  },
  {
   "cell_type": "code",
   "execution_count": 5,
   "metadata": {},
   "outputs": [
    {
     "data": {
      "text/plain": [
       "6"
      ]
     },
     "execution_count": 5,
     "metadata": {},
     "output_type": "execute_result"
    }
   ],
   "source": [
    "basketball_wins['Purdue']"
   ]
  },
  {
   "cell_type": "code",
   "execution_count": 6,
   "metadata": {},
   "outputs": [
    {
     "ename": "KeyError",
     "evalue": "'Wisconsin'",
     "output_type": "error",
     "traceback": [
      "\u001b[0;31m---------------------------------------------------------------------------\u001b[0m",
      "\u001b[0;31mKeyError\u001b[0m                                  Traceback (most recent call last)",
      "\u001b[0;32m<ipython-input-6-5bf6e7b86186>\u001b[0m in \u001b[0;36m<module>\u001b[0;34m\u001b[0m\n\u001b[1;32m      1\u001b[0m \u001b[0;31m# But you get an KeyError if it doesn't exist\u001b[0m\u001b[0;34m\u001b[0m\u001b[0;34m\u001b[0m\u001b[0;34m\u001b[0m\u001b[0m\n\u001b[1;32m      2\u001b[0m \u001b[0;34m\u001b[0m\u001b[0m\n\u001b[0;32m----> 3\u001b[0;31m \u001b[0mbasketball_wins\u001b[0m\u001b[0;34m[\u001b[0m\u001b[0;34m'Wisconsin'\u001b[0m\u001b[0;34m]\u001b[0m\u001b[0;34m\u001b[0m\u001b[0;34m\u001b[0m\u001b[0m\n\u001b[0m",
      "\u001b[0;31mKeyError\u001b[0m: 'Wisconsin'"
     ]
    }
   ],
   "source": [
    "# But you get an KeyError if it doesn't exist\n",
    "\n",
    "basketball_wins['Wisconsin']"
   ]
  },
  {
   "cell_type": "markdown",
   "metadata": {},
   "source": [
    "One approach to deal with this is to use the `get` method. It will return a default value if the key doesn't exist."
   ]
  },
  {
   "cell_type": "code",
   "execution_count": 7,
   "metadata": {},
   "outputs": [
    {
     "data": {
      "text/plain": [
       "0"
      ]
     },
     "execution_count": 7,
     "metadata": {},
     "output_type": "execute_result"
    }
   ],
   "source": [
    "basketball_wins.get('Wisconsin', 0)"
   ]
  },
  {
   "cell_type": "markdown",
   "metadata": {},
   "source": [
    "While the keys must be unique, the values can change. The following code takes in a string and counts the letters in it."
   ]
  },
  {
   "cell_type": "code",
   "execution_count": 8,
   "metadata": {},
   "outputs": [
    {
     "name": "stdout",
     "output_type": "stream",
     "text": [
      "{'i': 34, 'h': 32, 'a': 44, 'v': 8, 'e': 57, 'b': 8, 'n': 37, 'o': 29, 'c': 13, 'q': 2, 'u': 13, 't': 46, 'd': 21, 'w': 11, 'g': 9, '.': 7, 'l': 18, 'k': 7, 'r': 22, '—': 1, 'f': 6, 's': 19, 'y': 12, 'p': 8, 'm': 8, ',': 3, 'x': 1, '-': 1, ';': 1}\n"
     ]
    }
   ],
   "source": [
    "string = \"\"\"\n",
    "I have been one acquainted with the night.\n",
    "I have walked out in rain—and back in rain.\n",
    "I have outwalked the furthest city light.\n",
    "\n",
    "I have looked down the saddest city lane.\n",
    "I have passed by the watchman on his beat\n",
    "And dropped my eyes, unwilling to explain.\n",
    "\n",
    "I have stood still and stopped the sound of feet\n",
    "When far away an interrupted cry\n",
    "Came over houses from another street,\n",
    "\n",
    "But not to call me back or say good-bye;\n",
    "And further still at an unearthly height,\n",
    "One luminary clock against the sky\n",
    "\n",
    "Proclaimed the time was neither wrong nor right. \n",
    "I have been one acquainted with the night.\n",
    "\"\"\"\n",
    "string = string.lower()\n",
    "letter_dict = {}\n",
    "for letter in string:\n",
    "    # Don't count new lines or spaces\n",
    "    if letter in ['\\n',' ']:\n",
    "        continue\n",
    "    if letter in letter_dict:\n",
    "        letter_dict[letter] = letter_dict[letter] + 1\n",
    "    else:\n",
    "        letter_dict[letter] = 1\n",
    "        \n",
    "print(letter_dict)\n"
   ]
  },
  {
   "cell_type": "markdown",
   "metadata": {},
   "source": [
    "### Excercise 1 \n",
    "\n",
    "See if you can modify the code above to count how often each word appears instead."
   ]
  },
  {
   "cell_type": "code",
   "execution_count": 13,
   "metadata": {},
   "outputs": [
    {
     "name": "stdout",
     "output_type": "stream",
     "text": [
      "{'i': 7, 'have': 7, 'been': 2, 'one': 3, 'acquainted': 2, 'with': 2, 'the': 8, 'night': 2, 'walked': 1, 'out': 1, 'in': 2, 'rain—and': 1, 'back': 2, 'rain': 1, 'outwalked': 1, 'furthest': 1, 'city': 2, 'light': 1, 'looked': 1, 'down': 1, 'saddest': 1, 'lane': 1, 'passed': 1, 'by': 1, 'watchman': 1, 'on': 1, 'his': 1, 'beat': 1, 'and': 3, 'dropped': 1, 'my': 1, 'eyes,': 1, 'unwilling': 1, 'to': 2, 'explain': 1, 'stood': 1, 'still': 2, 'stopped': 1, 'sound': 1, 'of': 1, 'feet': 1, 'when': 1, 'far': 1, 'away': 1, 'an': 2, 'interrupted': 1, 'cry': 1, 'came': 1, 'over': 1, 'houses': 1, 'from': 1, 'another': 1, 'street,': 1, 'but': 1, 'not': 1, 'call': 1, 'me': 1, 'or': 1, 'say': 1, 'good-bye;': 1, 'further': 1, 'at': 1, 'unearthly': 1, 'height,': 1, 'luminary': 1, 'clock': 1, 'against': 1, 'sky': 1, 'proclaimed': 1, 'time': 1, 'was': 1, 'neither': 1, 'wrong': 1, 'nor': 1, 'right': 1}\n"
     ]
    }
   ],
   "source": [
    "## Your code here\n",
    "\n",
    "string = \"\"\"\n",
    "I have been one acquainted with the night.\n",
    "I have walked out in rain—and back in rain.\n",
    "I have outwalked the furthest city light.\n",
    "\n",
    "I have looked down the saddest city lane.\n",
    "I have passed by the watchman on his beat\n",
    "And dropped my eyes, unwilling to explain.\n",
    "\n",
    "I have stood still and stopped the sound of feet\n",
    "When far away an interrupted cry\n",
    "Came over houses from another street,\n",
    "\n",
    "But not to call me back or say good-bye;\n",
    "And further still at an unearthly height,\n",
    "One luminary clock against the sky\n",
    "\n",
    "Proclaimed the time was neither wrong nor right. \n",
    "I have been one acquainted with the night.\n",
    "\"\"\"\n",
    "string = string.lower()\n",
    "word_dict = {}\n",
    "for word in string.split():\n",
    "    # Don't count new lines or spaces\n",
    "    if word in ['\\n',' ']:\n",
    "        continue\n",
    "    else:\n",
    "        word = word.strip('.!')\n",
    "        word_dict[word] = word_dict.get(word, 0) + 1\n",
    "        \n",
    "print(word_dict)"
   ]
  },
  {
   "cell_type": "markdown",
   "metadata": {},
   "source": [
    "## Tuples\n",
    "\n",
    "Tuples are very similar to lists. They are created with parentheses -- `()` -- rather than with square brackets. "
   ]
  },
  {
   "cell_type": "code",
   "execution_count": 8,
   "metadata": {},
   "outputs": [],
   "source": [
    "my_tuple = (4,13,'hello')"
   ]
  },
  {
   "cell_type": "markdown",
   "metadata": {},
   "source": [
    "Like lists, items in a tuple can be accessed by indexing."
   ]
  },
  {
   "cell_type": "code",
   "execution_count": 10,
   "metadata": {},
   "outputs": [
    {
     "data": {
      "text/plain": [
       "13"
      ]
     },
     "execution_count": 10,
     "metadata": {},
     "output_type": "execute_result"
    }
   ],
   "source": [
    "my_tuple[1]"
   ]
  },
  {
   "cell_type": "markdown",
   "metadata": {},
   "source": [
    "However, tuples are \"immutable\", meaning that they can't be changed after they are created. So, things like \"append\" and \"pop\" won't work.\n",
    "\n",
    "This immutability is (for complicated reasons) an important attribute of dictionary keys, and tuples are often used in dictionaries. For example, let's say you wanted to store the population of cities in the US. You might create a dictionary like this:"
   ]
  },
  {
   "cell_type": "code",
   "execution_count": 1,
   "metadata": {},
   "outputs": [],
   "source": [
    "population_dict = {('Georgia', 'Atlanta'): 498000,\n",
    "              ('Illinois', 'Atlanta'): 1692,\n",
    "              ('Illinois', 'Chicago'): 2750000\n",
    "             }"
   ]
  },
  {
   "cell_type": "markdown",
   "metadata": {},
   "source": [
    "## Example + Excercise\n",
    "\n",
    "The following code takes a csv table of city populations that I grabbed from the US Census bureau API and saved [here](https://raw.githubusercontent.com/jdfoote/Intro-to-Programming-and-Data-Science/master/resources/data/uscities.csv). The first few lines below downloads the file. The next bit of code converts the file into a dictionary that looks like the above."
   ]
  },
  {
   "cell_type": "code",
   "execution_count": 14,
   "metadata": {},
   "outputs": [
    {
     "name": "stdout",
     "output_type": "stream",
     "text": [
      "[(('Alabama', 'Abbeville city'), 2560), (('Alabama', 'Adamsville city'), 4281), (('Alabama', 'Addison town'), 718), (('Alabama', 'Akron town'), 328), (('Alabama', 'Alabaster city'), 33487)]\n"
     ]
    }
   ],
   "source": [
    "import csv\n",
    "import requests\n",
    "import codecs\n",
    "\n",
    "# This downloads the file and then opens it. You could also save it to your computer, and open it in the normal way\n",
    "f = requests.get('https://raw.githubusercontent.com/jdfoote/Intro-to-Programming-and-Data-Science/master/resources/data/uscities.csv')\n",
    "f_csv = csv.reader(codecs.iterdecode(f.iter_lines(), 'utf-8'))\n",
    "next(f_csv) # This just skips the header row, so it isn't in our data\n",
    "population_dict = {}\n",
    "for row in f_csv:\n",
    "     # To get these numbers, I just opened the CSV file and looked at which columns had this data\n",
    "    city = row[1]\n",
    "    state = row[2]\n",
    "    population = int(row[0])\n",
    "    if (state, city) in population_dict: # Check for the same city twice in the same state\n",
    "        print(state, city)\n",
    "    else:\n",
    "        population_dict[(state, city)] = population\n",
    "        \n",
    "# This code prints the first few items in the dictionary, to make sure it looks like it's right\n",
    "print(list(population_dict.items())[:5])"
   ]
  },
  {
   "cell_type": "markdown",
   "metadata": {},
   "source": [
    "It looks right, so let's press on.\n",
    "\n",
    "By using tuples as keys, you can do things like summarize by one or the other entries in the tuple."
   ]
  },
  {
   "cell_type": "code",
   "execution_count": 16,
   "metadata": {},
   "outputs": [
    {
     "name": "stdout",
     "output_type": "stream",
     "text": [
      "{'Alabama': 2998987, 'Alaska': 497834, 'Arizona': 5791407, 'Arkansas': 2001152, 'California': 32965607, 'Colorado': 4279051, 'Connecticut': 1379443, 'Delaware': 276116, 'District of Columbia': 705749, 'Florida': 10766975, 'Village of Islands village; Florida': 6317, 'Georgia': 4685332, 'Hawaii': 345064, 'Idaho': 1257628, 'Illinois': 11040504, 'Indiana': 4505674, 'Iowa': 2524555, 'Kansas': 2418759, 'Kentucky': 2473075, 'Louisiana': 2179262, 'Maine': 376400, 'Maryland': 1528860, 'Massachusetts': 3636758, 'Michigan': 5051706, 'Minnesota': 4665488, 'Mississippi': 1505545, 'Missouri': 4067590, 'Montana': 580973, 'Nebraska': 1500339, 'Nevada': 1752205, 'New Hampshire': 428025, 'New Jersey': 4233773, 'New Mexico': 1402249, 'New York': 12403348, 'North Carolina': 5962201, 'North Dakota': 592706, 'Ohio': 7604347, 'Oklahoma': 3044153, 'Oregon': 2963745, 'Pennsylvania': 5586259, 'Rhode Island': 547731, 'South Carolina': 1865562, 'South Dakota': 626159, 'Tennessee': 4090552, 'Moore County metropolitan government; Tennessee': 6488, 'Texas': 21347770, 'Utah': 2999411, 'Vermont': 150100, 'Virginia': 3091495, 'Washington': 4970509, 'West Virginia': 607895, 'Wisconsin': 4198300, 'Wyoming': 397716}\n"
     ]
    }
   ],
   "source": [
    "state_populations = {}\n",
    "for city in population_dict:\n",
    "    state = city[0] # Extract the state from the key\n",
    "    city_pop = population_dict[city] # Extract the population from the value\n",
    "    try: # If the key exists, then add the population\n",
    "        state_populations[state] += city_pop\n",
    "    except KeyError: # Otherwise set the value to the population\n",
    "        state_populations[state] = city_pop\n",
    "    \n",
    "print(state_populations)"
   ]
  }
 ],
 "metadata": {
  "kernelspec": {
   "display_name": "Python 3",
   "language": "python",
   "name": "python3"
  },
  "language_info": {
   "codemirror_mode": {
    "name": "ipython",
    "version": 3
   },
   "file_extension": ".py",
   "mimetype": "text/x-python",
   "name": "python",
   "nbconvert_exporter": "python",
   "pygments_lexer": "ipython3",
   "version": "3.7.4"
  }
 },
 "nbformat": 4,
 "nbformat_minor": 2
}
