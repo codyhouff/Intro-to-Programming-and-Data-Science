{
 "cells": [
  {
   "cell_type": "code",
   "execution_count": 1,
   "metadata": {},
   "outputs": [],
   "source": [
    "import pandas as pd\n",
    "import numpy as np\n",
    "import seaborn as sns"
   ]
  },
  {
   "cell_type": "code",
   "execution_count": 2,
   "metadata": {},
   "outputs": [],
   "source": [
    "reddit_df = pd.read_csv('/home/jeremy/Teaching/intro_to_programming_and_ds/resources/data/100k_random_reddit_2018.csv')"
   ]
  },
  {
   "cell_type": "code",
   "execution_count": 3,
   "metadata": {},
   "outputs": [
    {
     "data": {
      "text/html": [
       "<div>\n",
       "<style scoped>\n",
       "    .dataframe tbody tr th:only-of-type {\n",
       "        vertical-align: middle;\n",
       "    }\n",
       "\n",
       "    .dataframe tbody tr th {\n",
       "        vertical-align: top;\n",
       "    }\n",
       "\n",
       "    .dataframe thead th {\n",
       "        text-align: right;\n",
       "    }\n",
       "</style>\n",
       "<table border=\"1\" class=\"dataframe\">\n",
       "  <thead>\n",
       "    <tr style=\"text-align: right;\">\n",
       "      <th></th>\n",
       "      <th>created_utc</th>\n",
       "      <th>subreddit</th>\n",
       "      <th>author</th>\n",
       "      <th>comment_length</th>\n",
       "      <th>score</th>\n",
       "    </tr>\n",
       "  </thead>\n",
       "  <tbody>\n",
       "    <tr>\n",
       "      <th>21207</th>\n",
       "      <td>1522288057</td>\n",
       "      <td>LoveNikki</td>\n",
       "      <td>queerestqueen</td>\n",
       "      <td>10045</td>\n",
       "      <td>6</td>\n",
       "    </tr>\n",
       "    <tr>\n",
       "      <th>52329</th>\n",
       "      <td>1532344433</td>\n",
       "      <td>Music</td>\n",
       "      <td>DJ_Spam</td>\n",
       "      <td>9726</td>\n",
       "      <td>1</td>\n",
       "    </tr>\n",
       "    <tr>\n",
       "      <th>78315</th>\n",
       "      <td>1540314439</td>\n",
       "      <td>NewsBrasil</td>\n",
       "      <td>newsbrasilbot</td>\n",
       "      <td>9720</td>\n",
       "      <td>1</td>\n",
       "    </tr>\n",
       "    <tr>\n",
       "      <th>61600</th>\n",
       "      <td>1535240874</td>\n",
       "      <td>NFLstream4kHD</td>\n",
       "      <td>Illustrious_Play</td>\n",
       "      <td>9577</td>\n",
       "      <td>1</td>\n",
       "    </tr>\n",
       "    <tr>\n",
       "      <th>71908</th>\n",
       "      <td>1538405283</td>\n",
       "      <td>Music</td>\n",
       "      <td>DJ_Spam</td>\n",
       "      <td>9418</td>\n",
       "      <td>2</td>\n",
       "    </tr>\n",
       "  </tbody>\n",
       "</table>\n",
       "</div>"
      ],
      "text/plain": [
       "       created_utc      subreddit            author  comment_length  score\n",
       "21207   1522288057      LoveNikki     queerestqueen           10045      6\n",
       "52329   1532344433          Music           DJ_Spam            9726      1\n",
       "78315   1540314439     NewsBrasil     newsbrasilbot            9720      1\n",
       "61600   1535240874  NFLstream4kHD  Illustrious_Play            9577      1\n",
       "71908   1538405283          Music           DJ_Spam            9418      2"
      ]
     },
     "execution_count": 3,
     "metadata": {},
     "output_type": "execute_result"
    }
   ],
   "source": [
    "df_by_length = reddit_df.sort_values('comment_length', ascending=False)\n",
    "df_by_length.head()"
   ]
  },
  {
   "cell_type": "markdown",
   "metadata": {},
   "source": [
    "### Exercise 1\n",
    "\n",
    "Sort the data frame by score and select the rows with the 10th to 20th highest scores.\n"
   ]
  },
  {
   "cell_type": "code",
   "execution_count": 11,
   "metadata": {},
   "outputs": [],
   "source": [
    "df_by_score = reddit_df.sort_values('score', ascending=False)\n",
    "df_by_score.iloc[10:20]"
   ]
  },
  {
   "cell_type": "markdown",
   "metadata": {},
   "source": [
    "### Exercise 2\n",
    "\n",
    "Now, how would you select just the `subreddit` and `comment_length` columns for the rows you selected above?"
   ]
  },
  {
   "cell_type": "code",
   "execution_count": 13,
   "metadata": {},
   "outputs": [
    {
     "data": {
      "text/html": [
       "<div>\n",
       "<style scoped>\n",
       "    .dataframe tbody tr th:only-of-type {\n",
       "        vertical-align: middle;\n",
       "    }\n",
       "\n",
       "    .dataframe tbody tr th {\n",
       "        vertical-align: top;\n",
       "    }\n",
       "\n",
       "    .dataframe thead th {\n",
       "        text-align: right;\n",
       "    }\n",
       "</style>\n",
       "<table border=\"1\" class=\"dataframe\">\n",
       "  <thead>\n",
       "    <tr style=\"text-align: right;\">\n",
       "      <th></th>\n",
       "      <th>subreddit</th>\n",
       "      <th>comment_length</th>\n",
       "    </tr>\n",
       "  </thead>\n",
       "  <tbody>\n",
       "    <tr>\n",
       "      <th>73188</th>\n",
       "      <td>AskReddit</td>\n",
       "      <td>127</td>\n",
       "    </tr>\n",
       "    <tr>\n",
       "      <th>79165</th>\n",
       "      <td>gaming</td>\n",
       "      <td>137</td>\n",
       "    </tr>\n",
       "    <tr>\n",
       "      <th>1963</th>\n",
       "      <td>StarWars</td>\n",
       "      <td>162</td>\n",
       "    </tr>\n",
       "    <tr>\n",
       "      <th>23011</th>\n",
       "      <td>AskReddit</td>\n",
       "      <td>189</td>\n",
       "    </tr>\n",
       "    <tr>\n",
       "      <th>64345</th>\n",
       "      <td>therewasanattempt</td>\n",
       "      <td>120</td>\n",
       "    </tr>\n",
       "    <tr>\n",
       "      <th>88861</th>\n",
       "      <td>fo76</td>\n",
       "      <td>42</td>\n",
       "    </tr>\n",
       "    <tr>\n",
       "      <th>8514</th>\n",
       "      <td>videos</td>\n",
       "      <td>84</td>\n",
       "    </tr>\n",
       "    <tr>\n",
       "      <th>77395</th>\n",
       "      <td>videos</td>\n",
       "      <td>70</td>\n",
       "    </tr>\n",
       "    <tr>\n",
       "      <th>96618</th>\n",
       "      <td>TwoXChromosomes</td>\n",
       "      <td>303</td>\n",
       "    </tr>\n",
       "    <tr>\n",
       "      <th>26232</th>\n",
       "      <td>LifeProTips</td>\n",
       "      <td>321</td>\n",
       "    </tr>\n",
       "  </tbody>\n",
       "</table>\n",
       "</div>"
      ],
      "text/plain": [
       "               subreddit  comment_length\n",
       "73188          AskReddit             127\n",
       "79165             gaming             137\n",
       "1963            StarWars             162\n",
       "23011          AskReddit             189\n",
       "64345  therewasanattempt             120\n",
       "88861               fo76              42\n",
       "8514              videos              84\n",
       "77395             videos              70\n",
       "96618    TwoXChromosomes             303\n",
       "26232        LifeProTips             321"
      ]
     },
     "execution_count": 13,
     "metadata": {},
     "output_type": "execute_result"
    }
   ],
   "source": [
    "df1020 = df_by_score.iloc[10:20]\n",
    "df1020[['subreddit', 'comment_length']]"
   ]
  },
  {
   "cell_type": "code",
   "execution_count": 15,
   "metadata": {},
   "outputs": [
    {
     "data": {
      "text/html": [
       "<div>\n",
       "<style scoped>\n",
       "    .dataframe tbody tr th:only-of-type {\n",
       "        vertical-align: middle;\n",
       "    }\n",
       "\n",
       "    .dataframe tbody tr th {\n",
       "        vertical-align: top;\n",
       "    }\n",
       "\n",
       "    .dataframe thead th {\n",
       "        text-align: right;\n",
       "    }\n",
       "</style>\n",
       "<table border=\"1\" class=\"dataframe\">\n",
       "  <thead>\n",
       "    <tr style=\"text-align: right;\">\n",
       "      <th></th>\n",
       "      <th>subreddit</th>\n",
       "      <th>comment_length</th>\n",
       "    </tr>\n",
       "  </thead>\n",
       "  <tbody>\n",
       "    <tr>\n",
       "      <th>73188</th>\n",
       "      <td>AskReddit</td>\n",
       "      <td>127</td>\n",
       "    </tr>\n",
       "    <tr>\n",
       "      <th>79165</th>\n",
       "      <td>gaming</td>\n",
       "      <td>137</td>\n",
       "    </tr>\n",
       "    <tr>\n",
       "      <th>1963</th>\n",
       "      <td>StarWars</td>\n",
       "      <td>162</td>\n",
       "    </tr>\n",
       "    <tr>\n",
       "      <th>23011</th>\n",
       "      <td>AskReddit</td>\n",
       "      <td>189</td>\n",
       "    </tr>\n",
       "    <tr>\n",
       "      <th>64345</th>\n",
       "      <td>therewasanattempt</td>\n",
       "      <td>120</td>\n",
       "    </tr>\n",
       "    <tr>\n",
       "      <th>88861</th>\n",
       "      <td>fo76</td>\n",
       "      <td>42</td>\n",
       "    </tr>\n",
       "    <tr>\n",
       "      <th>8514</th>\n",
       "      <td>videos</td>\n",
       "      <td>84</td>\n",
       "    </tr>\n",
       "    <tr>\n",
       "      <th>77395</th>\n",
       "      <td>videos</td>\n",
       "      <td>70</td>\n",
       "    </tr>\n",
       "    <tr>\n",
       "      <th>96618</th>\n",
       "      <td>TwoXChromosomes</td>\n",
       "      <td>303</td>\n",
       "    </tr>\n",
       "    <tr>\n",
       "      <th>26232</th>\n",
       "      <td>LifeProTips</td>\n",
       "      <td>321</td>\n",
       "    </tr>\n",
       "  </tbody>\n",
       "</table>\n",
       "</div>"
      ],
      "text/plain": [
       "               subreddit  comment_length\n",
       "73188          AskReddit             127\n",
       "79165             gaming             137\n",
       "1963            StarWars             162\n",
       "23011          AskReddit             189\n",
       "64345  therewasanattempt             120\n",
       "88861               fo76              42\n",
       "8514              videos              84\n",
       "77395             videos              70\n",
       "96618    TwoXChromosomes             303\n",
       "26232        LifeProTips             321"
      ]
     },
     "execution_count": 15,
     "metadata": {},
     "output_type": "execute_result"
    }
   ],
   "source": [
    "df_by_score.iloc[10:20,[1,3]]"
   ]
  },
  {
   "cell_type": "markdown",
   "metadata": {},
   "source": [
    "### Exercise 3\n",
    "\n",
    "Find the average (mean) comment length for each subreddit and sort by comment length"
   ]
  },
  {
   "cell_type": "code",
   "execution_count": 21,
   "metadata": {},
   "outputs": [
    {
     "data": {
      "text/plain": [
       "subreddit\n",
       "AskTheOuija                1.0\n",
       "Boilermakers               1.0\n",
       "im30andthisissheep         1.0\n",
       "askOuiji                   1.0\n",
       "FalconsBuccaneerlive       1.0\n",
       "                         ...  \n",
       "EnglishOneThirtyOne     6054.0\n",
       "TheTruthTellers         6214.0\n",
       "DestructiveReaders      7532.0\n",
       "NFLstream4kHD           9577.0\n",
       "NewsBrasil              9720.0\n",
       "Name: comment_length, Length: 10198, dtype: float64"
      ]
     },
     "execution_count": 21,
     "metadata": {},
     "output_type": "execute_result"
    }
   ],
   "source": [
    "reddit_df.groupby('subreddit').mean().comment_length.sort_values()"
   ]
  },
  {
   "cell_type": "markdown",
   "metadata": {},
   "source": [
    "### Exercise 4\n",
    "\n",
    "Plot the number of comments and average score. Are frequent posters more likely to share comments that are well-received?\n",
    "\n",
    "*Hint*: You will want to use a dataframe that groups the data by person"
   ]
  },
  {
   "cell_type": "code",
   "execution_count": 23,
   "metadata": {},
   "outputs": [],
   "source": [
    "grouped_df = reddit_df.groupby('author')\n",
    "\n",
    "subreddit_count = grouped_df.subreddit.nunique()\n",
    "comments_count = grouped_df.size()\n",
    "score_mean = grouped_df.score.mean()\n",
    "\n",
    "\n",
    "person_df = pd.DataFrame({'subreddit_count': subreddit_count,\n",
    "                          'comments_count': comments_count,\n",
    "                          'mean_score': score_mean})"
   ]
  },
  {
   "cell_type": "code",
   "execution_count": 32,
   "metadata": {},
   "outputs": [
    {
     "data": {
      "text/plain": [
       "author\n",
       "---------_---------_    1.0\n",
       "--------__--_---        1.0\n",
       "-----_------_---        1.0\n",
       "-----o____              7.0\n",
       "----Prometheus----      2.0\n",
       "                       ... \n",
       "zzoy                    1.0\n",
       "zzuum                   1.0\n",
       "zzyul                   1.0\n",
       "zzyzzx2                 1.5\n",
       "zzzzz94                 6.0\n",
       "Name: score, Length: 84941, dtype: float64"
      ]
     },
     "execution_count": 32,
     "metadata": {},
     "output_type": "execute_result"
    }
   ],
   "source": [
    "grouped_df.score.mean()"
   ]
  },
  {
   "cell_type": "code",
   "execution_count": null,
   "metadata": {},
   "outputs": [],
   "source": [
    "result = {}\n",
    "subreddits = []\n",
    "for row in dataframe:\n",
    "    author = row['author']\n",
    "    result[author] = result.get(author, []).append(row['subreddit'])"
   ]
  },
  {
   "cell_type": "code",
   "execution_count": 27,
   "metadata": {},
   "outputs": [
    {
     "data": {
      "text/plain": [
       "author\n",
       "---------_---------_    1\n",
       "--------__--_---        1\n",
       "-----_------_---        1\n",
       "-----o____              1\n",
       "----Prometheus----      1\n",
       "                       ..\n",
       "zzoy                    1\n",
       "zzuum                   1\n",
       "zzyul                   1\n",
       "zzyzzx2                 2\n",
       "zzzzz94                 2\n",
       "Name: subreddit, Length: 84941, dtype: int64"
      ]
     },
     "execution_count": 27,
     "metadata": {},
     "output_type": "execute_result"
    }
   ],
   "source": [
    "grouped_df.subreddit.nunique()"
   ]
  },
  {
   "cell_type": "code",
   "execution_count": 25,
   "metadata": {},
   "outputs": [
    {
     "data": {
      "image/png": "[encoded data removed]",
      "text/plain": [
       "<Figure size 432x288 with 1 Axes>"
      ]
     },
     "metadata": {
      "needs_background": "light"
     },
     "output_type": "display_data"
    }
   ],
   "source": [
    "person_df.plot.scatter(x = 'comments_count', y = 'mean_score');"
   ]
  },
  {
   "cell_type": "code",
   "execution_count": 34,
   "metadata": {},
   "outputs": [
    {
     "data": {
      "image/png": "[encoded data removed]",
      "text/plain": [
       "<Figure size 432x288 with 1 Axes>"
      ]
     },
     "metadata": {
      "needs_background": "light"
     },
     "output_type": "display_data"
    }
   ],
   "source": [
    "## Note that this is slightly different (improved) from the code in the video\n",
    "person_df['comments_logged'] = np.log1p(person_df.comments_count)\n",
    "# Scores can be negative, so we add the minimum (plus one) to make sure they are positive\n",
    "# And then log transform\n",
    "person_df['mean_score_logged'] = np.log1p(person_df.mean_score + abs(person_df.mean_score.min()))\n",
    "\n",
    "person_df.plot.scatter(x='comments_logged', y = 'mean_score_logged');"
   ]
  },
  {
   "cell_type": "markdown",
   "metadata": {},
   "source": [
    "### Exercise 5\n",
    "\n",
    "Plot the number of comments per month over the year."
   ]
  },
  {
   "cell_type": "code",
   "execution_count": 36,
   "metadata": {},
   "outputs": [
    {
     "data": {
      "image/png": "[encoded data removed]",
      "text/plain": [
       "<Figure size 432x288 with 1 Axes>"
      ]
     },
     "metadata": {
      "needs_background": "light"
     },
     "output_type": "display_data"
    }
   ],
   "source": [
    "reddit_df.index = pd.to_datetime(reddit_df.created_utc, unit='s', utc=True)\n",
    "monthly_comments = reddit_df.resample('M').size()\n",
    "monthly_comments.plot();"
   ]
  },
  {
   "cell_type": "markdown",
   "metadata": {},
   "source": [
    "### Exercise 6\n",
    "\n",
    "See if you can figure out how to change the above plot so that instead of showing one overall line for comments per hour, it shows a line for each day of the week (e.g., a line for comments per hour on Mondays, another for Tuesdays, etc.).\n",
    "\n",
    "This code can help you to get started: it sums the number of comments by hour and day."
   ]
  },
  {
   "cell_type": "code",
   "execution_count": 41,
   "metadata": {},
   "outputs": [
    {
     "data": {
      "text/plain": [
       "<AxesSubplot:xlabel='created_utc'>"
      ]
     },
     "execution_count": 41,
     "metadata": {},
     "output_type": "execute_result"
    },
    {
     "data": {
      "image/png": "[encoded data removed]",
      "text/plain": [
       "<Figure size 432x288 with 1 Axes>"
      ]
     },
     "metadata": {
      "needs_background": "light"
     },
     "output_type": "display_data"
    }
   ],
   "source": [
    "\n",
    "reddit_df.groupby([reddit_df.index.hour, reddit_df.index.weekday]).size().unstack().plot()"
   ]
  },
  {
   "cell_type": "code",
   "execution_count": 44,
   "metadata": {},
   "outputs": [
    {
     "data": {
      "text/html": [
       "<div>\n",
       "<style scoped>\n",
       "    .dataframe tbody tr th:only-of-type {\n",
       "        vertical-align: middle;\n",
       "    }\n",
       "\n",
       "    .dataframe tbody tr th {\n",
       "        vertical-align: top;\n",
       "    }\n",
       "\n",
       "    .dataframe thead th {\n",
       "        text-align: right;\n",
       "    }\n",
       "</style>\n",
       "<table border=\"1\" class=\"dataframe\">\n",
       "  <thead>\n",
       "    <tr style=\"text-align: right;\">\n",
       "      <th></th>\n",
       "      <th>created_utc</th>\n",
       "      <th>comment_length</th>\n",
       "      <th>score</th>\n",
       "    </tr>\n",
       "    <tr>\n",
       "      <th>created_utc</th>\n",
       "      <th></th>\n",
       "      <th></th>\n",
       "      <th></th>\n",
       "    </tr>\n",
       "  </thead>\n",
       "  <tbody>\n",
       "    <tr>\n",
       "      <th>0</th>\n",
       "      <td>1.531197e+09</td>\n",
       "      <td>166.903591</td>\n",
       "      <td>8.189228</td>\n",
       "    </tr>\n",
       "    <tr>\n",
       "      <th>1</th>\n",
       "      <td>1.531021e+09</td>\n",
       "      <td>166.886344</td>\n",
       "      <td>10.458118</td>\n",
       "    </tr>\n",
       "    <tr>\n",
       "      <th>2</th>\n",
       "      <td>1.531093e+09</td>\n",
       "      <td>164.661981</td>\n",
       "      <td>9.479451</td>\n",
       "    </tr>\n",
       "    <tr>\n",
       "      <th>3</th>\n",
       "      <td>1.531080e+09</td>\n",
       "      <td>166.660076</td>\n",
       "      <td>7.200027</td>\n",
       "    </tr>\n",
       "    <tr>\n",
       "      <th>4</th>\n",
       "      <td>1.531340e+09</td>\n",
       "      <td>161.482581</td>\n",
       "      <td>8.526077</td>\n",
       "    </tr>\n",
       "    <tr>\n",
       "      <th>5</th>\n",
       "      <td>1.531539e+09</td>\n",
       "      <td>152.759592</td>\n",
       "      <td>8.298236</td>\n",
       "    </tr>\n",
       "    <tr>\n",
       "      <th>6</th>\n",
       "      <td>1.531933e+09</td>\n",
       "      <td>154.687898</td>\n",
       "      <td>8.934586</td>\n",
       "    </tr>\n",
       "  </tbody>\n",
       "</table>\n",
       "</div>"
      ],
      "text/plain": [
       "              created_utc  comment_length      score\n",
       "created_utc                                         \n",
       "0            1.531197e+09      166.903591   8.189228\n",
       "1            1.531021e+09      166.886344  10.458118\n",
       "2            1.531093e+09      164.661981   9.479451\n",
       "3            1.531080e+09      166.660076   7.200027\n",
       "4            1.531340e+09      161.482581   8.526077\n",
       "5            1.531539e+09      152.759592   8.298236\n",
       "6            1.531933e+09      154.687898   8.934586"
      ]
     },
     "execution_count": 44,
     "metadata": {},
     "output_type": "execute_result"
    }
   ],
   "source": [
    "reddit_df.groupby(reddit_df.index.weekday).mean()"
   ]
  }
 ],
 "metadata": {
  "kernelspec": {
   "display_name": "Python 3",
   "language": "python",
   "name": "python3"
  },
  "language_info": {
   "codemirror_mode": {
    "name": "ipython",
    "version": 3
   },
   "file_extension": ".py",
   "mimetype": "text/x-python",
   "name": "python",
   "nbconvert_exporter": "python",
   "pygments_lexer": "ipython3",
   "version": "3.8.8"
  }
 },
 "nbformat": 4,
 "nbformat_minor": 4
}
