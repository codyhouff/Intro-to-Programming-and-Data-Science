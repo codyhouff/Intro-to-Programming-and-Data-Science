{
 "cells": [
  {
   "cell_type": "markdown",
   "metadata": {},
   "source": [
    "## Py4E exercises"
   ]
  },
  {
   "cell_type": "markdown",
   "metadata": {},
   "source": [
    "5.1 Write a program which repeatedly reads numbers until the user enters “done”. Once “done” is entered, print out the total, count, and average of the numbers. If the user enters anything other than a number, detect their mistake using try and except and print an error message and skip to the next number."
   ]
  },
  {
   "cell_type": "code",
   "execution_count": null,
   "metadata": {},
   "outputs": [],
   "source": [
    "my_list =[]\n",
    "\n",
    "while True: \n",
    "    numbers = input(\"Enter a number: \")\n",
    "    \n",
    "    if numbers == \"done\":\n",
    "        break\n",
    "    try:\n",
    "        n = float(numbers)\n",
    "    except ValueError:\n",
    "        print(\"Please enter a digit\")\n",
    "        continue\n",
    "    my_list.append(n)\n",
    "    print(numbers)\n",
    "\n",
    "total = sum(my_list)\n",
    "cnt = len(my_list)\n",
    "avg = total/cnt\n",
    "print(\"Your Average is: {}. The total was: {}. You entered {} numbers.\".format(avg,total,cnt))"
   ]
  },
  {
   "cell_type": "markdown",
   "metadata": {},
   "source": [
    "5.2 Write another program that prompts for a list of numbers as above and at the end prints out both the maximum and minimum of the numbers instead of the average."
   ]
  },
  {
   "cell_type": "code",
   "execution_count": null,
   "metadata": {},
   "outputs": [],
   "source": [
    "largest = None\n",
    "smallest = None\n",
    "while True:\n",
    "    try:\n",
    "        num = input(\"Enter a number: \")\n",
    "        if num == \"done\":\n",
    "            break\n",
    "        print(num)\n",
    "\n",
    "        num = int(num)\n",
    "        if largest is None or largest < num:\n",
    "            largest = num\n",
    "        if smallest is None or smallest > num:\n",
    "            smallest = num\n",
    "    except ValueError:\n",
    "        print(\"bad data\")\n",
    "\n",
    "print (\"Max: \", largest)\n",
    "print (\"Min: \", smallest)"
   ]
  },
  {
   "cell_type": "markdown",
   "metadata": {},
   "source": [
    "6.5: Take the following Python code that stores a string:\n",
    "\n",
    "`str = 'X-DSPAM-Confidence:0.8475'`\n",
    "\n",
    "Use find and string slicing to extract the portion of the string after the colon character and then use the `float` function to convert the extracted string into a floating point number."
   ]
  },
  {
   "cell_type": "code",
   "execution_count": 8,
   "metadata": {},
   "outputs": [
    {
     "name": "stdout",
     "output_type": "stream",
     "text": [
      "18\n",
      "<class 'float'>\n",
      "0.8475\n"
     ]
    }
   ],
   "source": [
    "str = 'X-DSPAM-Confidence:0.8475'\n",
    "colon = str.find(':')\n",
    "print(colon)\n",
    "number = str[colon + 1:]\n",
    "number = float(number)\n",
    "print(type(number))\n",
    "print(number)"
   ]
  },
  {
   "cell_type": "markdown",
   "metadata": {},
   "source": [
    "8.6 Rewrite the program that prompts the user for a list of numbers and prints out the maximum and minimum of the numbers at the end when the user enters “done”. Write the program to store the numbers the user enters in a list and use the max() and min() functions to compute the maximum and minimum numbers after the loop completes."
   ]
  },
  {
   "cell_type": "code",
   "execution_count": 9,
   "metadata": {},
   "outputs": [
    {
     "data": {
      "text/plain": [
       "6"
      ]
     },
     "execution_count": 9,
     "metadata": {},
     "output_type": "execute_result"
    }
   ],
   "source": [
    "x = [1,2,4,6]\n",
    "\n",
    "max(x)"
   ]
  },
  {
   "cell_type": "code",
   "execution_count": null,
   "metadata": {},
   "outputs": [],
   "source": [
    "count = 0\n",
    "total = 0\n",
    "mylist = []\n",
    "\n",
    "def min(mylist):\n",
    "    smallest = None\n",
    "    for line in mylist:\n",
    "        if smallest is None or line < smallest:\n",
    "            smallest = line\n",
    "    return smallest\n",
    "\n",
    "def max(mylist):\n",
    "    largest = None\n",
    "    for line in mylist:\n",
    "        if largest is None or line > largest:\n",
    "            largest = line\n",
    "    return largest\n",
    "\n",
    "\n",
    "while True:\n",
    "  user_prompt = 'Enter a number \\n'\n",
    "  line = input (user_prompt)\n",
    "\n",
    "  try:\n",
    "    line = float(line)\n",
    "    mylist.append(line)\n",
    "    count = count + 1 \n",
    "    total = total + line\n",
    "\n",
    "    smallest = min(mylist)\n",
    "    largest = max(mylist)\n",
    "\n",
    "  except:a\n",
    "    if line == 'done':\n",
    "      break\n",
    "    else:\n",
    "      print ('Invalid Input')\n",
    "      continue\n",
    "\n",
    "\n",
    "print (\"The minimum is: %s and The maximum is: %s\" %(smallest, largest))"
   ]
  },
  {
   "cell_type": "markdown",
   "metadata": {},
   "source": [
    "## Wordplay exercises"
   ]
  },
  {
   "cell_type": "markdown",
   "metadata": {},
   "source": [
    "Find all words that start with 'a' and are 9 or more letters long."
   ]
  },
  {
   "cell_type": "code",
   "execution_count": 4,
   "metadata": {},
   "outputs": [],
   "source": [
    "import scrabble"
   ]
  },
  {
   "cell_type": "code",
   "execution_count": 11,
   "metadata": {},
   "outputs": [
    {
     "name": "stdout",
     "output_type": "stream",
     "text": [
      "aardvarks\n"
     ]
    }
   ],
   "source": [
    "for word in scrabble.wordlist:\n",
    "    if word.startswith('a') and len(word) >= 9:\n",
    "        print(word)\n",
    "        break"
   ]
  },
  {
   "cell_type": "markdown",
   "metadata": {},
   "source": [
    "What is the longest word that starts with a 'q'?"
   ]
  },
  {
   "cell_type": "code",
   "execution_count": 13,
   "metadata": {},
   "outputs": [
    {
     "name": "stdout",
     "output_type": "stream",
     "text": [
      "The longest word with q is quadragenarians and has 15 characters\n"
     ]
    }
   ],
   "source": [
    "longest = 1\n",
    "longest_word = ''\n",
    "for word in scrabble.wordlist:\n",
    "    if word.startswith('q') and len(word) > len(longest_word):\n",
    "        longest = len(word)\n",
    "        longest_word = word\n",
    "print(f\"The longest word with q is {longest_word} and has {longest} characters\")"
   ]
  },
  {
   "cell_type": "markdown",
   "metadata": {},
   "source": [
    "Find all words that end with 'nge'"
   ]
  },
  {
   "cell_type": "code",
   "execution_count": null,
   "metadata": {},
   "outputs": [],
   "source": [
    "for word in scrabble.wordlist:\n",
    "    if word.endswith('nge'):\n",
    "        print(word)"
   ]
  },
  {
   "cell_type": "markdown",
   "metadata": {},
   "source": [
    "Find a word that matches \"a*ey\" (here \"*\" means any letter). Are there any words that match?"
   ]
  },
  {
   "cell_type": "code",
   "execution_count": 20,
   "metadata": {},
   "outputs": [
    {
     "name": "stdout",
     "output_type": "stream",
     "text": [
      "abeyance\n",
      "abeyances\n",
      "abeyancies\n",
      "abeyancy\n",
      "abeyant\n",
      "aleye\n",
      "aleyed\n",
      "aleyes\n",
      "aleying\n",
      "bleareyed\n",
      "cagey\n",
      "cageyness\n",
      "cageynesses\n",
      "cakey\n",
      "chocolatey\n",
      "chromakey\n",
      "chromakeys\n",
      "clayey\n",
      "cleareyed\n",
      "cottagey\n",
      "deadeye\n",
      "deadeyes\n",
      "drapey\n",
      "fakey\n",
      "flakey\n",
      "gamey\n",
      "grapey\n",
      "graveyard\n",
      "graveyards\n",
      "hayey\n",
      "jakey\n",
      "jakeys\n",
      "jasey\n",
      "jaseys\n",
      "kaleyard\n",
      "kaleyards\n",
      "lacey\n",
      "mamey\n",
      "mameyes\n",
      "mameys\n",
      "matey\n",
      "mateyness\n",
      "mateynesses\n",
      "mateys\n",
      "mazey\n",
      "pacey\n",
      "peavey\n",
      "peaveys\n",
      "saleyard\n",
      "saleyards\n",
      "samey\n",
      "savey\n",
      "saveyed\n",
      "saveying\n",
      "saveys\n",
      "scarey\n",
      "shaley\n",
      "slatey\n",
      "slavey\n",
      "slaveys\n",
      "snakey\n",
      "spacey\n",
      "sprayey\n",
      "stagey\n",
      "taleysim\n",
      "waney\n",
      "wavey\n",
      "waveys\n",
      "waxeye\n",
      "waxeyes\n",
      "yawey\n"
     ]
    }
   ],
   "source": [
    "for word in scrabble.wordlist:\n",
    "    start = word.find('a')\n",
    "    if start != -1 and word[start+2:start+4] == 'ey':\n",
    "        print(word)"
   ]
  },
  {
   "cell_type": "markdown",
   "metadata": {},
   "source": [
    "Print every other word that matches the condition in (1) above."
   ]
  },
  {
   "cell_type": "code",
   "execution_count": 21,
   "metadata": {},
   "outputs": [
    {
     "name": "stdout",
     "output_type": "stream",
     "text": [
      "['aardvarks', 'aasvogels', 'abactinal', 'abamperes', 'abandonedly', 'abandonees', 'abandoners', 'abandonment', 'abandonware', 'abasement', 'abashedly', 'abashment', 'abatement', 'abattises', 'abbotcies', 'abbotships', 'abbreviated', 'abbreviating', 'abbreviations', 'abbreviators', 'abbreviature', 'abcoulomb', 'abdicable', 'abdicates', 'abdication', 'abdicative', 'abdicators', 'abdominally', 'abdominoplasty', 'abducentes', 'abducting', 'abductions', 'abductors', 'abecedarians', 'aberdevine', 'abernethies', 'aberrance', 'aberrancies', 'aberrantly', 'aberrated', 'aberrating', 'aberrational', 'abessives', 'abeyances', 'abhenries', 'abhorrence', 'abhorrencies', 'abhorrent', 'abhorrers', 'abhorrings', 'abidingly', 'abiogeneses', 'abiogenetic', 'abiogenic', 'abiogenist', 'abiological', 'abiotrophic', 'abiotrophy', 'abirritants', 'abirritated', 'abirritating', 'abiturients', 'abjection', 'abjectness', 'abjointed', 'abjunction', 'abjuration', 'ablactation', 'ablations', 'ablatival', 'ablatives', 'ablutionary', 'ablutomane', 'abnegated', 'abnegating', 'abnegations', 'abnegators', 'abnormalisms', 'abnormality', 'abnormals', 'abnormity', 'abodement', 'aboideaus', 'aboiteaus', 'abolishable', 'abolisher', 'abolishes', 'abolishment', 'abolition', 'abolitionary', 'abolitionisms', 'abolitionists', 'abomasuses', 'abominableness', 'abominate', 'abominates', 'abomination', 'abominator', 'abondance', 'abonnement', 'aborigens', 'aboriginalism', 'aboriginalities', 'aboriginally', 'aborigine', 'aborigins', 'aborticides', 'abortifacients', 'abortionist', 'abortions', 'abortiveness', 'abortuaries', 'abortuses', 'aboveboard', 'abracadabra', 'abrachias', 'abradants', 'abranchial', 'abrasaxes', 'abrasively', 'abrasivenesses', 'abraxases', 'abreacting', 'abreactions', 'abricocks', 'abridgeable', 'abridgements', 'abridging', 'abridgments', 'abrogated', 'abrogating', 'abrogations', 'abrogator', 'abrooking', 'abruption', 'abruptness', 'abscessed', 'abscessing', 'abscinding', 'abscisins', 'abscissas', 'abscissin', 'abscission', 'absconded', 'abscondences', 'absconders', 'abseiling', 'absenteeism', 'absentees', 'absenting', 'absentmindedly', 'absinthiated', 'absinthisms', 'absoluteness', 'absoluter', 'absolutest', 'absolutions', 'absolutised', 'absolutising', 'absolutisms', 'absolutistic', 'absolutive', 'absolutized', 'absolutizing', 'absolvable', 'absolvents', 'absolving', 'absolvitors', 'absorbability', 'absorbance', 'absorbancies', 'absorbant', 'absorbate', 'absorbedly', 'absorbefacients', 'absorbency', 'absorbents', 'absorbing', 'absorptance', 'absorptiometer', 'absorption', 'absorptive', 'absorptivities', 'absquatulate', 'absquatulates', 'abstained', 'abstainers', 'abstemious', 'abstemiousness', 'abstentionism', 'abstentionist', 'abstentions', 'absterged', 'abstergents', 'absterging', 'abstersions', 'abstersives', 'abstinences', 'abstinency', 'abstinently', 'abstracted', 'abstractedness', 'abstracters', 'abstracting', 'abstractional', 'abstractionisms', 'abstractionists', 'abstractive', 'abstractives', 'abstractness', 'abstractor', 'abstracts', 'abstricting', 'abstrictions', 'abstrusely', 'abstrusenesses', 'abstrusest', 'abstrusity', 'absurdism', 'absurdist', 'absurdities', 'absurdness', 'abuilding', 'abundances', 'abundancy', 'abusively', 'abusivenesses', 'abutments', 'abyssopelagic', 'academical', 'academicalisms', 'academicals', 'academicians', 'academicisms', 'academies', 'academisms', 'academists', 'acalculias', 'acalephan', 'acalephes', 'acanthaceous', 'acanthins', 'acanthoid', 'acanthuses', 'acariases', 'acaricidal', 'acaricides', 'acaridean', 'acaridian', 'acaridomatia', 'acarodomatia', 'acarologies', 'acarologists', 'acarophilies', 'acarpellous', 'acatalectic', 'acatalepsies', 'acataleptic', 'acatamathesia', 'acaulescent', 'accedences', 'accelerando', 'accelerant', 'accelerate', 'accelerates', 'acceleratingly', 'accelerations', 'accelerator', 'acceleratory', 'accelerometers', 'accension', 'accenting', 'accentors', 'accentualities', 'accentually', 'accentuated', 'accentuating', 'accentuations', 'acceptability', 'acceptableness', 'acceptance', 'acceptancies', 'acceptant', 'acceptation', 'acceptedly', 'accepters', 'acceptilations', 'acceptingly', 'acceptingnesses', 'acceptivities', 'acceptors', 'accessarily', 'accessarinesses', 'accessibilities', 'accessible', 'accessibly', 'accession', 'accessioned', 'accessions', 'accessories', 'accessorily', 'accessorinesses', 'accessorised', 'accessorising', 'accessorize', 'accessorizes', 'accessory', 'acciaccaturas', 'accidence', 'accidental', 'accidentalisms', 'accidentality', 'accidentalness', 'accidented', 'accidentologies', 'accidents', 'accipiter', 'accipitral', 'accipitrines', 'acclaimer', 'acclaiming', 'acclamations', 'acclimatable', 'acclimatations', 'acclimated', 'acclimating', 'acclimations', 'acclimatisation', 'acclimatised', 'acclimatisers', 'acclimatising', 'acclimatization', 'acclimatized', 'acclimatizers', 'acclimatizing', 'acclivitous', 'acclivous', 'accoasted', 'accoladed', 'accolading', 'accommodate', 'accommodates', 'accommodatingly', 'accommodational', 'accommodative', 'accommodators', 'accompanier', 'accompanies', 'accompaniments', 'accompanists', 'accompanying', 'accompanyists', 'accomplices', 'accomplishable', 'accomplisher', 'accomplishes', 'accomplishment', 'accomptable', 'accomptants', 'accompting', 'accorages', 'accordable', 'accordances', 'accordancy', 'accordantly', 'according', 'accordion', 'accordionists', 'accostable', 'accouchement', 'accoucheur', 'accoucheuse', 'accountability', 'accountableness', 'accountancies', 'accountant', 'accountantship', 'accounted', 'accountings', 'accouplements', 'accouraged', 'accouraging', 'accourting', 'accoustrements', 'accoutering', 'accouterments', 'accoutred', 'accoutrements', 'accoutring', 'accreditation', 'accredited', 'accredits', 'accrescences', 'accreting', 'accretionary', 'accretive', 'accroides', 'accruement', 'accubation', 'accultural', 'acculturated', 'acculturating', 'acculturational', 'acculturative', 'accumbency', 'accumulable', 'accumulated', 'accumulating', 'accumulations', 'accumulatively', 'accumulators', 'accurately', 'accuratenesses', 'accursedness', 'accursing', 'accusably', 'accusation', 'accusatival', 'accusatively', 'accusatorial', 'accusement', 'accusingly', 'accustomation', 'accustomed', 'accustoming', 'accustrement', 'aceldamas', 'acephalic', 'aceraceous', 'acerbates', 'acerbically', 'acervately', 'acervations', 'acescence', 'acescencies', 'acescents', 'acetabular', 'acetabulums', 'acetaldehydes', 'acetamides', 'acetaminophen', 'acetanilid', 'acetanilides', 'acetazolamide', 'acetification', 'acetified', 'acetifiers', 'acetifying', 'acetometers', 'acetonaemias', 'acetonemias', 'acetonitriles', 'acetonurias', 'acetoxyls', 'acetylated', 'acetylating', 'acetylations', 'acetylcholine', 'acetylene', 'acetylenic', 'acetylides', 'achaenium', 'achaenocarp', 'achalasia', 'acheniums', 'achievement', 'achievers', 'achilleas', 'achinesses', 'achlorhydria', 'achlorhydric', 'achondrites', 'achondroplasia', 'achondroplastic', 'achromatically', 'achromaticity', 'achromatins', 'achromatise', 'achromatises', 'achromatism', 'achromatization', 'achromatized', 'achromatizing', 'achromatopsias', 'achromats', 'aciculate', 'aciculums', 'acidantheras', 'acidfreak', 'acidheads', 'acidification', 'acidified', 'acidifiers', 'acidifying', 'acidimeters', 'acidimetrical', 'acidimetries', 'acidities', 'acidometer', 'acidophil', 'acidophiles', 'acidophilous', 'acidophilus', 'acidulate', 'acidulates', 'acidulation', 'acidulent', 'acidurias', 'acierated', 'acierating', 'acierations', 'acinaciform', 'acknowing', 'acknowledgeable', 'acknowledged', 'acknowledgement', 'acknowledgers', 'acknowledging', 'acknowledgments', 'acoelomates', 'acolouthite', 'acolouthos', 'acoluthic', 'aconitines', 'acosmisms', 'acotyledon', 'acotyledons', 'acoustical', 'acoustician', 'acoustics', 'acquaintances', 'acquainting', 'acquiesce', 'acquiescence', 'acquiescent', 'acquiescents', 'acquiescing', 'acquighting', 'acquirabilities', 'acquirable', 'acquirees', 'acquirements', 'acquiring', 'acquisitional', 'acquisitive', 'acquisitiveness', 'acquisitors', 'acquitment', 'acquittal', 'acquittance', 'acquittances', 'acquitted', 'acquitters', 'acridines', 'acridness', 'acriflavin', 'acriflavines', 'acrimonies', 'acrimoniously', 'acritarch', 'acritical', 'acroamatical', 'acrobatically', 'acrobatism', 'acrocarpous', 'acrocentrics', 'acrocyanosis', 'acrodrome', 'acrogenic', 'acrogenously', 'acroleins', 'acroliths', 'acromegalics', 'acromegaly', 'acronically', 'acronycally', 'acronychally', 'acronymanias', 'acronymically', 'acroparesthesia', 'acropetally', 'acrophobes', 'acrophobias', 'acrophonetic', 'acrophonies', 'acropolis', 'acrosomal', 'acrospire', 'acrostical', 'acrostics', 'acroterial', 'acroterium', 'acrotisms', 'acrylamides', 'acrylonitrile', 'actabilities', 'actinally', 'actinically', 'actiniform', 'actiniums', 'actinobacillus', 'actinobiology', 'actinoids', 'actinolites', 'actinomeres', 'actinometers', 'actinometrical', 'actinometry', 'actinomorphies', 'actinomorphy', 'actinomycete', 'actinomycetous', 'actinomycins', 'actinomycosis', 'actinopod', 'actinotherapies', 'actinouranium', 'actinozoan', 'actionably', 'actioning', 'actionists', 'activated', 'activating', 'activations', 'activators', 'activenesses', 'activises', 'activisms', 'activists', 'activized', 'activizing', 'actomyosins', 'actualisation', 'actualise', 'actualises', 'actualist', 'actualite', 'actualities', 'actualization', 'actualize', 'actualizes', 'actuarial', 'actuaries', 'actuation', 'actuators', 'acuminate', 'acuminates', 'acumination', 'acuminous', 'acupressure', 'acupunctural', 'acupunctures', 'acupuncturists', 'acuteness', 'acyclovir', 'acylating', 'acylations', 'adamances', 'adamantean', 'adamantly', 'adaptabilities', 'adaptable', 'adaptablenesses', 'adaptational', 'adaptations', 'adaptedness', 'adaptions', 'adaptiveness', 'adaptivities', 'adaptogen', 'adaptogens', 'addendums', 'adderstones', 'adderworts', 'addictednesses', 'addiction', 'addictive', 'additaments', 'additionalities', 'additionally', 'addititious', 'additives', 'additivity', 'addlements', 'addooming', 'addressable', 'addressee', 'addresser', 'addresses', 'addressor', 'adduceable', 'adducting', 'adductions', 'adductors', 'adelantados', 'ademptions', 'adenectomy', 'adenocarcinoma', 'adenohypophyses', 'adenoidal', 'adenoidectomy', 'adenomatous', 'adenopathy', 'adenosines', 'adenovirus', 'adeptness', 'adequacies', 'adequateness', 'adequative', 'adherable', 'adherences', 'adherently', 'adhesional', 'adhesively', 'adhesivenesses', 'adhibited', 'adhibition', 'adhocracies', 'adiabatic', 'adiabatics', 'adiaphora', 'adiaphorisms', 'adiaphoristic', 'adiaphoron', 'adiathermancies', 'adiathermanous', 'adipocere', 'adipocerous', 'adipocytes', 'adiposity', 'adjacences', 'adjacency', 'adjacents', 'adjectivally', 'adjectively', 'adjoining', 'adjourning', 'adjournments', 'adjudgements', 'adjudgment', 'adjudicate', 'adjudicates', 'adjudication', 'adjudicative', 'adjudicators', 'adjunction', 'adjunctive', 'adjunctly', 'adjurations', 'adjustabilities', 'adjustable', 'adjusters', 'adjustive', 'adjustmental', 'adjustors', 'adjutancies', 'adjutants', 'adjuvancy', 'admeasure', 'admeasurement', 'admeasures', 'adminicle', 'adminicular', 'adminiculated', 'adminiculating', 'administered', 'administers', 'administrant', 'administrate', 'administrates', 'administration', 'administrative', 'administrators', 'admirabilities', 'admirable', 'admirablenesses', 'admiralship', 'admiralties', 'admirance', 'admiration', 'admirative', 'admiraunces', 'admissibilities', 'admissible', 'admission', 'admissive', 'admittance', 'admittedly', 'admitters', 'admixture', 'admonished', 'admonishers', 'admonishing', 'admonishment', 'admonition', 'admonitive', 'admonitorily', 'admonitory', 'adnations', 'adnominals', 'adolescence', 'adolescent', 'adolescents', 'adonizing', 'adoptability', 'adoptianism', 'adoptianist', 'adoptionism', 'adoptionist', 'adoptions', 'adoptively', 'adorability', 'adorablenesses', 'adorations', 'adornment', 'adpressed', 'adpressing', 'adrenalectomies', 'adrenalin', 'adrenalines', 'adrenalised', 'adrenally', 'adrenergically', 'adrenochromes', 'adriamycin', 'adroitest', 'adroitnesses', 'adscititiously', 'adscriptions', 'adsorbabilities', 'adsorbable', 'adsorbates', 'adsorbents', 'adsorbing', 'adsorptions', 'adularescence', 'adularescent', 'adulating', 'adulations', 'adulatory', 'adulterants', 'adulterated', 'adulterating', 'adulterations', 'adulterators', 'adulterers', 'adulteresses', 'adulterine', 'adulterise', 'adulterises', 'adulterize', 'adulterizes', 'adulterous', 'adultescent', 'adulthood', 'adultlike', 'adultnesses', 'adultresses', 'adumbrated', 'adumbrating', 'adumbrations', 'adumbratively', 'aduncities', 'advancements', 'advancing', 'advantage', 'advantaged', 'advantageously', 'advantaging', 'advection', 'advective', 'adventitial', 'adventitious', 'adventive', 'adventure', 'adventureful', 'adventurers', 'adventuresome', 'adventuresses', 'adventurism', 'adventurist', 'adventurists', 'adventurously', 'adverbial', 'adverbialised', 'adverbialising', 'adverbialized', 'adverbializing', 'adverbials', 'adversarial', 'adversariness', 'adversary', 'adversatively', 'adversely', 'adversenesses', 'adversities', 'advertence', 'advertencies', 'advertent', 'adverting', 'advertised', 'advertisements', 'advertisers', 'advertising', 'advertize', 'advertizement', 'advertizer', 'advertizes', 'advertorial', 'adviceful', 'advisability', 'advisableness', 'advisably', 'advisedly', 'advisednesses', 'advisements', 'adviserships', 'advisorate', 'advisories', 'advocacies', 'advocates', 'advocation', 'advocative', 'advocators', 'advoutrer', 'advoutries', 'adwarding', 'aecidiospore', 'aecidospore', 'aeciospore', 'aedicules', 'aedileships', 'aegirites', 'aegrotats', 'aeolipiles', 'aeolipyles', 'aeolotropies', 'aepyornis', 'aequorins', 'aerenchyma', 'aerenchymatous', 'aerialists', 'aeriality', 'aerifications', 'aeroacoustics', 'aerobatic', 'aerobically', 'aerobicised', 'aerobicising', 'aerobicists', 'aerobicized', 'aerobicizing', 'aerobiologies', 'aerobiologists', 'aerobiont', 'aerobioses', 'aerobiotic', 'aerobombs', 'aerobraked', 'aerobraking', 'aerobuses', 'aerodarts', 'aerodrome', 'aeroducts', 'aerodynamical', 'aerodynamicist', 'aerodynamics', 'aeroelastic', 'aeroelasticians', 'aeroembolism', 'aerofoils', 'aerogenerators', 'aerogrammes', 'aerograph', 'aerographs', 'aerohydroplane', 'aerolites', 'aerolithology', 'aerolitic', 'aerological', 'aerologist', 'aeromagnetic', 'aeromancy', 'aeromechanical', 'aeromedical', 'aeromedicines', 'aerometers', 'aerometries', 'aeromotor', 'aeronautic', 'aeronautically', 'aeronauts', 'aeroneurosis', 'aeronomers', 'aeronomical', 'aeronomist', 'aeropause', 'aerophagia', 'aerophagies', 'aerophobe', 'aerophobia', 'aerophobic', 'aerophones', 'aerophores', 'aerophytes', 'aeroplanes', 'aeroplanktons', 'aeropulses', 'aeroscopes', 'aeroshells', 'aerosiderites', 'aerosolisations', 'aerosolised', 'aerosolising', 'aerosolizations', 'aerosolized', 'aerosolizing', 'aerospaces', 'aerospheres', 'aerostatical', 'aerostation', 'aerostats', 'aerostructures', 'aerotaxes', 'aerotones', 'aerotrains', 'aerotropism', 'aeruginous', 'aestheses', 'aesthesias', 'aesthesiogenic', 'aesthesis', 'aesthetic', 'aesthetically', 'aestheticians', 'aestheticised', 'aestheticising', 'aestheticisms', 'aestheticists', 'aestheticized', 'aestheticizing', 'aestivate', 'aestivates', 'aestivation', 'aestivator', 'aethereal', 'aethereality', 'aethrioscope', 'aetiological', 'aetiologies', 'aetiologists', 'affabilities', 'affearing', 'affectability', 'affectation', 'affectedly', 'affectednesses', 'affecting', 'affection', 'affectionally', 'affectionately', 'affectioning', 'affections', 'affectively', 'affectivenesses', 'affectivity', 'affectlessness', 'affeerment', 'affenpinscher', 'afferently', 'affettuoso', 'affianced', 'affiancing', 'afficionados', 'affidavits', 'affiliate', 'affiliates', 'affiliation', 'affinities', 'affirmable', 'affirmances', 'affirmants', 'affirmations', 'affirmatively', 'affirmatory', 'affirming', 'affixable', 'affixations', 'affixments', 'affixtures', 'afflations', 'afflicted', 'afflicters', 'afflictings', 'afflictions', 'afflictively', 'affluences', 'affluency', 'affluentials', 'affluentness', 'affluents', 'affluenzas', 'affluxions', 'affoording', 'afforcements', 'affordabilities', 'affordable', 'affording', 'afforestation', 'afforested', 'afforests', 'affranchised', 'affranchises', 'affrapped', 'affrayers', 'affreightment', 'affrended', 'affricated', 'affricating', 'affrications', 'affricatives', 'affrightedly', 'affrightened', 'affrightens', 'affrighting', 'affrightments', 'affronted', 'affronting', 'affrontings', 'affusions', 'aficionadas', 'aficionados', 'aflatoxins', 'aforementioned', 'aforethought', 'aforetime', 'afrormosias', 'afterbirths', 'afterbody', 'afterbrains', 'afterburners', 'afterburnings', 'aftercares', 'afterclaps', 'afterdamps', 'afterdecks', 'aftereffects', 'aftereyeing', 'aftereying', 'aftergames', 'afterglows', 'aftergrasses', 'aftergrowths', 'afterheats', 'afterimages', 'afterlife', 'afterlives', 'aftermarkets', 'aftermaths', 'afternoon', 'afterpain', 'afterpeak', 'afterpiece', 'aftersales', 'aftersensations', 'aftershafts', 'aftershaves', 'aftershocks', 'aftershows', 'aftersupper', 'afterswarm', 'aftertaste', 'afterthought', 'aftertime', 'afterward', 'afterword', 'afterworld', 'agaceries', 'agalactias', 'agalmatolite', 'agalwoods', 'agamogeneses', 'agamogenetic', 'agamogony', 'agamospermy', 'agapanthuses', 'agateware', 'agathodaimon', 'agatising', 'agednesses', 'agelessly', 'agelessnesses', 'agenesias', 'agenizing', 'agentival', 'agentivities', 'agentries', 'aggiornamenti', 'aggiornamentos', 'agglomerated', 'agglomerating', 'agglomerations', 'agglutinability', 'agglutinant', 'agglutinate', 'agglutinates', 'agglutination', 'agglutinative', 'agglutinins', 'agglutinogenic', 'aggracing', 'aggradations', 'aggrandise', 'aggrandisement', 'aggrandiser', 'aggrandises', 'aggrandize', 'aggrandizement', 'aggrandizer', 'aggrandizes', 'aggrating', 'aggravated', 'aggravating', 'aggravation', 'aggregate', 'aggregately', 'aggregatenesses', 'aggregating', 'aggregational', 'aggregative', 'aggregator', 'aggressed', 'aggressing', 'aggressions', 'aggressively', 'aggressivities', 'aggressor', 'aggrieved', 'aggrievement', 'aggrieves', 'agileness', 'agilities', 'agistment', 'agitatedly', 'agitation', 'agitations', 'agitators', 'aglossate', 'aglycones', 'agnathous', 'agnatically', 'agnoiologies', 'agnominal', 'agnosticisms', 'agonisedly', 'agonisingly', 'agonistic', 'agonistically', 'agonizedly', 'agonizingly', 'agoraphobe', 'agoraphobia', 'agoraphobic', 'agranulocyte', 'agranulocytoses', 'agranuloses', 'agraphias', 'agrarianisms', 'agreeabilities', 'agreeable', 'agreeablenesses', 'agreement', 'agregation', 'agrements', 'agribusiness', 'agribusinessman', 'agrichemical', 'agricultural', 'agriculturally', 'agricultures', 'agriculturists', 'agriologies', 'agriproduct', 'agritourism', 'agritourist', 'agrobiological', 'agrobiologist', 'agrobiology', 'agrobusinesses', 'agrochemicals', 'agrodolces', 'agroforesters', 'agroforestry', 'agroindustries', 'agrologic', 'agrologies', 'agrologists', 'agronomic', 'agronomically', 'agronomies', 'agronomists', 'agrostemmas', 'agrostological', 'agrostologist', 'agrostology', 'agroterrorisms', 'agrotourisms', 'agrotourists', 'agrypnotic', 'agterskot', 'aguacates', 'aguardientes', 'ahistoric', 'ahorseback', 'ahuruhuru', 'aichmophobias', 'aiguilles', 'aiguillettes', 'ailanthus', 'ailourophile', 'ailourophilia', 'ailourophilic', 'ailourophobes', 'ailourophobias', 'ailurophile', 'ailurophilia', 'ailurophilic', 'ailurophobes', 'ailurophobias', 'aimlessly', 'aimlessnesses', 'airbrushed', 'airbrushing', 'airbusses', 'aircoaches', 'aircraftmen', 'aircraftsmen', 'aircraftswomen', 'aircraftwomen', 'airdropped', 'airfields', 'airfreight', 'airfreighting', 'airgraphs', 'airinesses', 'airlessnesses', 'airlifting', 'airmailed', 'airmanship', 'airmobile', 'airpowers', 'airproofing', 'airscapes', 'airshafts', 'airsicknesses', 'airspeeds', 'airstreams', 'airstrikes', 'airtightness', 'airworthier', 'airworthiness', 'airworthy', 'aisleways', 'aitchbones', 'akaryotic', 'akathisias', 'akolouthos', 'akoluthos', 'alabamine', 'alabandine', 'alabandite', 'alabaster', 'alabastrine', 'alablasters', 'alackaday', 'alacritous', 'alalagmoi', 'alarmable', 'alarmingly', 'alarmists', 'alastrims', 'albarelli', 'albarellos', 'albatrosses', 'albertites', 'albescences', 'albespine', 'albespyne', 'albicores', 'albinisms', 'albinoism', 'albinotic', 'albitised', 'albitising', 'albitizes', 'albizzias', 'albugineous', 'albumblatter', 'albumenise', 'albumenises', 'albumenize', 'albumenizes', 'albuminate', 'albuminise', 'albuminises', 'albuminize', 'albuminizes', 'albuminoid', 'albuminous', 'albuminurias', 'albumoses', 'alburnums', 'albuterols', 'alcaiceria', 'alcarraza', 'alcatrases', 'alchemically', 'alchemise', 'alchemises', 'alchemist', 'alchemistical', 'alchemize', 'alchemizes', 'alcheringa', 'alchymies', 'alcoholically', 'alcoholicity', 'alcoholisation', 'alcoholise', 'alcoholises', 'alcoholism', 'alcoholization', 'alcoholize', 'alcoholizes', 'alcoholometer', 'alcoholometries', 'alcolocks', 'alcyonarians', 'aldehydic', 'aldermanic', 'aldermanity', 'aldermanly', 'aldermanry', 'aldermanships', 'alderwomen', 'aldohexose', 'aldolases', 'aldolisations', 'aldolizations', 'aldopentoses', 'aldosterones', 'aldosteronisms', 'aleatoric', 'alebenches', 'alectryon', 'aleggeaunce', 'alehouses', 'alembication', 'alembroth', 'alertness', 'aleurones', 'alewashed', 'alexanders', 'alexandrine', 'alexandrite', 'alexipharmakon', 'alexipharmic', 'alfaquins', 'alfilaria', 'alfileria', 'algaecide', 'algarobas', 'algarrobas', 'algarrobos', 'algebraical', 'algebraist', 'algerines', 'algicides', 'algidness', 'alginates', 'algolagniac', 'algolagnias', 'algolagnist', 'algological', 'algologies', 'algologists', 'algometers', 'algometry', 'algophobias', 'algorisms', 'algorithmic', 'algorithms', 'alguazils', 'alicyclic', 'alienability', 'alienages', 'alienates', 'alienation', 'alienator', 'alienisms', 'alienness', 'aligartas', 'alightment', 'alignment', 'alikeness', 'alimental', 'alimentation', 'alimentative', 'alimenting', 'alimonied', 'alineation', 'alinement', 'aliphatic', 'aliteracies', 'aliterate', 'aliveness', 'alizarine', 'alizarins', 'alkahests', 'alkalescences', 'alkalescency', 'alkalified', 'alkalifying', 'alkalimeters', 'alkalimetries', 'alkalinisation', 'alkalinise', 'alkalinises', 'alkalinities', 'alkalinization', 'alkalinize', 'alkalinizes', 'alkalisable', 'alkaliser', 'alkalises', 'alkalizable', 'alkalizer', 'alkalizes', 'alkaloidal', 'alkaloses', 'alkalotic', 'alkoxides', 'alkylates', 'alkylation', 'allanites', 'allantoid', 'allantoides', 'allantoin', 'allantois', 'allargando', 'allayings', 'allayments', 'alledging', 'allegations', 'allegeances', 'allegging', 'allegiances', 'allegiants', 'allegorical', 'allegoricalness', 'allegorisation', 'allegorise', 'allegoriser', 'allegorises', 'allegorist', 'allegorization', 'allegorize', 'allegorizer', 'allegorizes', 'allegretto', 'allelisms', 'allelomorphic', 'allelomorphisms', 'allelopathic', 'allelopathy', 'alleluiahs', 'allemande', 'allenarly', 'allergenicities', 'allergens', 'allergies', 'allergist', 'allerions', 'allethrins', 'alleviants', 'alleviated', 'alleviating', 'alleviations', 'alleviator', 'alleviatory', 'alleyways', 'allhallowen', 'allhollown', 'alliances', 'allicholy', 'alligartas', 'alligates', 'alligation', 'alligator', 'allineation', 'alliterate', 'alliterates', 'alliteration', 'alliterative', 'allnesses', 'allnighters', 'alloantibody', 'alloantigens', 'allocarpies', 'allocatable', 'allocates', 'allocation', 'allocator', 'allocheiria', 'allochiria', 'allochthonous', 'allocutions', 'allogamies', 'allogeneic', 'allograft', 'allografting', 'allograph', 'allographs', 'allomeric', 'allomerisms', 'allometric', 'allometry', 'allomorph', 'allomorphism', 'allomorphs', 'allopathic', 'allopathies', 'allopathists', 'allopathy', 'allopatrically', 'allopatry', 'allophanes', 'allophones', 'alloplasm', 'alloplasms', 'allopolyploid', 'allopolyploidy', 'allopurinols', 'allosaurus', 'allosteric', 'allosteries', 'allotetraploid', 'allotetraploidy', 'allotheisms', 'allotments', 'allotrope', 'allotropic', 'allotropies', 'allotropisms', 'allotropy', 'allotteries', 'allottery', 'allotypes', 'allotypically', 'allowabilities', 'allowable', 'allowablenesses', 'allowably', 'allowanced', 'allowancing', 'allozymes', 'allurement', 'alluringly', 'allusively', 'allusivenesses', 'alluvions', 'allychollies', 'almacantar', 'almagests', 'almandine', 'almandite', 'almightily', 'almightinesses', 'almsgiver', 'almsgiving', 'almshouse', 'almswoman', 'almucantar', 'alocasias', 'aloneness', 'alongshore', 'alongshoremen', 'aloofness', 'alopecias', 'alpargata', 'alpenglow', 'alpenhorn', 'alpenstock', 'alpestrine', 'alphabetarians', 'alphabetic', 'alphabetically', 'alphabeting', 'alphabetise', 'alphabetiser', 'alphabetises', 'alphabetization', 'alphabetized', 'alphabetizers', 'alphabetizing', 'alphameric', 'alphamerically', 'alphametics', 'alphanumerical', 'alphasort', 'alphasorting', 'alphosises', 'alpinists', 'alstroemerias', 'altaltissimos', 'altarpiece', 'altarwise', 'altazimuths', 'alterability', 'alterably', 'alteration', 'alterative', 'altercate', 'altercates', 'altercation', 'altercative', 'alternance', 'alternant', 'alternate', 'alternately', 'alternatim', 'alternation', 'alternative', 'alternativeness', 'alternator', 'alternats', 'altigraphs', 'altimeters', 'altimetrically', 'altimetry', 'altiplanos', 'altissimo', 'altitudes', 'altitudinarian', 'altitudinous', 'altocumulus', 'altogethers', 'altostrati', 'altricial', 'altruisms', 'altruistically', 'aluminate', 'aluminiferous', 'aluminised', 'aluminising', 'aluminiums', 'aluminized', 'aluminizing', 'aluminosities', 'aluminothermies', 'aluminous', 'alumroots', 'alumstones', 'alveolarly', 'alveolate', 'alveolations', 'alveolitises', 'alycompaines', 'amakwerekwere', 'amalgamated', 'amalgamating', 'amalgamations', 'amalgamator', 'amandines', 'amantadine', 'amanuenses', 'amaracuses', 'amaranthaceous', 'amaranths', 'amarantine', 'amarettos', 'amaryllidaceous', 'amaryllis', 'amassable', 'amassments', 'amateurishly', 'amateurism', 'amateurship', 'amatively', 'amativenesses', 'amatorially', 'amatorious', 'amaurosis', 'amazedness', 'amazement', 'amazingly', 'amazonians', 'amazonites', 'amazonstones', 'ambagitory', 'ambassadorial', 'ambassadorship', 'ambassadress', 'ambassage', 'ambassies', 'ambergris', 'amberinas', 'amberjack', 'amberoids', 'ambidentate', 'ambidexterities', 'ambidexterous', 'ambidextrous', 'ambiences', 'ambiguity', 'ambiguously', 'ambiguousnesses', 'ambiophonies', 'ambipolar', 'ambisexualities', 'ambisexuals', 'ambitioned', 'ambitionless', 'ambitious', 'ambitiousness', 'ambivalence', 'ambivalencies', 'ambivalent', 'ambiversion', 'ambiverts', 'amblygonites', 'amblyopias', 'amboceptor', 'ambosexual', 'ambrosially', 'ambrosias', 'ambrotypes', 'ambulacral', 'ambulance', 'ambulancemen', 'ambulancewoman', 'ambulants', 'ambulates', 'ambulation', 'ambulator', 'ambulatorily', 'ambulatory', 'ambulettes', 'ambuscaded', 'ambuscaders', 'ambuscading', 'ambuscadoes', 'ambushers', 'ambushment', 'amebiases', 'amebocyte', 'ameerates', 'ameliorable', 'ameliorants', 'ameliorated', 'ameliorating', 'ameliorations', 'ameliorator', 'amelioratory', 'ameloblasts', 'amelogenesis', 'amenability', 'amenablenesses', 'amenaunce', 'amendable', 'amendment', 'amenities', 'amenorrheas', 'amenorrhoea', 'amentaceous', 'amerceable', 'amercements', 'amerciament', 'americium', 'ametabolic', 'ametabolisms', 'amethystine', 'ametropia', 'ametropic', 'amiability', 'amiablenesses', 'amianthoid', 'amianthus', 'amiantuses', 'amicability', 'amicablenesses', 'amidships', 'aminoaciduria', 'aminobenzoic', 'aminobutenes', 'aminopeptidases', 'aminophenazones', 'aminophenols', 'aminophyllines', 'aminopterins', 'aminopyrines', 'amissibility', 'amitotically', 'amitriptylines', 'amitryptyline', 'ammocetes', 'ammocoetes', 'ammoniacal', 'ammoniacum', 'ammoniate', 'ammoniates', 'ammoniation', 'ammonical', 'ammonifications', 'ammonifies', 'ammonites', 'ammoniums', 'ammonolyses', 'ammophilous', 'ammunitioned', 'ammunitions', 'amnestied', 'amnestying', 'amniocentesis', 'amniotomy', 'amobarbitals', 'amoebiases', 'amoebiform', 'amoebocytes', 'amontillados', 'amoralisms', 'amoralists', 'amorality', 'amorettos', 'amornings', 'amorosity', 'amorousness', 'amorphism', 'amorphous', 'amorphousness', 'amortisable', 'amortisations', 'amortisement', 'amortises', 'amortizable', 'amortizations', 'amortizement', 'amortizes', 'amounting', 'amourettes', 'amoxicillins', 'amoxycillins', 'ampelographies', 'ampelopses', 'amperages', 'ampersand', 'amperzand', 'amphetamine', 'amphiarthroses', 'amphiaster', 'amphibian', 'amphibiotic', 'amphibiously', 'amphiblastic', 'amphiblastulae', 'amphiboles', 'amphibolies', 'amphibolites', 'amphibologies', 'amphibolous', 'amphibrach', 'amphibrachs', 'amphichromatic', 'amphictyon', 'amphictyonies', 'amphictyony', 'amphidiploid', 'amphidiploids', 'amphigastria', 'amphigoric', 'amphigory', 'amphigouris', 'amphimacers', 'amphimixes', 'amphioxus', 'amphipath', 'amphiphile', 'amphiphilic', 'amphiploidies', 'amphiploidy', 'amphipods', 'amphiprostyle', 'amphiprotic', 'amphisbaenae', 'amphisbaenic', 'amphiscians', 'amphistomatic', 'amphistylar', 'amphitheater', 'amphitheatral', 'amphitheatres', 'amphitheatrical', 'amphithecium', 'amphitrichous', 'ampholyte', 'amphoteric', 'ampicillins', 'amplenesses', 'amplexuses', 'ampliations', 'amplidyne', 'amplifiable', 'amplifications', 'amplifier', 'amplifies', 'amplitude', 'amplosome', 'ampullaceal', 'ampullary', 'ampullosity', 'amputates', 'amputation', 'amputator', 'amritattva', 'amsinckia', 'amuseable', 'amusements', 'amusingly', 'amusingnesses', 'amusivenesses', 'amygdalae', 'amygdalate', 'amygdalin', 'amygdalins', 'amygdaloidal', 'amygdules', 'amylogens', 'amyloidoses', 'amylolyses', 'amylolytic', 'amylopectins', 'amyloplasts', 'amylopsins', 'amyotonias', 'amyotrophies', 'anabaenas', 'anabantids', 'anabaptised', 'anabaptising', 'anabaptisms', 'anabaptistic', 'anabaptize', 'anabaptizes', 'anabioses', 'anabiotic', 'anabolism', 'anabolite', 'anabolitic', 'anabranches', 'anacardium', 'anacatharses', 'anacathartic', 'anacharis', 'anachorism', 'anachronic', 'anachronically', 'anachronisms', 'anachronous', 'anaclastic', 'anaclises', 'anaclitic', 'anacoluthia', 'anacoluthic', 'anacoluthon', 'anacondas', 'anacreontic', 'anacreontics', 'anacrusis', 'anadiploses', 'anadromous', 'anaerobes', 'anaerobic', 'anaerobiont', 'anaerobioses', 'anaerobiotic', 'anaestheses', 'anaesthesias', 'anaesthesis', 'anaesthetically', 'anaesthetise', 'anaesthetises', 'anaesthetist', 'anaesthetize', 'anaesthetizes', 'anageneses', 'anaglyphic', 'anaglyphies', 'anaglyphy', 'anaglyptical', 'anagnorisis', 'anagogically', 'anagrammatic', 'anagrammatise', 'anagrammatises', 'anagrammatism', 'anagrammatist', 'anagrammatize', 'anagrammatizes', 'anagrammed', 'anagrammers', 'analcimes', 'analcites', 'analemmas', 'analemmatic', 'analeptics', 'analgesias', 'analgesics', 'analgetics', 'analogical', 'analogies', 'analogised', 'analogising', 'analogisms', 'analogists', 'analogized', 'analogizing', 'analogous', 'analogousness', 'analogues', 'analphabete', 'analphabetic', 'analphabetism', 'analphabets', 'analysand', 'analysation', 'analysers', 'analytical', 'analyticities', 'analytics', 'analyzability', 'analyzation', 'analyzers', 'anamneses', 'anamnestic', 'anamniote', 'anamniotic', 'anamorphism', 'anamorphoscope', 'anamorphoses', 'anamorphous', 'anandamides', 'ananthous', 'anapaestical', 'anapestic', 'anaphases', 'anaphoral', 'anaphoreses', 'anaphoric', 'anaphorically', 'anaphrodisiac', 'anaphrodisias', 'anaphylactoid', 'anaphylaxies', 'anaphylaxy', 'anaplasias', 'anaplasmosis', 'anaplasties', 'anapleroses', 'anaplerotic', 'anaptyctical', 'anaptyxis', 'anarchical', 'anarchies', 'anarchised', 'anarchising', 'anarchisms', 'anarchistic', 'anarchize', 'anarchizes', 'anarthria', 'anarthric', 'anarthrously', 'anasarcas', 'anastases', 'anastatic', 'anastigmatic', 'anastigmatisms', 'anastomose', 'anastomoses', 'anastomosis', 'anastrophe', 'anastrozole', 'anathemas', 'anathematical', 'anathematised', 'anathematising', 'anathematized', 'anathematizing', 'anatomically', 'anatomisation', 'anatomise', 'anatomiser', 'anatomises', 'anatomist', 'anatomization', 'anatomize', 'anatomizer', 'anatomizes', 'anatoxins', 'anatropous', 'ancestorial', 'ancestors', 'ancestrally', 'ancestresses', 'anchorage', 'anchoress', 'anchoretic', 'anchorets', 'anchorettes', 'anchorite', 'anchoritic', 'anchoritically', 'anchorman', 'anchorpeople', 'anchorpersons', 'anchorwomen', 'anchovetas', 'anchovettas', 'anchusins', 'anchylosed', 'anchylosing', 'anchylotic', 'ancientest', 'ancientness', 'ancientries', 'ancillaries', 'ancipital', 'ancresses', 'ancylostomiasis', 'andalusites', 'andantino', 'andesines', 'andesitic', 'andouille', 'andouillette', 'andradite', 'androcentric', 'androcentrisms', 'androclinia', 'androdioecious', 'androdioecisms', 'androecial', 'androeciums', 'androgenesis', 'androgenic', 'androgens', 'androgynes', 'androgynophore', 'androgynous', 'andrologies', 'andrologists', 'andromeda', 'andromedotoxin', 'andromonoecious', 'andromonoecisms', 'andropauses', 'androphores', 'androsphinx', 'androsterone', 'anecdotage', 'anecdotal', 'anecdotalisms', 'anecdotalists', 'anecdotes', 'anecdotical', 'anecdotist', 'anecdyses', 'anelastic', 'anelasticity', 'anemochore', 'anemochorous', 'anemograms', 'anemographic', 'anemographs', 'anemologies', 'anemometer', 'anemometric', 'anemometries', 'anemophilies', 'anemophily', 'anemophobias', 'anemoscopes', 'anencephalias', 'anencephalies', 'anesthesia', 'anesthesiology', 'anesthetically', 'anesthetise', 'anesthetises', 'anesthetist', 'anesthetization', 'anesthetized', 'anesthetizing', 'anetholes', 'aneuploidies', 'aneuploidy', 'aneurismally', 'aneurisms', 'aneurysmally', 'aneurysms', 'anfractuosity', 'angashore', 'angekkoks', 'angelfishes', 'angelhoods', 'angelically', 'angelolatries', 'angelologies', 'angelologists', 'angelophanies', 'angeluses', 'angiocarpous', 'angiogenesis', 'angiogram', 'angiographic', 'angiography', 'angiology', 'angiomatous', 'angioplasty', 'angiosarcomas', 'angiosperm', 'angiospermous', 'angiostomatous', 'angiotensin', 'angklungs', 'angleberry', 'angledozers', 'anglepods', 'anglerfishes', 'anglesites', 'angletwitches', 'angleworm', 'anglicisation', 'anglicise', 'anglicises', 'anglicism', 'anglicist', 'anglicization', 'anglicize', 'anglicizes', 'anglified', 'anglifying', 'anglomania', 'anglomaniacs', 'anglophil', 'anglophiles', 'anglophilias', 'anglophils', 'anglophobes', 'anglophobiac', 'anglophobic', 'anglophones', 'angophora', 'angostura', 'angriness', 'angstiest', 'anguifauna', 'anguifaunas', 'anguilliform', 'anguished', 'anguishing', 'angularity', 'angularness', 'angulated', 'angulating', 'angulations', 'angustirostrate', 'angwantibos', 'anhedonia', 'anhedonic', 'anhelations', 'anhidrosis', 'anhidrotics', 'anhungred', 'anhydrases', 'anhydrides', 'anhydrites', 'aniconism', 'aniconist', 'anidroses', 'anilinctus', 'anilingus', 'anilities', 'animadversion', 'animadvert', 'animadverter', 'animadverting', 'animalcula', 'animalcule', 'animalculism', 'animalculist', 'animalculum', 'animalier', 'animalisation', 'animalise', 'animalises', 'animalism', 'animalist', 'animalists', 'animality', 'animalizations', 'animalized', 'animalizing', 'animatedly', 'animateness', 'animaters', 'animating', 'animation', 'animatism', 'animatist', 'animators', 'animatronically', 'animistic', 'animosity', 'aniseikonias', 'anisettes', 'anisodactyl', 'anisodactyls', 'anisogamous', 'anisomeric', 'anisometric', 'anisometropias', 'anisomorphic', 'anisophyllous', 'anisotropic', 'anisotropies', 'anisotropisms', 'ankerites', 'anklebones', 'ankylosaurs', 'ankylosauruses', 'ankyloses', 'ankylosis', 'ankylostomiasis', 'annabergite', 'annalised', 'annalising', 'annalists', 'annalizes', 'annealers', 'annealings', 'annelidan', 'annexable', 'annexational', 'annexationisms', 'annexationists', 'annexions', 'annexments', 'annihilable', 'annihilated', 'annihilating', 'annihilationism', 'annihilative', 'annihilators', 'anniversaries', 'annotatable', 'annotates', 'annotation', 'annotative', 'annotators', 'announcement', 'announcer', 'announces', 'annoyance', 'annoyingly', 'annualised', 'annualising', 'annualized', 'annualizing', 'annuitants', 'annularities', 'annularly', 'annulates', 'annulations', 'annulling', 'annulments', 'annunciate', 'annunciates', 'annunciation', 'annunciative', 'annunciators', 'annuntiate', 'annuntiates', 'anodically', 'anodisations', 'anodization', 'anodizing', 'anodontias', 'anoestrum', 'anointers', 'anointment', 'anomalies', 'anomalistical', 'anomalous', 'anomalousness', 'anonaceous', 'anonymised', 'anonymising', 'anonymity', 'anonymized', 'anonymizing', 'anonymously', 'anonymousnesses', 'anopheles', 'anophelines', 'anorectic', 'anoretics', 'anorexics', 'anorexigenic', 'anorthites', 'anorthosite', 'anorthositic', 'anotherguess', 'anovulants', 'anoxaemia', 'anoxaemic', 'anserines', 'answerability', 'answerableness', 'answerers', 'answerless', 'answerphones', 'antagonisation', 'antagonise', 'antagonises', 'antagonism', 'antagonist', 'antagonists', 'antagonization', 'antagonize', 'antagonizes', 'antalgics', 'antalkalies', 'antalkalines', 'antaphrodisiac', 'antarctic', 'antarthritics', 'antasthmatics', 'antebellum', 'antecedence', 'antecedent', 'antecedents', 'anteceding', 'antecessors', 'antechambers', 'antechapels', 'antechoirs', 'antedates', 'antediluvial', 'antediluvian', 'antefixae', 'antefixes', 'antelucan', 'antemortem', 'antenatal', 'antenatals', 'antenniferous', 'antennular', 'antennules', 'anteorbital', 'antependia', 'antependiums', 'antepenultima', 'antepenultimate', 'anteposition', 'anteprandial', 'anteriority', 'anterograde', 'antetypes', 'anteversions', 'anteverting', 'anthelices', 'anthelions', 'anthelminthic', 'anthelmintic', 'antheming', 'anthemwise', 'antheridial', 'antherids', 'antherozoids', 'antherozooids', 'anthersmuts', 'anthocarpous', 'anthochlore', 'anthocyan', 'anthocyanins', 'anthodium', 'anthologies', 'anthologised', 'anthologisers', 'anthologising', 'anthologists', 'anthologized', 'anthologizers', 'anthologizing', 'anthomania', 'anthomaniacs', 'anthophilous', 'anthophores', 'anthophyllites', 'anthotaxy', 'anthoxanthins', 'anthozoans', 'anthracene', 'anthraces', 'anthracite', 'anthracitic', 'anthracnoses', 'anthracoses', 'anthranilate', 'anthraquinone', 'anthraxes', 'anthropical', 'anthropocentric', 'anthropogenesis', 'anthropogenic', 'anthropogeny', 'anthropogony', 'anthropoid', 'anthropoids', 'anthropolatry', 'anthropologies', 'anthropologists', 'anthropometric', 'anthropometrist', 'anthropomorph', 'anthropomorphs', 'anthropopathies', 'anthropopathy', 'anthropophagic', 'anthropophagite', 'anthropophagus', 'anthropophobia', 'anthropophobic', 'anthropophuism', 'anthropophyte', 'anthropopsychic', 'anthroposophies', 'anthroposophy', 'anthropotomy', 'anthuriums', 'antiabortionist', 'antiacademic', 'antiaditises', 'antiaging', 'antiaircrafts', 'antialcoholism', 'antialien', 'antianemia', 'antiapartheid', 'antiarins', 'antiarrhythmic', 'antiarthritic', 'antiarthritis', 'antiasthmatic', 'antiatoms', 'antiauxin', 'antibacchii', 'antibacklash', 'antibacterials', 'antibarbarus', 'antibaryon', 'antibilious', 'antibioses', 'antibiotic', 'antibiotics', 'antiblackism', 'antibodies', 'antiboycott', 'antiburglary', 'antibusers', 'antibusing', 'antically', 'anticapitalism', 'anticapitalist', 'anticarcinogen', 'anticaries', 'anticatalysts', 'anticathodes', 'anticellulite', 'antichlor', 'antichlors', 'antichoicer', 'anticholesterol', 'antichrist', 'antichristianly', 'antichthones', 'anticigarette', 'anticipants', 'anticipate', 'anticipates', 'anticipation', 'anticipative', 'anticipator', 'anticipators', 'anticised', 'anticising', 'anticivism', 'anticized', 'anticizing', 'anticlassical', 'anticlerical', 'anticlericals', 'anticlimactical', 'anticlimaxes', 'anticlinals', 'anticlines', 'anticlinoria', 'anticlinoriums', 'anticlotting', 'anticoagulants', 'anticodons', 'anticollision', 'anticolonialism', 'anticommercial', 'anticommunisms', 'anticommunists', 'anticonsumer', 'anticonvulsants', 'anticonvulsives', 'anticorrosion', 'anticorrosives', 'anticrack', 'anticrime', 'anticults', 'anticyclone', 'anticyclonic', 'antidazzle', 'antidemocratic', 'antidepressants', 'antiderivative', 'antidesiccant', 'antidevelopment', 'antidiarrheal', 'antidilution', 'antidiuretics', 'antidotal', 'antidoted', 'antidoting', 'antidromic', 'antidumping', 'antieconomic', 'antiegalitarian', 'antielectrons', 'antielites', 'antielitisms', 'antiemetic', 'antientropic', 'antiepileptic', 'antierotic', 'antiestrogens', 'antifamily', 'antifascisms', 'antifascists', 'antifashionable', 'antifatigue', 'antifebriles', 'antifederalists', 'antifeminine', 'antifeminisms', 'antifeminists', 'antifertility', 'antifoaming', 'antiforeclosure', 'antiforeigner', 'antifouling', 'antifraud', 'antifreezes', 'antifungal', 'antigambling', 'antigenic', 'antigenicities', 'antiglare', 'antiglobulins', 'antigraft', 'antigravity', 'antigropelos', 'antiguerrilla', 'antihalations', 'antihelix', 'antihelminthic', 'antiheroes', 'antiheroine', 'antiherpes', 'antihistamine', 'antihistaminic', 'antihistorical', 'antihuman', 'antihumanisms', 'antihunter', 'antihydrogen', 'antihysteric', 'antijacobin', 'antijamming', 'antikickback', 'antiknock', 'antilabor', 'antileprosy', 'antileptons', 'antiliberal', 'antiliberalisms', 'antilibertarian', 'antilifers', 'antilitter', 'antilogarithm', 'antilogarithms', 'antilogies', 'antilopine', 'antimacassar', 'antimacho', 'antimalaria', 'antimalarials', 'antimarijuana', 'antimasks', 'antimasques', 'antimaterialist', 'antimatters', 'antimechanists', 'antimerger', 'antimerism', 'antimetabole', 'antimetabolic', 'antimetabolites', 'antimetathesis', 'antimicrobials', 'antimilitarisms', 'antimilitarists', 'antimissile', 'antimitotic', 'antimnemonic', 'antimodern', 'antimodernists', 'antimonarchist', 'antimonate', 'antimonial', 'antimoniate', 'antimonic', 'antimonides', 'antimonious', 'antimonites', 'antimonopolists', 'antimonous', 'antimonyls', 'antimuons', 'antimusical', 'antimutagen', 'antimycin', 'antimycotic', 'antinarratives', 'antinationalist', 'antinature', 'antineoplastic', 'antinephritics', 'antineutrino', 'antineutron', 'antinodal', 'antinoise', 'antinomian', 'antinomianisms', 'antinomic', 'antinomically', 'antinovel', 'antinovelists', 'antinuclear', 'antinuclearists', 'antinucleons', 'antinukers', 'antiobesity', 'antiodontalgic', 'antioxidant', 'antiozonant', 'antipapal', 'antiparallels', 'antiparticle', 'antiparties', 'antipasti', 'antipastos', 'antipathetical', 'antipathies', 'antipathists', 'antiperiodic', 'antiperistalses', 'antiperistaltic', 'antiperistasis', 'antiperspirant', 'antipesticide', 'antiphlogistic', 'antiphonal', 'antiphonals', 'antiphonary', 'antiphoners', 'antiphonical', 'antiphonies', 'antiphony', 'antiphrasis', 'antiphrastical', 'antiplague', 'antipleasure', 'antipodal', 'antipodean', 'antipodes', 'antipolar', 'antipolice', 'antipolitics', 'antipollutions', 'antipopular', 'antipoverty', 'antipress', 'antiproton', 'antipruritic', 'antipsychiatry', 'antipsychotics', 'antipyreses', 'antipyretic', 'antipyrine', 'antiquarian', 'antiquarianisms', 'antiquaries', 'antiquarks', 'antiquate', 'antiquatedness', 'antiquating', 'antiquations', 'antiqueness', 'antiquers', 'antiquitarian', 'antiquities', 'antirabies', 'antirachitics', 'antiracisms', 'antiracists', 'antiradars', 'antiradicalism', 'antirational', 'antirationalist', 'antirealism', 'antirealist', 'antirecession', 'antireflective', 'antiregulatory', 'antireligion', 'antirepublican', 'antirheumatic', 'antiritualism', 'antiromantic', 'antiromantics', 'antiroyalist', 'antirrhinum', 'antirusts', 'antiscian', 'antiscience', 'antiscientific', 'antiscorbutics', 'antisecrecy', 'antiseizure', 'antisentimental', 'antiseparatist', 'antisepses', 'antiseptic', 'antisepticise', 'antisepticises', 'antisepticism', 'antisepticize', 'antisepticizes', 'antiseptics', 'antiserums', 'antisexists', 'antisexualities', 'antishark', 'antishocks', 'antislavery', 'antismoke', 'antismokers', 'antismuggling', 'antisocial', 'antisocialisms', 'antisocialists', 'antisociality', 'antisolar', 'antispasmodics', 'antispastic', 'antispeculation', 'antispending', 'antistatic', 'antistats', 'antistories', 'antistress', 'antistrophe', 'antistrophic', 'antistrophons', 'antistyle', 'antisubmarine', 'antisubversion', 'antisuicide', 'antisyphilitic', 'antisyzygies', 'antitakeover', 'antitechnology', 'antiterrorisms', 'antiterrorists', 'antitheft', 'antitheisms', 'antitheistic', 'antitheoretical', 'antithesis', 'antithetical', 'antithets', 'antithrombins', 'antithrombotics', 'antitobacco', 'antitoxin', 'antitrade', 'antitraditional', 'antitragus', 'antitrinitarian', 'antitruster', 'antitubercular', 'antitumor', 'antitumors', 'antitussives', 'antitypes', 'antitypic', 'antitypically', 'antiunion', 'antiurban', 'antivenenes', 'antivenins', 'antivenoms', 'antiviral', 'antiviruses', 'antivitamins', 'antiwelfare', 'antiwhite', 'antiworld', 'antiwrinkle', 'antoninianuses', 'antonomasias', 'antonymic', 'antonymous', 'antsiness', 'antwackie', 'anucleated', 'anviltops', 'anxiolytic', 'anxiously', 'anxiousnesses', 'anythingarian', 'anythings', 'anywhither', 'aortitises', 'aortographies', 'apagogical', 'apartheid', 'aparthotel', 'apartment', 'apartments', 'apartnesses', 'apathatons', 'apathetical', 'apatosaur', 'apatosaurus', 'aperients', 'aperiodically', 'aperiodicity', 'aperitive', 'apertness', 'apertural', 'apertures', 'apetalous', 'apfelstrudels', 'aphaeresis', 'aphanipterous', 'aphanitic', 'aphelandra', 'aphelions', 'apheliotropism', 'aphereses', 'apheretic', 'aphetised', 'aphetising', 'aphetizes', 'aphicides', 'aphidicide', 'aphidious', 'aphorised', 'aphorisers', 'aphorising', 'aphoristic', 'aphorists', 'aphorizer', 'aphorizes', 'aphrodisia', 'aphrodisiacal', 'aphrodisias', 'aphrodites', 'aphyllous', 'apiarians', 'apiculate', 'apiculture', 'apiculturist', 'apimanias', 'apishness', 'apitherapies', 'apivorous', 'aplanatic', 'aplanatism', 'aplanetic', 'aplanogametes', 'aplanospores', 'apneustic', 'apocalypse', 'apocalyptic', 'apocalyptically', 'apocalypticisms', 'apocalyptisms', 'apocalyptists', 'apocarpous', 'apocatastasis', 'apochromatic', 'apochromatisms', 'apocopate', 'apocopates', 'apocopation', 'apocrypha', 'apocryphally', 'apocryphon', 'apocynthion', 'apodeictic', 'apodeictically', 'apodictical', 'apodyterium', 'apoenzyme', 'apogamies', 'apogamously', 'apogeotropism', 'apographs', 'apolaustics', 'apolipoproteins', 'apoliticalities', 'apolitically', 'apoliticisms', 'apollonicon', 'apologetic', 'apologetically', 'apologiae', 'apologies', 'apologised', 'apologisers', 'apologising', 'apologists', 'apologized', 'apologizers', 'apologizing', 'apomictic', 'apomictically', 'apomorphias', 'apomorphines', 'aponeurosis', 'apopemptic', 'apophasis', 'apophlegmatic', 'apophonies', 'apophthegmatic', 'apophthegmatist', 'apophthegms', 'apophyllite', 'apophysate', 'apophyses', 'apophysis', 'apoplectic', 'apoplectically', 'apoplexed', 'apoplexies', 'apoprotein', 'apoptoses', 'apoptotic', 'aposematically', 'aposiopesis', 'apositias', 'apospories', 'apostacies', 'apostates', 'apostatical', 'apostatised', 'apostatising', 'apostatized', 'apostatizing', 'apostilles', 'apostleships', 'apostolates', 'apostolical', 'apostolicism', 'apostolicities', 'apostolise', 'apostolises', 'apostolize', 'apostolizes', 'apostrophe', 'apostrophic', 'apostrophised', 'apostrophising', 'apostrophized', 'apostrophizing', 'apostrophuses', 'apothecary', 'apothecia', 'apothecium', 'apothegmatical', 'apothegmatised', 'apothegmatising', 'apothegmatists', 'apothegmatized', 'apothegmatizing', 'apotheoses', 'apotheosise', 'apotheosises', 'apotheosize', 'apotheosizes', 'apotropaic', 'apotropaism', 'apotropous', 'appalling', 'appaloosa', 'appanaged', 'apparatchik', 'apparatchiks', 'apparatuses', 'appareling', 'apparelling', 'apparelments', 'apparency', 'apparentness', 'apparents', 'apparitional', 'apparitor', 'appartement', 'appassionato', 'appeaches', 'appeachment', 'appealabilities', 'appealable', 'appealing', 'appealingness', 'appearance', 'appearers', 'appeasable', 'appeasements', 'appeasing', 'appellant', 'appellate', 'appellational', 'appellative', 'appellatives', 'appellors', 'appendages', 'appendants', 'appendectomy', 'appendents', 'appendices', 'appendicitises', 'appendicles', 'appendicularian', 'appending', 'apperceive', 'apperceives', 'apperception', 'apperceptive', 'apperills', 'appertainance', 'appertained', 'appertainment', 'appertains', 'appertinents', 'appeteezement', 'appetence', 'appetencies', 'appetible', 'appetisement', 'appetiser', 'appetises', 'appetisingly', 'appetition', 'appetitive', 'appetizer', 'appetizes', 'appetizingly', 'applaudably', 'applauder', 'applauding', 'applauses', 'applausively', 'applecarts', 'appledrains', 'applejacks', 'appleringies', 'applesauces', 'appliance', 'applicabilities', 'applicable', 'applicably', 'applicants', 'application', 'applicative', 'applicator', 'applicatory', 'appliqueing', 'appoggiatura', 'appoggiature', 'appointee', 'appointer', 'appointing', 'appointment', 'appointor', 'apportion', 'apportioned', 'apportioners', 'apportionment', 'apportions', 'appositely', 'appositenesses', 'appositional', 'appositive', 'appositives', 'appraisal', 'appraised', 'appraisees', 'appraisements', 'appraisers', 'appraising', 'appraisive', 'appreciable', 'appreciate', 'appreciates', 'appreciation', 'appreciative', 'appreciator', 'appreciators', 'apprehend', 'apprehending', 'apprehensible', 'apprehension', 'apprehensive', 'apprentice', 'apprenticehood', 'apprenticement', 'apprentices', 'apprenticeships', 'appressed', 'appressing', 'appressorium', 'apprising', 'apprizers', 'apprizings', 'approachable', 'approaches', 'approbate', 'approbates', 'approbation', 'approbative', 'appropinquate', 'appropinquates', 'appropinquation', 'appropinqued', 'appropinquing', 'appropinquity', 'appropriacies', 'appropriate', 'appropriately', 'appropriates', 'appropriation', 'appropriative', 'appropriators', 'approvably', 'approvance', 'approvers', 'approvingly', 'approximate', 'approximately', 'approximating', 'approximations', 'appulsive', 'appurtenance', 'appurtenant', 'apricated', 'apricating', 'aprications', 'apriorism', 'apriorist', 'apriorities', 'apronfuls', 'apsarases', 'apsidioles', 'apterygial', 'aptitudes', 'aptitudinally', 'apyrexias', 'aquabatics', 'aquaboards', 'aquaceutical', 'aquacultural', 'aquacultures', 'aquaculturists', 'aquadromes', 'aquafarmed', 'aquafarms', 'aquafitnesses', 'aquafortises', 'aquafortists', 'aqualeathers', 'aquamanale', 'aquamanile', 'aquamarine', 'aquanautics', 'aquaphobe', 'aquaphobia', 'aquaphobic', 'aquaplane', 'aquaplaner', 'aquaplanes', 'aquaplanings', 'aquaporins', 'aquarelles', 'aquarellists', 'aquariist', 'aquarists', 'aquarobic', 'aquashows', 'aquatinta', 'aquatinted', 'aquatinters', 'aquatintist', 'aquatints', 'aqueducts', 'aquicultural', 'aquicultures', 'aquiculturists', 'aquifoliaceous', 'aquilegias', 'aquilinity', 'arabesqued', 'arabicisation', 'arabicise', 'arabicises', 'arabicization', 'arabicize', 'arabicizes', 'arabilities', 'arabinose', 'arabinoside', 'arabisation', 'arabising', 'arabizations', 'arachidonic', 'arachnidan', 'arachnids', 'arachnoidal', 'arachnoiditises', 'arachnological', 'arachnologist', 'arachnology', 'arachnophobes', 'arachnophobias', 'araeometers', 'araeometrical', 'araeometry', 'araeostyles', 'araeosystyles', 'aragonites', 'araliaceous', 'arapaimas', 'arapungas', 'araucarian', 'arbalester', 'arbalests', 'arbalisters', 'arbelests', 'arbitrage', 'arbitrager', 'arbitrages', 'arbitrageurs', 'arbitrament', 'arbitrarily', 'arbitrarinesses', 'arbitrate', 'arbitrates', 'arbitration', 'arbitrations', 'arbitrator', 'arbitratrices', 'arbitratrixes', 'arbitrements', 'arbitresses', 'arbitriums', 'arblasters', 'arboreally', 'arborescence', 'arborescent', 'arboretums', 'arboriculture', 'arboriculturist', 'arborisations', 'arborises', 'arborists', 'arborizations', 'arborizes', 'arborvitae', 'arboviral', 'arboviruses', 'arbuscular', 'arcadians', 'arcaneness', 'arcanists', 'arccosine', 'archaeans', 'archaebacterium', 'archaeobotanist', 'archaeological', 'archaeologist', 'archaeology', 'archaeometries', 'archaeometrists', 'archaeopteryx', 'archaeornis', 'archaeozoology', 'archaezoology', 'archaically', 'archaicisms', 'archaiser', 'archaises', 'archaisms', 'archaists', 'archaizer', 'archaizes', 'archangel', 'archangels', 'archbishopric', 'archbishops', 'archdeaconries', 'archdeacons', 'archdiocese', 'archducal', 'archduchesses', 'archduchy', 'archdukedoms', 'archegonia', 'archegoniate', 'archegonium', 'archenemy', 'archenteric', 'archenterons', 'archeobotanies', 'archeobotanists', 'archeological', 'archeologies', 'archeologists', 'archeomagnetism', 'archeometry', 'archeozoologist', 'archeress', 'archerfish', 'archeries', 'archespores', 'archesporial', 'archetypal', 'archetype', 'archetypical', 'archfiend', 'archgenethliac', 'archicarp', 'archidiaconal', 'archidiaconates', 'archiepiscopal', 'archilowe', 'archimage', 'archimandrite', 'archipelagian', 'archipelago', 'archipelagos', 'archiphonemes', 'archiplasmic', 'architect', 'architecting', 'architectonics', 'architectural', 'architecture', 'architrave', 'architraves', 'architypes', 'archivist', 'archivolt', 'archlutes', 'archologies', 'archonship', 'archontate', 'archontic', 'archoplasmic', 'archosaur', 'archosaurs', 'archpriesthood', 'archpriests', 'archpriestships', 'archrivals', 'arcographs', 'arcsecond', 'arctangent', 'arctically', 'arctophile', 'arctophilia', 'arctophilies', 'arctophilists', 'arctophily', 'arcuation', 'arcubalist', 'ardencies', 'arduousness', 'areaching', 'arecolines', 'arefactions', 'arenation', 'arenicolous', 'areographic', 'areography', 'areolation', 'areologies', 'areometers', 'areostyles', 'areosystiles', 'arfvedsonite', 'argemones', 'argentine', 'argentite', 'argentous', 'argillaceous', 'argillite', 'argillitic', 'arginines', 'argonauts', 'argufying', 'argumentation', 'argumentative', 'argumentive', 'argumentum', 'arguteness', 'argyrites', 'argyrodites', 'arhatships', 'arhythmias', 'ariboflavinoses', 'aridities', 'arillated', 'aristocracies', 'aristocrat', 'aristocratical', 'aristocratisms', 'aristolochia', 'aristologies', 'aristotle', 'arithmetic', 'arithmetically', 'arithmeticians', 'arithmomania', 'arithmometer', 'arithmophobia', 'armadillo', 'armagnacs', 'armamentarium', 'armaments', 'armatures', 'armchairs', 'armigeros', 'armillaria', 'armillary', 'armipotences', 'armistice', 'armlocked', 'armonicas', 'armorials', 'armorless', 'armouries', 'armourless', 'armozines', 'arointing', 'aromatases', 'aromatherapist', 'aromatherapy', 'aromaticities', 'aromatics', 'aromatisations', 'aromatised', 'aromatising', 'aromatizations', 'aromatized', 'aromatizing', 'aroynting', 'arpeggiated', 'arpeggiating', 'arpeggiations', 'arpeggiones', 'arpillera', 'arquebusade', 'arquebuses', 'arquebusiers', 'arracachas', 'arragonites', 'arraigner', 'arraigning', 'arraignment', 'arrangeable', 'arrangements', 'arranging', 'arrayment', 'arrearage', 'arreeding', 'arrestant', 'arrestation', 'arrestees', 'arresting', 'arrestive', 'arrestments', 'arrhenotokies', 'arrhythmia', 'arrhythmic', 'arrivances', 'arrivancy', 'arrivisme', 'arriviste', 'arrogance', 'arrogancies', 'arrogantly', 'arrogates', 'arrogation', 'arrogative', 'arrogators', 'arrondissements', 'arrowgrasses', 'arrowheads', 'arrowlike', 'arrowroots', 'arrowwoods', 'arrowworms', 'arsenates', 'arseniates', 'arsenicals', 'arsenious', 'arsenopyrite', 'arsmetrick', 'arsonists', 'arsphenamine', 'artefacts', 'artemisia', 'artemisinin', 'arterialisation', 'arterialised', 'arterialising', 'arterialize', 'arterializes', 'arterially', 'arteriogram', 'arteriographic', 'arteriography', 'arteriole', 'arteriotomies', 'arteriovenous', 'arteritis', 'artfulness', 'arthralgia', 'arthralgic', 'arthrectomy', 'arthritically', 'arthritides', 'arthritises', 'arthrodesis', 'arthrodiae', 'arthrographies', 'arthromere', 'arthromeric', 'arthropathy', 'arthroplasty', 'arthropodal', 'arthropodous', 'arthroscope', 'arthroscopic', 'arthroscopy', 'arthrosis', 'arthrospores', 'arthrosporous', 'artichokes', 'articulable', 'articulacy', 'articulate', 'articulately', 'articulates', 'articulation', 'articulative', 'articulators', 'artifacts', 'artificer', 'artifices', 'artificialise', 'artificialises', 'artificialities', 'artificialize', 'artificializes', 'artificially', 'artilleries', 'artillerists', 'artilleryman', 'artinesses', 'artiodactylous', 'artisanal', 'artisanships', 'artistically', 'artlessly', 'artlessnesses', 'artocarpuses', 'artsinesses', 'aruspices', 'arvicoline', 'aryballos', 'arytaenoid', 'arytenoid', 'arytenoids', 'asafetida', 'asafoetida', 'asarabacca', 'asbestiform', 'asbestoses', 'asbestous', 'ascariases', 'ascarides', 'ascendance', 'ascendancies', 'ascendant', 'ascendants', 'ascendences', 'ascendency', 'ascendents', 'ascendeur', 'ascendible', 'ascension', 'ascensionist', 'ascensions', 'ascertain', 'ascertainably', 'ascertaining', 'ascertainments', 'ascetical', 'asceticism', 'ascidians', 'ascitical', 'asclepiad', 'asclepiads', 'asclepiases', 'ascocarps', 'ascogonium', 'ascomycetes', 'ascorbate', 'ascospore', 'ascosporic', 'ascribing', 'ascriptions', 'asepalous', 'asepticise', 'asepticises', 'asepticism', 'asepticize', 'asepticizes', 'asexualities', 'asexually', 'ashamedness', 'ashinesses', 'ashlarings', 'ashlerings', 'ashramite', 'asininely', 'asininity', 'askanting', 'askewnesses', 'asparaginase', 'asparagine', 'asparagus', 'aspartame', 'aspartate', 'aspectable', 'aspectual', 'asperates', 'aspergation', 'aspergers', 'aspergilla', 'aspergilloses', 'aspergills', 'aspergillums', 'asperging', 'aspermias', 'aspersing', 'aspersions', 'aspersively', 'aspersoirs', 'aspersories', 'aspersoriums', 'aspersory', 'asphalter', 'asphaltic', 'asphaltite', 'asphaltum', 'aspherical', 'aspheterised', 'aspheterising', 'aspheterisms', 'aspheterized', 'aspheterizing', 'asphyxial', 'asphyxiants', 'asphyxiate', 'asphyxiates', 'asphyxiation', 'asphyxiator', 'asphyxies', 'aspidistra', 'aspirants', 'aspirated', 'aspirating', 'aspirational', 'aspirator', 'aspiratory', 'aspiringness', 'asplanchnic', 'aspleniums', 'asportations', 'assafetida', 'assafoetida', 'assagaied', 'assailable', 'assailants', 'assailing', 'assailments', 'assassinate', 'assassinates', 'assassination', 'assassinator', 'assassins', 'assaulter', 'assaulting', 'assaultively', 'assayable', 'assegaaied', 'assegaais', 'assegaiing', 'assemblages', 'assemblagists', 'assemblances', 'assemblaunces', 'assembler', 'assembles', 'assembling', 'assemblymen', 'assemblywomen', 'assentation', 'assentator', 'assenters', 'assentients', 'assentingly', 'assentiveness', 'assentors', 'assertedly', 'assertible', 'assertion', 'assertive', 'assertiveness', 'assertoric', 'assertory', 'assessing', 'assessments', 'assessors', 'assessorships', 'asseverate', 'asseverates', 'asseveratingly', 'asseverations', 'assevered', 'assibilate', 'assibilates', 'assibilation', 'assiduities', 'assiduous', 'assiduousness', 'assieging', 'assignabilities', 'assignable', 'assignation', 'assignats', 'assigners', 'assignment', 'assignors', 'assimilable', 'assimilate', 'assimilates', 'assimilation', 'assimilationist', 'assimilative', 'assimilator', 'assimilatory', 'assistances', 'assistants', 'assistantships', 'assisting', 'assistors', 'associability', 'associate', 'associates', 'associateships', 'association', 'associationism', 'associationist', 'associations', 'associatively', 'associativity', 'associators', 'assoiling', 'assoilments', 'assoilzied', 'assoilzies', 'assonances', 'assonants', 'assonates', 'assortative', 'assortedness', 'assorters', 'assortive', 'assortments', 'assuagement', 'assuagers', 'assuagings', 'assubjugate', 'assubjugates', 'assuefaction', 'assuetude', 'assumabilities', 'assumable', 'assumedly', 'assumings', 'assumpsits', 'assumptions', 'assumptively', 'assurance', 'assuredly', 'assurednesses', 'assurgency', 'asswaging', 'assythments', 'astacologies', 'astacologists', 'astarboard', 'astatically', 'astaticisms', 'astatines', 'astereognosis', 'asteridian', 'asterisked', 'asteriskless', 'asterisms', 'asteroidean', 'asteroids', 'asthenias', 'asthenies', 'asthenopias', 'asthenosphere', 'asthenospheric', 'asthmatical', 'asthmatics', 'astigmatic', 'astigmatics', 'astigmatisms', 'astomatal', 'astonished', 'astonishing', 'astonishment', 'astonying', 'astounding', 'astoundment', 'astrachan', 'astraddle', 'astragals', 'astragaluses', 'astrakhans', 'astrantias', 'astraphobias', 'astrapophobia', 'astricted', 'astriction', 'astrictive', 'astringed', 'astringences', 'astringency', 'astringently', 'astringer', 'astringes', 'astrobiologies', 'astrobiologists', 'astrobleme', 'astrobotanies', 'astrochemistry', 'astrocompasses', 'astrocytes', 'astrocytoma', 'astrocytomata', 'astrodomes', 'astrodynamics', 'astrofells', 'astrogeologist', 'astrogeology', 'astrohatches', 'astrolabes', 'astrolatry', 'astrologers', 'astrological', 'astrologies', 'astrologists', 'astrometric', 'astrometries', 'astronaut', 'astronautical', 'astronautics', 'astronavigation', 'astronavigators', 'astronomers', 'astronomical', 'astronomies', 'astronomised', 'astronomising', 'astronomized', 'astronomizing', 'astrophel', 'astrophobia', 'astrophobic', 'astrophysical', 'astrophysicist', 'astrophysics', 'astrospheres', 'astrotourisms', 'astrotourists', 'astuciously', 'astunning', 'astutenesses', 'asymmetric', 'asymmetrically', 'asymmetry', 'asymptote', 'asymptotic', 'asymptotically', 'asynapsis', 'asynartetes', 'asynchronies', 'asynchronisms', 'asynchronously', 'asyndetic', 'asyndeton', 'asynergia', 'asynergies', 'asystoles', 'asystolism', 'atabrines', 'atacamites', 'ataractic', 'ataraxias', 'ataraxies', 'atavistically', 'atchieves', 'atelectases', 'atelectatic', 'ateleiosis', 'atenolols', 'atheising', 'atheistical', 'atheizing', 'athematic', 'athenaeum', 'atheneums', 'atheologies', 'atheoretical', 'athermancies', 'athermanous', 'atherogenesis', 'atheromas', 'atheromatous', 'atherosclerosis', 'atheteses', 'athetised', 'athetising', 'athetizes', 'athetoses', 'athetosis', 'athletically', 'athleticisms', 'athrocyte', 'athrocytoses', 'athwartship', 'atmologies', 'atmologists', 'atmolyses', 'atmolysis', 'atmolyzes', 'atmometer', 'atmometries', 'atmosphere', 'atmospheres', 'atmospherical', 'atmospherics', 'atomicities', 'atomisation', 'atomisers', 'atomistic', 'atomistically', 'atomizations', 'atomizing', 'atonalisms', 'atonalists', 'atonality', 'atonement', 'atonicities', 'atoningly', 'atrabilious', 'atracurium', 'atramental', 'atraments', 'atrocious', 'atrociousness', 'atrocities', 'atrophied', 'atrophying', 'atropisms', 'attachers', 'attachment', 'attackable', 'attacking', 'attackmen', 'attainability', 'attainableness', 'attainders', 'attaining', 'attainments', 'attainting', 'attaintments', 'attaintures', 'attempered', 'attemperment', 'attempers', 'attemptable', 'attempter', 'attempting', 'attendances', 'attendancy', 'attendants', 'attendement', 'attenders', 'attendings', 'attendments', 'attention', 'attentions', 'attentively', 'attentivenesses', 'attenuants', 'attenuated', 'attenuating', 'attenuations', 'attenuators', 'attestable', 'attestants', 'attestations', 'attestator', 'attesters', 'attestors', 'atticises', 'atticisms', 'atticized', 'atticizing', 'attirements', 'attitudes', 'attitudinally', 'attitudinarians', 'attitudinised', 'attitudinisers', 'attitudinising', 'attitudinize', 'attitudinizer', 'attitudinizes', 'attitudinizings', 'attolasers', 'attollent', 'attophysics', 'attorneydoms', 'attorneying', 'attorneyisms', 'attorneyship', 'attorning', 'attornments', 'attractance', 'attractancies', 'attractant', 'attracted', 'attracters', 'attractingly', 'attractions', 'attractively', 'attractor', 'attrahens', 'attrahents', 'attrapping', 'attribute', 'attributer', 'attributes', 'attribution', 'attributions', 'attributively', 'attributives', 'attributors', 'attristing', 'attrition', 'attritions', 'attritted', 'attuiting', 'attuitional', 'attuitive', 'attunement', 'atypicalities', 'atypically', 'aubergines', 'aubergistes', 'aubrietas', 'aubrietias', 'auctioned', 'auctioneered', 'auctioneers', 'auctorial', 'audaciously', 'audaciousnesses', 'audibilities', 'audibleness', 'audibling', 'audiencia', 'audiobook', 'audiocassette', 'audiogenic', 'audiograms', 'audiographs', 'audiological', 'audiologies', 'audiologists', 'audiometer', 'audiometric', 'audiometrician', 'audiometries', 'audiometrists', 'audiophil', 'audiophiles', 'audiotape', 'audiotapes', 'audiotyping', 'audiotypist', 'audiovisual', 'audiovisuals', 'audiphones', 'auditioned', 'auditioners', 'auditions', 'auditoria', 'auditories', 'auditorium', 'auditorship', 'auditress', 'augmentable', 'augmentations', 'augmentatively', 'augmented', 'augmenters', 'augmentor', 'augurship', 'augustest', 'augustnesses', 'aulnagers', 'aunthoods', 'auralities', 'aureateness', 'aureities', 'aureoling', 'auricular', 'auriculars', 'auriculate', 'auriculately', 'aurifying', 'auriscopes', 'aurochses', 'auscultate', 'auscultates', 'auscultation', 'auscultative', 'auscultators', 'ausformed', 'auslander', 'auspicate', 'auspicates', 'auspicious', 'auspiciousness', 'austenites', 'austerely', 'austerenesses', 'austerities', 'australes', 'australite', 'austringer', 'autacoids', 'autarchical', 'autarchist', 'autarkical', 'autarkist', 'autecious', 'autecologic', 'autecologies', 'auteurism', 'auteurist', 'authentic', 'authentically', 'authenticated', 'authenticating', 'authentications', 'authenticators', 'authenticity', 'authorcraft', 'authoress', 'authorial', 'authorings', 'authorisation', 'authorise', 'authoriser', 'authorises', 'authorising', 'authorisms', 'authoritarians', 'authoritatively', 'authority', 'authorization', 'authorize', 'authorizer', 'authorizes', 'authorless', 'authorships', 'autistics', 'autoallogamy', 'autoantibody', 'autobahns', 'autobiographers', 'autobiographies', 'autobuses', 'autocades', 'autocatalyse', 'autocatalyses', 'autocatalysis', 'autocatalyze', 'autocatalyzes', 'autocephalic', 'autocephalous', 'autochanger', 'autochthon', 'autochthones', 'autochthonies', 'autochthonisms', 'autochthonously', 'autochthony', 'autoclave', 'autoclaves', 'autocoids', 'autocorrelation', 'autocracy', 'autocratical', 'autocrats', 'autocrimes', 'autocritique', 'autocross', 'autocutie', 'autocycle', 'autodestruct', 'autodestructing', 'autodestructs', 'autodidactic', 'autodidacts', 'autoecious', 'autoecism', 'autoerotic', 'autoeroticisms', 'autoerotisms', 'autoexposures', 'autoflares', 'autofocuses', 'autogamies', 'autogeneses', 'autogenetic', 'autogenics', 'autogenous', 'autogiros', 'autografted', 'autografts', 'autographed', 'autographical', 'autographies', 'autographs', 'autogravure', 'autoguide', 'autogyros', 'autohypnoses', 'autohypnotic', 'autoimmune', 'autoimmunity', 'autoinfections', 'autoionisation', 'autoionization', 'autojumble', 'autokineses', 'autokinetic', 'autolatry', 'autologies', 'autolysate', 'autolysed', 'autolysin', 'autolysins', 'autolytic', 'autolyzates', 'autolyzes', 'automaker', 'automatable', 'automates', 'automatical', 'automaticities', 'automatics', 'automation', 'automatisation', 'automatise', 'automatises', 'automatism', 'automatist', 'automatization', 'automatize', 'automatizes', 'automaton', 'automatous', 'autometers', 'automobiled', 'automobilia', 'automobilism', 'automobilist', 'automobilities', 'automorphic', 'automorphism', 'automotive', 'autonomical', 'autonomics', 'autonomist', 'autonomous', 'autophagia', 'autophagies', 'autophagy', 'autophobia', 'autophobies', 'autophonies', 'autophyte', 'autophytic', 'autopilot', 'autopista', 'autoplastic', 'autoplasty', 'autopoints', 'autopolyploids', 'autopsias', 'autopsies', 'autopsists', 'autoptical', 'autoradiogram', 'autoradiograph', 'autoradiography', 'autorickshaws', 'autorotated', 'autorotating', 'autorotations', 'autoroutes', 'autoschediasms', 'autoschediaze', 'autoschediazes', 'autoscopic', 'autoscopy', 'autosomal', 'autosomes', 'autospores', 'autostability', 'autostradas', 'autosuggest', 'autosuggesting', 'autosuggestions', 'autosuggests', 'autoteller', 'autotetraploid', 'autotetraploidy', 'autotheisms', 'autotheists', 'autotimers', 'autotomies', 'autotomised', 'autotomising', 'autotomized', 'autotomizing', 'autotoxaemia', 'autotoxemia', 'autotoxic', 'autotoxins', 'autotransfusion', 'autotrophic', 'autotrophies', 'autotrophy', 'autotyped', 'autotypic', 'autotyping', 'autowinder', 'autoworker', 'autoxidation', 'autumnally', 'auxanometer', 'auxiliaries', 'auxiliary', 'auxochromes', 'auxometer', 'auxospore', 'auxotonic', 'auxotrophic', 'auxotrophs', 'avadavats', 'availability', 'availableness', 'availably', 'avalanche', 'avalanches', 'avantists', 'avanturines', 'avariciously', 'avascular', 'avascularity', 'avenaceous', 'avengement', 'avengeress', 'aventaile', 'aventails', 'aventures', 'aventurine', 'aventurins', 'averageness', 'averaging', 'averments', 'averruncate', 'averruncates', 'averruncation', 'averruncator', 'averseness', 'aversions', 'aversiveness', 'aversives', 'avertedly', 'avertiment', 'avgolemono', 'avianised', 'avianising', 'avianizes', 'aviarists', 'aviatress', 'aviatrice', 'aviatrixes', 'avicultures', 'aviculturists', 'avidnesses', 'avifaunal', 'avigators', 'avisandum', 'avisement', 'avitaminoses', 'avitaminotic', 'avizandums', 'avocadoes', 'avocational', 'avocations', 'avoidably', 'avoidances', 'avoirdupoises', 'avouchable', 'avouching', 'avouchments', 'avouterers', 'avoutries', 'avowablenesses', 'avuncular', 'avuncularity', 'avunculate', 'avvogadore', 'awakeners', 'awakenings', 'awareness', 'awaynesses', 'awelessnesses', 'awesomeness', 'awestricken', 'awestrikes', 'awestruck', 'awfulness', 'awkwarder', 'awkwardish', 'awkwardness', 'axenically', 'axerophthols', 'axilemmas', 'axinomancies', 'axiological', 'axiologies', 'axiologists', 'axiomatical', 'axiomatics', 'axiomatisations', 'axiomatised', 'axiomatising', 'axiomatizations', 'axiomatized', 'axiomatizing', 'axisymmetrical', 'axisymmetry', 'axolemmas', 'axonometric', 'axonometry', 'axoplasms', 'ayahuascas', 'ayahuascos', 'ayatollahs', 'ayuntamiento', 'ayurvedas', 'ayurvedics', 'azathioprines', 'azedarachs', 'azeotropes', 'azeotropies', 'azidothymidine', 'azimuthal', 'azobenzene', 'azoospermia', 'azoospermic', 'azotaemias', 'azotemias', 'azotizing', 'azotobacters', 'azygospore']\n"
     ]
    }
   ],
   "source": [
    "word_list = []\n",
    "\n",
    "for word in scrabble.wordlist:\n",
    "    if word.startswith('a') and len(word) >= 9:\n",
    "        word_list.append(word)\n",
    "print(word_list[0::2])"
   ]
  },
  {
   "cell_type": "markdown",
   "metadata": {},
   "source": [
    "Find at least one word that uses all five vowels in order."
   ]
  },
  {
   "cell_type": "code",
   "execution_count": 26,
   "metadata": {},
   "outputs": [
    {
     "data": {
      "text/plain": [
       "'i'"
      ]
     },
     "execution_count": 26,
     "metadata": {},
     "output_type": "execute_result"
    }
   ],
   "source": [
    "vowels[2]"
   ]
  },
  {
   "cell_type": "code",
   "execution_count": 29,
   "metadata": {},
   "outputs": [
    {
     "name": "stdout",
     "output_type": "stream",
     "text": [
      "abstemious\n",
      "abstemiously\n",
      "abstemiousness\n",
      "abstentious\n",
      "adventitious\n",
      "adventitiously\n",
      "aeruginous\n",
      "amentiferous\n",
      "androdioecious\n",
      "andromonoecious\n",
      "anemophilous\n",
      "antenniferous\n",
      "antireligious\n",
      "arenicolous\n",
      "argentiferous\n",
      "arsenious\n",
      "arteriovenous\n",
      "asclepiadaceous\n",
      "autecious\n",
      "autoecious\n",
      "autoeciously\n",
      "bacteriophagous\n",
      "caesious\n",
      "cavernicolous\n",
      "chaetiferous\n",
      "facetious\n",
      "facetiously\n",
      "facetiousness\n",
      "facetiousnesses\n",
      "facinerious\n",
      "flagelliferous\n",
      "garnetiferous\n",
      "halfseriously\n",
      "hamamelidaceous\n",
      "lateritious\n",
      "parecious\n",
      "paroecious\n",
      "quadrigeminous\n",
      "sacrilegious\n",
      "sacrilegiously\n",
      "sarraceniaceous\n",
      "ultraserious\n",
      "valerianaceous\n"
     ]
    }
   ],
   "source": [
    "vowels = ['a','e','i','o','u']\n",
    "for word in scrabble.wordlist:\n",
    "    curr_vowel = 0\n",
    "    for letter in word:\n",
    "        if letter == vowels[curr_vowel]:\n",
    "            curr_vowel = curr_vowel + 1\n",
    "            if curr_vowel == 5:\n",
    "                print(word)\n",
    "                break"
   ]
  },
  {
   "cell_type": "code",
   "execution_count": 24,
   "metadata": {},
   "outputs": [
    {
     "name": "stdout",
     "output_type": "stream",
     "text": [
      "['abstemious', 'abstemiously', 'abstemiousness', 'abstentious', 'adventitious', 'adventitiously', 'amentiferous', 'antenniferous', 'arenicolous', 'argentiferous', 'arsenious', 'arteriovenous', 'asclepiadaceous', 'bacteriophagous', 'caesious', 'cavernicolous', 'chaetiferous', 'facetious', 'facetiously', 'facetiousness', 'facetiousnesses', 'flagelliferous', 'garnetiferous', 'halfseriously', 'hamamelidaceous', 'lateritious', 'parecious', 'sarraceniaceous', 'valerianaceous']\n"
     ]
    }
   ],
   "source": [
    "word_list = []\n",
    "for word in scrabble.wordlist:\n",
    "    a = word.find('a')\n",
    "    e = word.find('e') \n",
    "    i = word.find('i')\n",
    "    o = word.find('o')\n",
    "    u = word.find('u')\n",
    "    if a >= 0:\n",
    "        if a < e and e < i and i < o and o < u:\n",
    "            word_list.append(word)\n",
    "    else:\n",
    "        continue\n",
    "print(word_list)"
   ]
  }
 ],
 "metadata": {
  "kernelspec": {
   "display_name": "Python 3",
   "language": "python",
   "name": "python3"
  },
  "language_info": {
   "codemirror_mode": {
    "name": "ipython",
    "version": 3
   },
   "file_extension": ".py",
   "mimetype": "text/x-python",
   "name": "python",
   "nbconvert_exporter": "python",
   "pygments_lexer": "ipython3",
   "version": "3.7.4"
  }
 },
 "nbformat": 4,
 "nbformat_minor": 2
}
