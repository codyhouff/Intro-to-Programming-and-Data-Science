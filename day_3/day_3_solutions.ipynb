{
 "cells": [
  {
   "cell_type": "markdown",
   "metadata": {},
   "source": [
    "## Py4E exercises"
   ]
  },
  {
   "cell_type": "markdown",
   "metadata": {},
   "source": [
    "5.1 Write a program which repeatedly reads numbers until the user enters “done”. Once “done” is entered, print out the total, count, and average of the numbers. If the user enters anything other than a number, detect their mistake using try and except and print an error message and skip to the next number."
   ]
  },
  {
   "cell_type": "code",
   "execution_count": 36,
   "metadata": {},
   "outputs": [
    {
     "name": "stdout",
     "output_type": "stream",
     "text": [
      "1\n",
      "3\n",
      "5\n",
      "7\n",
      "9\n",
      "11\n"
     ]
    }
   ],
   "source": [
    "result = 0\n",
    "for num in range(1, 7, 1): \n",
    "    result = result + num * 2 - 1\n",
    "    print(result)"
   ]
  },
  {
   "cell_type": "markdown",
   "metadata": {},
   "source": [
    "5.2 Write another program that prompts for a list of numbers as above and at the end prints out both the maximum and minimum of the numbers instead of the average."
   ]
  },
  {
   "cell_type": "code",
   "execution_count": 15,
   "metadata": {},
   "outputs": [
    {
     "name": "stdin",
     "output_type": "stream",
     "text": [
      "Input a number:  43\n",
      "Input a number:  5\n",
      "Input a number:  46\n",
      "Input a number:  -39\n",
      "Input a number:  done\n"
     ]
    },
    {
     "name": "stdout",
     "output_type": "stream",
     "text": [
      "The minimum was -39.0 and the maximum was  46.0\n"
     ]
    }
   ],
   "source": [
    "max_num = None\n",
    "min_num = None\n",
    "while True:\n",
    "    number = input(\"Input a number: \")\n",
    "    if number == 'done':\n",
    "        break\n",
    "    try:\n",
    "        number = float(number)\n",
    "    except ValueError:\n",
    "        print(\"Enter a number\")\n",
    "        continue\n",
    "    if max_num == None or number > max_num:\n",
    "        max_num = number\n",
    "    if min_num == None or number < min_num:\n",
    "        min_num = number\n",
    "print(f\"The minimum was {min_num} and the maximum was  {max_num}\")"
   ]
  },
  {
   "cell_type": "markdown",
   "metadata": {},
   "source": [
    "6.5: Take the following Python code that stores a string:\n",
    "\n",
    "`str = 'X-DSPAM-Confidence:0.8475'`\n",
    "\n",
    "Use find and string slicing to extract the portion of the string after the colon character and then use the `float` function to convert the extracted string into a floating point number."
   ]
  },
  {
   "cell_type": "code",
   "execution_count": 20,
   "metadata": {},
   "outputs": [
    {
     "name": "stdout",
     "output_type": "stream",
     "text": [
      "18\n",
      "0.8475\n"
     ]
    },
    {
     "data": {
      "text/plain": [
       "float"
      ]
     },
     "execution_count": 20,
     "metadata": {},
     "output_type": "execute_result"
    }
   ],
   "source": [
    "s = 'X-DSPAM-Confidence:0.8475'\n",
    "\n",
    "index = s.find(\":\")\n",
    "print(index)\n",
    "new_string = s[index+1:]\n",
    "print(new_string)\n",
    "new_string = float(new_string)\n",
    "type(new_string)"
   ]
  },
  {
   "cell_type": "markdown",
   "metadata": {},
   "source": [
    "8.6 Rewrite the program that prompts the user for a list of numbers and prints out the maximum and minimum of the numbers at the end when the user enters “done”. Write the program to store the numbers the user enters in a list and use the max() and min() functions to compute the maximum and minimum numbers after the loop completes."
   ]
  },
  {
   "cell_type": "code",
   "execution_count": null,
   "metadata": {},
   "outputs": [],
   "source": []
  },
  {
   "cell_type": "markdown",
   "metadata": {},
   "source": [
    "## Wordplay exercises"
   ]
  },
  {
   "cell_type": "markdown",
   "metadata": {},
   "source": [
    "Find all words that start with 'a' and are 9 or more letters long."
   ]
  },
  {
   "cell_type": "code",
   "execution_count": 2,
   "metadata": {},
   "outputs": [],
   "source": [
    "import scrabble"
   ]
  },
  {
   "cell_type": "code",
   "execution_count": null,
   "metadata": {},
   "outputs": [],
   "source": [
    "for word in scrabble.wordlist:\n",
    "    if word[0] == 'a' and len(word) >= 15:\n",
    "        print(word)"
   ]
  },
  {
   "cell_type": "markdown",
   "metadata": {},
   "source": [
    "What is the longest word that starts with a 'q'?"
   ]
  },
  {
   "cell_type": "code",
   "execution_count": 32,
   "metadata": {},
   "outputs": [
    {
     "name": "stdout",
     "output_type": "stream",
     "text": [
      "quadragenarians\n"
     ]
    }
   ],
   "source": [
    "largest_word = ''\n",
    "for word in scrabble.wordlist:\n",
    "#for word in ['abd','qjkl','qjkdlsjfds']:\n",
    "    if word[0] == 'q' and len(word) > len(largest_word):\n",
    "        largest_word = word\n",
    "print(largest_word)"
   ]
  },
  {
   "cell_type": "markdown",
   "metadata": {},
   "source": [
    "Find all words that end with 'nge'"
   ]
  },
  {
   "cell_type": "code",
   "execution_count": null,
   "metadata": {},
   "outputs": [],
   "source": [
    "for word in scrabble.wordlist:\n",
    "    if word[-3:] =='nge':\n",
    "        print(word)"
   ]
  },
  {
   "cell_type": "markdown",
   "metadata": {},
   "source": [
    "Find a word that matches \"a\\*ey\" (here \"*\" means any letter). Are there any words that match?"
   ]
  },
  {
   "cell_type": "code",
   "execution_count": 3,
   "metadata": {},
   "outputs": [
    {
     "name": "stdout",
     "output_type": "stream",
     "text": [
      "abbey\n",
      "absey\n",
      "agley\n",
      "alley\n",
      "antiquey\n",
      "appley\n",
      "arsey\n",
      "ashkey\n",
      "attorney\n"
     ]
    }
   ],
   "source": [
    "for word in scrabble.wordlist:\n",
    "    if word[0] == 'a' and word[-2:] == 'ey':\n",
    "        print(word)"
   ]
  },
  {
   "cell_type": "code",
   "execution_count": 9,
   "metadata": {},
   "outputs": [
    {
     "data": {
      "text/plain": [
       "-1"
      ]
     },
     "execution_count": 9,
     "metadata": {},
     "output_type": "execute_result"
    }
   ],
   "source": [
    "'ephedra'.find('ey')"
   ]
  },
  {
   "cell_type": "code",
   "execution_count": 11,
   "metadata": {},
   "outputs": [
    {
     "name": "stdout",
     "output_type": "stream",
     "text": [
      "abbey\n",
      "abbeys\n",
      "abeyance\n",
      "abeyances\n",
      "abeyancies\n",
      "abeyancy\n",
      "abeyant\n",
      "absey\n",
      "abseys\n",
      "aftereye\n",
      "aftereyed\n",
      "aftereyeing\n",
      "aftereyes\n",
      "aftereying\n",
      "agley\n",
      "aleye\n",
      "aleyed\n",
      "aleyes\n",
      "aleying\n",
      "alley\n",
      "alleycat\n",
      "alleycats\n",
      "alleyed\n",
      "alleys\n",
      "alleyway\n",
      "alleyways\n",
      "antiquey\n",
      "appley\n",
      "arsey\n",
      "ashkey\n",
      "ashkeys\n",
      "attorney\n",
      "attorneydom\n",
      "attorneydoms\n",
      "attorneyed\n",
      "attorneying\n",
      "attorneyism\n",
      "attorneyisms\n",
      "attorneys\n",
      "attorneyship\n",
      "attorneyships\n",
      "backsey\n",
      "backseys\n",
      "baddeleyite\n",
      "baddeleyites\n",
      "bailey\n",
      "baileys\n",
      "baldmoney\n",
      "baldmoneys\n",
      "baloney\n",
      "baloneys\n",
      "barley\n",
      "barleycorn\n",
      "barleycorns\n",
      "barleys\n",
      "barney\n",
      "barneyed\n",
      "barneying\n",
      "barneys\n",
      "bawley\n",
      "bawleys\n",
      "blarney\n",
      "blarneyed\n",
      "blarneying\n",
      "blarneys\n",
      "bleareyed\n",
      "cabbagey\n",
      "cagey\n",
      "cageyness\n",
      "cageynesses\n",
      "cakey\n",
      "carney\n",
      "carneyed\n",
      "carneying\n",
      "carneys\n",
      "carsey\n",
      "carseys\n",
      "cattleya\n",
      "cattleyas\n",
      "causey\n",
      "causeyed\n",
      "causeys\n",
      "chancey\n",
      "chantey\n",
      "chanteys\n",
      "charley\n",
      "charleys\n",
      "chocolatey\n",
      "chromakey\n",
      "chromakeys\n",
      "clayey\n",
      "cleareyed\n",
      "cottagey\n",
      "dahabeeyah\n",
      "dahabeeyahs\n",
      "dancey\n",
      "darkey\n",
      "darkeys\n",
      "dawney\n",
      "deadeye\n",
      "deadeyes\n",
      "drapey\n",
      "fakey\n",
      "flakey\n",
      "frawzey\n",
      "frawzeys\n",
      "galley\n",
      "galleys\n",
      "gamey\n",
      "gansey\n",
      "ganseys\n",
      "garbagey\n",
      "garganey\n",
      "garganeys\n",
      "garvey\n",
      "garveys\n",
      "grapey\n",
      "graveyard\n",
      "graveyards\n",
      "hackney\n",
      "hackneyed\n",
      "hackneying\n",
      "hackneyism\n",
      "hackneyisms\n",
      "hackneyman\n",
      "hackneymen\n",
      "hackneys\n",
      "hawkey\n",
      "hawkeyed\n",
      "hawkeys\n",
      "hayey\n",
      "headachey\n",
      "intervalley\n",
      "jakey\n",
      "jakeys\n",
      "jarvey\n",
      "jarveys\n",
      "jasey\n",
      "jaseys\n",
      "kaleyard\n",
      "kaleyards\n",
      "karsey\n",
      "karseys\n",
      "lacey\n",
      "lackey\n",
      "lackeyed\n",
      "lackeying\n",
      "lackeys\n",
      "lacquey\n",
      "lacqueyed\n",
      "lacqueying\n",
      "lacqueys\n",
      "lammergeyer\n",
      "lammergeyers\n",
      "lamprey\n",
      "lampreys\n",
      "langley\n",
      "langleys\n",
      "larney\n",
      "larneys\n",
      "latchkey\n",
      "latchkeys\n",
      "loadsamoney\n",
      "loadsamoneys\n",
      "maguey\n",
      "magueys\n",
      "malarkey\n",
      "malarkeys\n",
      "malmsey\n",
      "malmseys\n",
      "mamey\n",
      "mameyes\n",
      "mameys\n",
      "mammey\n",
      "mammeys\n",
      "mangabey\n",
      "mangabeys\n",
      "mangey\n",
      "matey\n",
      "mateyness\n",
      "mateynesses\n",
      "mateys\n",
      "mazey\n",
      "orangey\n",
      "pacey\n",
      "paisley\n",
      "paisleys\n",
      "palfrey\n",
      "palfreyed\n",
      "palfreys\n",
      "pamphrey\n",
      "pamphreys\n",
      "parley\n",
      "parleyed\n",
      "parleyer\n",
      "parleyers\n",
      "parleying\n",
      "parleys\n",
      "parleyvoo\n",
      "parleyvooed\n",
      "parleyvooing\n",
      "parleyvoos\n",
      "parsley\n",
      "parsleyed\n",
      "parsleys\n",
      "passkey\n",
      "passkeys\n",
      "peavey\n",
      "peaveys\n",
      "plaguey\n",
      "saleyard\n",
      "saleyards\n",
      "samey\n",
      "sarney\n",
      "sarneys\n",
      "savey\n",
      "saveyed\n",
      "saveying\n",
      "saveys\n",
      "savvey\n",
      "savveyed\n",
      "savveying\n",
      "savveys\n",
      "sawney\n",
      "sawneys\n",
      "scarey\n",
      "shaley\n",
      "shantey\n",
      "shanteys\n",
      "shawley\n",
      "shawleys\n",
      "slatey\n",
      "slavey\n",
      "slaveys\n",
      "snakey\n",
      "spacey\n",
      "sprayey\n",
      "stagey\n",
      "strathspey\n",
      "strathspeys\n",
      "swankey\n",
      "swankeys\n",
      "tabooley\n",
      "tabooleys\n",
      "tackey\n",
      "taleysim\n",
      "tawney\n",
      "tawneys\n",
      "tomalley\n",
      "tomalleys\n",
      "tomatoey\n",
      "trawley\n",
      "trawleys\n",
      "unhackneyed\n",
      "valley\n",
      "valleyed\n",
      "valleys\n",
      "walleye\n",
      "walleyed\n",
      "walleyes\n",
      "waney\n",
      "warrey\n",
      "warreyed\n",
      "warreying\n",
      "warreys\n",
      "watcheye\n",
      "watcheyes\n",
      "wavey\n",
      "waveys\n",
      "waxeye\n",
      "waxeyes\n",
      "yawey\n"
     ]
    }
   ],
   "source": [
    "for word in scrabble.wordlist:\n",
    "    a_index = word.find('a')\n",
    "    ey_index = word.find('ey')\n",
    "    if 'a' in word and 'ey' in word and ey_index > a_index:\n",
    "        print(word)"
   ]
  },
  {
   "cell_type": "markdown",
   "metadata": {},
   "source": [
    "Print every other word that matches the condition in (1) above."
   ]
  },
  {
   "cell_type": "code",
   "execution_count": 19,
   "metadata": {},
   "outputs": [
    {
     "name": "stdout",
     "output_type": "stream",
     "text": [
      "aftereyes\n",
      "alleyways\n",
      "attorneys\n",
      "barley\n",
      "blarneys\n",
      "cattleya\n",
      "clayey\n",
      "flakey\n",
      "grapey\n",
      "hawkeys\n",
      "karseys\n",
      "lampreys\n",
      "malmsey\n",
      "mateys\n",
      "parleyer\n",
      "peavey\n",
      "savveyed\n",
      "slaveys\n",
      "tawney\n",
      "walleyes\n"
     ]
    }
   ],
   "source": [
    "count = 0\n",
    "for word in scrabble.wordlist:\n",
    "    a_index = word.find('a')\n",
    "    ey_index = word.find('ey')\n",
    "    if 'a' in word and 'ey' in word and ey_index > a_index:\n",
    "        count = count + 1\n",
    "        if count % 13 == 0:\n",
    "            print(word)"
   ]
  },
  {
   "cell_type": "markdown",
   "metadata": {},
   "source": [
    "Find at least one word that uses all five vowels in order."
   ]
  },
  {
   "cell_type": "code",
   "execution_count": null,
   "metadata": {},
   "outputs": [],
   "source": []
  }
 ],
 "metadata": {
  "kernelspec": {
   "display_name": "Python 3",
   "language": "python",
   "name": "python3"
  },
  "language_info": {
   "codemirror_mode": {
    "name": "ipython",
    "version": 3
   },
   "file_extension": ".py",
   "mimetype": "text/x-python",
   "name": "python",
   "nbconvert_exporter": "python",
   "pygments_lexer": "ipython3",
   "version": "3.8.8"
  }
 },
 "nbformat": 4,
 "nbformat_minor": 4
}
