{
 "cells": [
  {
   "cell_type": "markdown",
   "metadata": {},
   "source": [
    "## Topics to discuss\n",
    "\n",
    "- Jupyter Hourglass!\n",
    "- 4.6; what is difference from chapter 3?\n",
    "- How to create functions\n",
    "- Debugging"
   ]
  },
  {
   "cell_type": "code",
   "execution_count": 11,
   "metadata": {},
   "outputs": [],
   "source": [
    "while True:\n",
    "    x = 1\n",
    "    break"
   ]
  },
  {
   "cell_type": "code",
   "execution_count": 12,
   "metadata": {},
   "outputs": [
    {
     "name": "stdout",
     "output_type": "stream",
     "text": [
      "1\n"
     ]
    }
   ],
   "source": [
    "print(x)"
   ]
  },
  {
   "cell_type": "code",
   "execution_count": 16,
   "metadata": {},
   "outputs": [
    {
     "name": "stdout",
     "output_type": "stream",
     "text": [
      "What is your name?Jeremy\n",
      "Welcome Jeremy\n"
     ]
    }
   ],
   "source": [
    "name = input(\"What is your name?\")\n",
    "print(\"Welcome \" + name)"
   ]
  },
  {
   "cell_type": "code",
   "execution_count": null,
   "metadata": {},
   "outputs": [],
   "source": [
    "hours = input('Enter hours: ')\n",
    "hours = float(hours)\n",
    "rate = float(input('Enter rate: '))\n",
    "pay = hours * rate \n",
    "print ('Pay: ' + str(pay))\n",
    "\n",
    "hours = input(\"How many hours do you work?\\n\")\n",
    "rate_per_hour = input(\"What is your pay per hour?\\n\")\n",
    "pay = float(hours) * float(rate_per_hour)\n",
    "print(pay)"
   ]
  },
  {
   "cell_type": "code",
   "execution_count": 19,
   "metadata": {},
   "outputs": [
    {
     "data": {
      "text/plain": [
       "5.666666666666667"
      ]
     },
     "execution_count": 19,
     "metadata": {},
     "output_type": "execute_result"
    }
   ],
   "source": [
    "width = 17\n",
    "height = 12.0\n",
    "\n",
    "width / 3"
   ]
  },
  {
   "cell_type": "code",
   "execution_count": 23,
   "metadata": {},
   "outputs": [
    {
     "name": "stdout",
     "output_type": "stream",
     "text": [
      "what is the temp in Celsius? \n",
      "22\n",
      "The temperature in Fahrenheit is: 71.6\n"
     ]
    }
   ],
   "source": [
    "c_temp = input(\"what is the temp in Celsius? \\n\")\n",
    "c_temp = float(c_temp)\n",
    "f_temp = (c_temp * 9/5) + 32\n",
    "print(f\"The temperature in Fahrenheit is: {f_temp}\")"
   ]
  },
  {
   "cell_type": "code",
   "execution_count": 1,
   "metadata": {},
   "outputs": [
    {
     "name": "stdout",
     "output_type": "stream",
     "text": [
      "Enter hours: 30\n",
      "Enter rate: 10\n"
     ]
    },
    {
     "ename": "NameError",
     "evalue": "name 'extra_pay' is not defined",
     "output_type": "error",
     "traceback": [
      "\u001b[0;31m----------------------------------------------------\u001b[0m",
      "\u001b[0;31mNameError\u001b[0m          Traceback (most recent call last)",
      "\u001b[0;32m<ipython-input-1-6b0eb8465ba9>\u001b[0m in \u001b[0;36m<module>\u001b[0;34m\u001b[0m\n\u001b[1;32m      6\u001b[0m     \u001b[0mextra_pay\u001b[0m \u001b[0;34m=\u001b[0m \u001b[0mextra_time\u001b[0m \u001b[0;34m*\u001b[0m \u001b[0mrate\u001b[0m \u001b[0;34m*\u001b[0m \u001b[0;36m1.5\u001b[0m\u001b[0;34m\u001b[0m\u001b[0;34m\u001b[0m\u001b[0m\n\u001b[1;32m      7\u001b[0m \u001b[0mreg_pay\u001b[0m \u001b[0;34m=\u001b[0m \u001b[0;36m40\u001b[0m \u001b[0;34m*\u001b[0m \u001b[0mrate\u001b[0m\u001b[0;34m\u001b[0m\u001b[0;34m\u001b[0m\u001b[0m\n\u001b[0;32m----> 8\u001b[0;31m \u001b[0mtot_pay\u001b[0m \u001b[0;34m=\u001b[0m \u001b[0mextra_pay\u001b[0m \u001b[0;34m+\u001b[0m \u001b[0mreg_pay\u001b[0m\u001b[0;34m\u001b[0m\u001b[0;34m\u001b[0m\u001b[0m\n\u001b[0m\u001b[1;32m      9\u001b[0m \u001b[0mprint\u001b[0m \u001b[0;34m(\u001b[0m\u001b[0;34m'Pay: '\u001b[0m \u001b[0;34m+\u001b[0m \u001b[0mstr\u001b[0m\u001b[0;34m(\u001b[0m\u001b[0mtot_pay\u001b[0m\u001b[0;34m)\u001b[0m\u001b[0;34m)\u001b[0m\u001b[0;34m\u001b[0m\u001b[0;34m\u001b[0m\u001b[0m\n",
      "\u001b[0;31mNameError\u001b[0m: name 'extra_pay' is not defined"
     ]
    }
   ],
   "source": [
    "hours = input('Enter hours: ')\n",
    "hours = float(hours)\n",
    "rate = float(input('Enter rate: '))\n",
    "\n",
    "if hours > 40:\n",
    "    extra_time = hours - 40\n",
    "    extra_pay = extra_time * rate * 1.5\n",
    "else:\n",
    "    extra_pay = 0\n",
    "    \n",
    "reg_pay = 40 * rate \n",
    "tot_pay = extra_pay + reg_pay\n",
    "print ('Pay: ' + str(tot_pay))"
   ]
  },
  {
   "cell_type": "code",
   "execution_count": 10,
   "metadata": {},
   "outputs": [
    {
     "name": "stdout",
     "output_type": "stream",
     "text": [
      "Enter Hours\n",
      "1\n",
      "Enter Rate\n",
      "2\n",
      "Pay 2.0\n"
     ]
    }
   ],
   "source": [
    "def computepay(hours, rate):\n",
    "    if float(hours) > 40 :\n",
    "        payment = float(rate) * (1.5 * float(hours) - 20)\n",
    "    else :\n",
    "        payment = float(rate) * float(hours)\n",
    "    return payment\n",
    "    print('hi')\n",
    "\n",
    "\n",
    "while True:\n",
    "    hours = input('Enter Hours\\n')\n",
    "    rate = input('Enter Rate\\n')\n",
    "    try:\n",
    "        hours = float(hours)\n",
    "        rate = float(rate)\n",
    "        break\n",
    "    except ValueError:\n",
    "        print('Must be numeric')\n",
    "\n",
    "print(\"Pay \" + str(computepay(hours, rate)))"
   ]
  },
  {
   "cell_type": "code",
   "execution_count": 11,
   "metadata": {},
   "outputs": [
    {
     "data": {
      "text/plain": [
       "2000.0"
      ]
     },
     "execution_count": 11,
     "metadata": {},
     "output_type": "execute_result"
    }
   ],
   "source": [
    "computepay(40,50)"
   ]
  }
 ],
 "metadata": {
  "kernelspec": {
   "display_name": "Python 3",
   "language": "python",
   "name": "python3"
  },
  "language_info": {
   "codemirror_mode": {
    "name": "ipython",
    "version": 3
   },
   "file_extension": ".py",
   "mimetype": "text/x-python",
   "name": "python",
   "nbconvert_exporter": "python",
   "pygments_lexer": "ipython3",
   "version": "3.7.4"
  }
 },
 "nbformat": 4,
 "nbformat_minor": 2
}
