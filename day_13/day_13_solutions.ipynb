{
 "cells": [
  {
   "cell_type": "code",
   "execution_count": 1,
   "metadata": {},
   "outputs": [],
   "source": [
    "from scipy import stats\n",
    "import numpy as np\n",
    "import matplotlib.pyplot as plt\n",
    "import pandas as pd"
   ]
  },
  {
   "cell_type": "code",
   "execution_count": 20,
   "metadata": {},
   "outputs": [],
   "source": [
    "X1 = stats.norm.rvs(size = 100) # 100 random, normally distributed values\n",
    "X2 = stats.norm.rvs(size = 100)\n",
    "X3 = stats.norm.rvs(size = 100)\n",
    "group = np.random.choice(['A','B','C'], size=100)\n",
    "# Our outcome is influenced by X1, X2, and the group, plus some random noise\n",
    "Y = 1.5 * X1 - 2.3 * X2 + 3 * (group == 'A') + 1.2 * (group == 'B') + stats.norm.rvs(size = 100)\n",
    "\n",
    "# We can store these in a data frame\n",
    "df = pd.DataFrame({'X1':X1,\n",
    "                   'X2':X2,\n",
    "                   'X3': X3,\n",
    "                   'group':group,\n",
    "                   'Y':Y})"
   ]
  },
  {
   "cell_type": "code",
   "execution_count": 14,
   "metadata": {},
   "outputs": [],
   "source": [
    "l = [1,2,3]"
   ]
  },
  {
   "cell_type": "code",
   "execution_count": 15,
   "metadata": {},
   "outputs": [
    {
     "ename": "TypeError",
     "evalue": "'<' not supported between instances of 'list' and 'int'",
     "output_type": "error",
     "traceback": [
      "\u001b[0;31m---------------------------------------------------------------------------\u001b[0m",
      "\u001b[0;31mTypeError\u001b[0m                                 Traceback (most recent call last)",
      "\u001b[0;32m<ipython-input-15-9e18917d0626>\u001b[0m in \u001b[0;36m<module>\u001b[0;34m\u001b[0m\n\u001b[0;32m----> 1\u001b[0;31m \u001b[0ml\u001b[0m \u001b[0;34m<\u001b[0m \u001b[0;36m1\u001b[0m\u001b[0;34m\u001b[0m\u001b[0;34m\u001b[0m\u001b[0m\n\u001b[0m",
      "\u001b[0;31mTypeError\u001b[0m: '<' not supported between instances of 'list' and 'int'"
     ]
    }
   ],
   "source": [
    "l < 1"
   ]
  },
  {
   "cell_type": "code",
   "execution_count": 9,
   "metadata": {},
   "outputs": [
    {
     "ename": "UFuncTypeError",
     "evalue": "ufunc 'add' did not contain a loop with signature matching types (dtype('<U21'), dtype('<U21')) -> dtype('<U21')",
     "output_type": "error",
     "traceback": [
      "\u001b[0;31m---------------------------------------------------------------------------\u001b[0m",
      "\u001b[0;31mUFuncTypeError\u001b[0m                            Traceback (most recent call last)",
      "\u001b[0;32m<ipython-input-9-a571c314d100>\u001b[0m in \u001b[0;36m<module>\u001b[0;34m\u001b[0m\n\u001b[0;32m----> 1\u001b[0;31m \u001b[0mnp\u001b[0m\u001b[0;34m.\u001b[0m\u001b[0marray\u001b[0m\u001b[0;34m(\u001b[0m\u001b[0ml\u001b[0m\u001b[0;34m)\u001b[0m \u001b[0;34m+\u001b[0m \u001b[0;36m1\u001b[0m\u001b[0;34m\u001b[0m\u001b[0;34m\u001b[0m\u001b[0m\n\u001b[0m",
      "\u001b[0;31mUFuncTypeError\u001b[0m: ufunc 'add' did not contain a loop with signature matching types (dtype('<U21'), dtype('<U21')) -> dtype('<U21')"
     ]
    }
   ],
   "source": [
    "np.array(l) + 1"
   ]
  },
  {
   "cell_type": "code",
   "execution_count": 16,
   "metadata": {},
   "outputs": [],
   "source": [
    "df['new_col'] = df.X1 / df.X2"
   ]
  },
  {
   "cell_type": "code",
   "execution_count": 17,
   "metadata": {},
   "outputs": [
    {
     "data": {
      "text/html": [
       "<div>\n",
       "<style scoped>\n",
       "    .dataframe tbody tr th:only-of-type {\n",
       "        vertical-align: middle;\n",
       "    }\n",
       "\n",
       "    .dataframe tbody tr th {\n",
       "        vertical-align: top;\n",
       "    }\n",
       "\n",
       "    .dataframe thead th {\n",
       "        text-align: right;\n",
       "    }\n",
       "</style>\n",
       "<table border=\"1\" class=\"dataframe\">\n",
       "  <thead>\n",
       "    <tr style=\"text-align: right;\">\n",
       "      <th></th>\n",
       "      <th>X1</th>\n",
       "      <th>X2</th>\n",
       "      <th>X3</th>\n",
       "      <th>group</th>\n",
       "      <th>Y</th>\n",
       "      <th>new_col</th>\n",
       "    </tr>\n",
       "  </thead>\n",
       "  <tbody>\n",
       "    <tr>\n",
       "      <th>0</th>\n",
       "      <td>1.065030</td>\n",
       "      <td>-0.915505</td>\n",
       "      <td>-1.116959</td>\n",
       "      <td>A</td>\n",
       "      <td>5.030021</td>\n",
       "      <td>-1.163326</td>\n",
       "    </tr>\n",
       "    <tr>\n",
       "      <th>1</th>\n",
       "      <td>-0.226778</td>\n",
       "      <td>0.183680</td>\n",
       "      <td>0.574923</td>\n",
       "      <td>B</td>\n",
       "      <td>1.822986</td>\n",
       "      <td>-1.234634</td>\n",
       "    </tr>\n",
       "    <tr>\n",
       "      <th>2</th>\n",
       "      <td>0.123080</td>\n",
       "      <td>-1.208496</td>\n",
       "      <td>1.445913</td>\n",
       "      <td>C</td>\n",
       "      <td>2.051166</td>\n",
       "      <td>-0.101845</td>\n",
       "    </tr>\n",
       "    <tr>\n",
       "      <th>3</th>\n",
       "      <td>1.346810</td>\n",
       "      <td>-0.416883</td>\n",
       "      <td>-0.046583</td>\n",
       "      <td>B</td>\n",
       "      <td>4.113842</td>\n",
       "      <td>-3.230667</td>\n",
       "    </tr>\n",
       "    <tr>\n",
       "      <th>4</th>\n",
       "      <td>-2.077657</td>\n",
       "      <td>0.716116</td>\n",
       "      <td>0.237131</td>\n",
       "      <td>B</td>\n",
       "      <td>-2.661880</td>\n",
       "      <td>-2.901286</td>\n",
       "    </tr>\n",
       "    <tr>\n",
       "      <th>...</th>\n",
       "      <td>...</td>\n",
       "      <td>...</td>\n",
       "      <td>...</td>\n",
       "      <td>...</td>\n",
       "      <td>...</td>\n",
       "      <td>...</td>\n",
       "    </tr>\n",
       "    <tr>\n",
       "      <th>95</th>\n",
       "      <td>0.873157</td>\n",
       "      <td>-0.405940</td>\n",
       "      <td>-0.447953</td>\n",
       "      <td>C</td>\n",
       "      <td>3.168364</td>\n",
       "      <td>-2.150952</td>\n",
       "    </tr>\n",
       "    <tr>\n",
       "      <th>96</th>\n",
       "      <td>1.301016</td>\n",
       "      <td>1.515415</td>\n",
       "      <td>-0.591891</td>\n",
       "      <td>B</td>\n",
       "      <td>0.234114</td>\n",
       "      <td>0.858521</td>\n",
       "    </tr>\n",
       "    <tr>\n",
       "      <th>97</th>\n",
       "      <td>-0.578570</td>\n",
       "      <td>0.140674</td>\n",
       "      <td>0.706405</td>\n",
       "      <td>C</td>\n",
       "      <td>-0.612378</td>\n",
       "      <td>-4.112837</td>\n",
       "    </tr>\n",
       "    <tr>\n",
       "      <th>98</th>\n",
       "      <td>1.209876</td>\n",
       "      <td>1.279178</td>\n",
       "      <td>1.170765</td>\n",
       "      <td>A</td>\n",
       "      <td>3.117957</td>\n",
       "      <td>0.945823</td>\n",
       "    </tr>\n",
       "    <tr>\n",
       "      <th>99</th>\n",
       "      <td>-2.033204</td>\n",
       "      <td>-0.177219</td>\n",
       "      <td>-0.384158</td>\n",
       "      <td>B</td>\n",
       "      <td>-0.757031</td>\n",
       "      <td>11.472838</td>\n",
       "    </tr>\n",
       "  </tbody>\n",
       "</table>\n",
       "<p>100 rows × 6 columns</p>\n",
       "</div>"
      ],
      "text/plain": [
       "          X1        X2        X3 group         Y    new_col\n",
       "0   1.065030 -0.915505 -1.116959     A  5.030021  -1.163326\n",
       "1  -0.226778  0.183680  0.574923     B  1.822986  -1.234634\n",
       "2   0.123080 -1.208496  1.445913     C  2.051166  -0.101845\n",
       "3   1.346810 -0.416883 -0.046583     B  4.113842  -3.230667\n",
       "4  -2.077657  0.716116  0.237131     B -2.661880  -2.901286\n",
       "..       ...       ...       ...   ...       ...        ...\n",
       "95  0.873157 -0.405940 -0.447953     C  3.168364  -2.150952\n",
       "96  1.301016  1.515415 -0.591891     B  0.234114   0.858521\n",
       "97 -0.578570  0.140674  0.706405     C -0.612378  -4.112837\n",
       "98  1.209876  1.279178  1.170765     A  3.117957   0.945823\n",
       "99 -2.033204 -0.177219 -0.384158     B -0.757031  11.472838\n",
       "\n",
       "[100 rows x 6 columns]"
      ]
     },
     "execution_count": 17,
     "metadata": {},
     "output_type": "execute_result"
    }
   ],
   "source": [
    "df"
   ]
  },
  {
   "cell_type": "markdown",
   "metadata": {},
   "source": [
    "## Exercise 1\n",
    "\n",
    "Get the median and the 25th percentile value for X1"
   ]
  },
  {
   "cell_type": "code",
   "execution_count": 23,
   "metadata": {},
   "outputs": [
    {
     "name": "stdout",
     "output_type": "stream",
     "text": [
      "0.021284541293890062\n",
      "-0.9169702384409718\n"
     ]
    }
   ],
   "source": [
    "# Your code here\n",
    "print(np.median(df.X1))\n",
    "print(np.percentile(df.X1, 25))"
   ]
  },
  {
   "cell_type": "code",
   "execution_count": 24,
   "metadata": {},
   "outputs": [
    {
     "data": {
      "text/plain": [
       "0.021284541293890062"
      ]
     },
     "execution_count": 24,
     "metadata": {},
     "output_type": "execute_result"
    }
   ],
   "source": [
    "df.X1.median()"
   ]
  },
  {
   "cell_type": "code",
   "execution_count": 25,
   "metadata": {},
   "outputs": [
    {
     "data": {
      "text/plain": [
       "-0.9169702384409718"
      ]
     },
     "execution_count": 25,
     "metadata": {},
     "output_type": "execute_result"
    }
   ],
   "source": [
    "df.X1.quantile(.25)"
   ]
  },
  {
   "cell_type": "markdown",
   "metadata": {},
   "source": [
    "## Exercise 2\n",
    "\n",
    "Write some code that compares the correlations of each set of variables and prints the two variables with the highest correlation.\n",
    "\n",
    "Hint: You will probably want to use two for loops (although there may also be a tricky way to do this with pandas)"
   ]
  },
  {
   "cell_type": "code",
   "execution_count": 39,
   "metadata": {},
   "outputs": [
    {
     "data": {
      "text/plain": [
       "False"
      ]
     },
     "execution_count": 39,
     "metadata": {},
     "output_type": "execute_result"
    }
   ],
   "source": [
    "sum(X2 == X3) == len(X2)"
   ]
  },
  {
   "cell_type": "code",
   "execution_count": 26,
   "metadata": {},
   "outputs": [
    {
     "name": "stdout",
     "output_type": "stream",
     "text": [
      "Highest correlation is between X1 and Y with a correlation of 0.4497182909106072\n"
     ]
    }
   ],
   "source": [
    "## Your code here\n",
    "## Your code here\n",
    "nums = [X1, X2, X3, Y]\n",
    "numstr = [\"X1\", \"X2\", \"X3\", \"Y\"]\n",
    "comp = 0\n",
    "n1 = 0\n",
    "for i in nums:\n",
    "    n2 = 0\n",
    "    for j in nums:\n",
    "        if n1 != n2:\n",
    "            new = stats.pearsonr(i, j)\n",
    "            if new[0] > comp:\n",
    "                cor1 = n1\n",
    "                cor2 = n2 \n",
    "                comp = new[0]\n",
    "        n2 += 1\n",
    "    n1 += 1\n",
    "print(\"Highest correlation is between \" + numstr[cor1] + \" and \"+ numstr[cor2] + \" with a correlation of \" + str(comp))"
   ]
  },
  {
   "cell_type": "code",
   "execution_count": 51,
   "metadata": {},
   "outputs": [
    {
     "data": {
      "text/html": [
       "<div>\n",
       "<style scoped>\n",
       "    .dataframe tbody tr th:only-of-type {\n",
       "        vertical-align: middle;\n",
       "    }\n",
       "\n",
       "    .dataframe tbody tr th {\n",
       "        vertical-align: top;\n",
       "    }\n",
       "\n",
       "    .dataframe thead th {\n",
       "        text-align: right;\n",
       "    }\n",
       "</style>\n",
       "<table border=\"1\" class=\"dataframe\">\n",
       "  <thead>\n",
       "    <tr style=\"text-align: right;\">\n",
       "      <th></th>\n",
       "      <th>X1</th>\n",
       "      <th>X2</th>\n",
       "      <th>X3</th>\n",
       "      <th>Y</th>\n",
       "    </tr>\n",
       "  </thead>\n",
       "  <tbody>\n",
       "    <tr>\n",
       "      <th>X1</th>\n",
       "      <td>1.000000</td>\n",
       "      <td>-0.035573</td>\n",
       "      <td>0.091425</td>\n",
       "      <td>0.449718</td>\n",
       "    </tr>\n",
       "    <tr>\n",
       "      <th>X2</th>\n",
       "      <td>-0.035573</td>\n",
       "      <td>1.000000</td>\n",
       "      <td>0.021058</td>\n",
       "      <td>-0.731393</td>\n",
       "    </tr>\n",
       "    <tr>\n",
       "      <th>X3</th>\n",
       "      <td>0.091425</td>\n",
       "      <td>0.021058</td>\n",
       "      <td>1.000000</td>\n",
       "      <td>-0.009230</td>\n",
       "    </tr>\n",
       "    <tr>\n",
       "      <th>Y</th>\n",
       "      <td>0.449718</td>\n",
       "      <td>-0.731393</td>\n",
       "      <td>-0.009230</td>\n",
       "      <td>1.000000</td>\n",
       "    </tr>\n",
       "  </tbody>\n",
       "</table>\n",
       "</div>"
      ],
      "text/plain": [
       "          X1        X2        X3         Y\n",
       "X1  1.000000 -0.035573  0.091425  0.449718\n",
       "X2 -0.035573  1.000000  0.021058 -0.731393\n",
       "X3  0.091425  0.021058  1.000000 -0.009230\n",
       "Y   0.449718 -0.731393 -0.009230  1.000000"
      ]
     },
     "execution_count": 51,
     "metadata": {},
     "output_type": "execute_result"
    }
   ],
   "source": [
    "df.corr()"
   ]
  },
  {
   "cell_type": "code",
   "execution_count": 65,
   "metadata": {},
   "outputs": [
    {
     "data": {
      "text/plain": [
       "True"
      ]
     },
     "execution_count": 65,
     "metadata": {},
     "output_type": "execute_result"
    }
   ],
   "source": []
  },
  {
   "cell_type": "code",
   "execution_count": 63,
   "metadata": {},
   "outputs": [
    {
     "name": "stdout",
     "output_type": "stream",
     "text": [
      "-0.03557278148552373\n",
      "0.09142493186919491\n",
      "0.4497182909106072\n",
      "-0.03557278148552373\n",
      "0.0210577634480545\n",
      "-0.7313925765192238\n",
      "0.09142493186919491\n",
      "0.0210577634480545\n",
      "-0.009230154783755433\n",
      "0.4497182909106072\n",
      "-0.7313925765192238\n",
      "-0.009230154783755433\n",
      "-0.7313925765192238 ('X2', 'Y')\n"
     ]
    }
   ],
   "source": [
    "max_corr = 0\n",
    "max_vars = ()\n",
    "for column_i in df:\n",
    "    for column_j in df:\n",
    "        if column_i != column_j and df[column_i].dtype !=\n",
    "        'O' and df[column_j].dtype != 'O':\n",
    "            curr_corr = stats.pearsonr(df[column_i], df[column_j])\n",
    "            curr_corr = curr_corr[0]\n",
    "            print(curr_corr)\n",
    "            if abs(curr_corr) > max_corr:\n",
    "                max_corr = abs(curr_corr)\n",
    "                top_corr = curr_corr\n",
    "                max_vars = (column_i, column_j)\n",
    "print(top_corr, max_vars)"
   ]
  },
  {
   "cell_type": "code",
   "execution_count": 42,
   "metadata": {},
   "outputs": [
    {
     "name": "stdout",
     "output_type": "stream",
     "text": [
      "0.4497182909106071 ('X1', 'Y')\n"
     ]
    }
   ],
   "source": [
    "max_corr = None\n",
    "for i, j in df.corr().iterrows():\n",
    "    for k in range(len(df.corr())):\n",
    "        if j[k] != 1:\n",
    "            if max_corr is None or j[k] > max_corr:\n",
    "                max_corr = j[k]\n",
    "                variable = (i, df.corr().index[k])\n",
    "print(max_corr, variable)"
   ]
  },
  {
   "cell_type": "code",
   "execution_count": null,
   "metadata": {},
   "outputs": [],
   "source": [
    "# Like many things, this could be done more quickly with pandas\n",
    "df['large_y'] = df.Y > df.Y.median()\n",
    "\n",
    "large_y_counts = df.loc[df.large_y==True,:].groupby('group').Y.count()\n",
    "small_y_counts = df.loc[df.large_y==False,:].groupby('group').Y.count()"
   ]
  },
  {
   "cell_type": "code",
   "execution_count": 67,
   "metadata": {},
   "outputs": [],
   "source": [
    "# but for multiple regression we need to use something else. One option is sklearn,\n",
    "# the machine learning package. Another, maybe simpler is statsmodels, which I show here:\n",
    "\n",
    "import pandas as pd\n",
    "import statsmodels.formula.api as sm"
   ]
  },
  {
   "cell_type": "code",
   "execution_count": 68,
   "metadata": {},
   "outputs": [],
   "source": [
    "df = pd.DataFrame({'X1':X1,\n",
    "                   'X2':X2,\n",
    "                   'X3': X3,\n",
    "                   'group':group,\n",
    "                   'Y':Y})"
   ]
  },
  {
   "cell_type": "code",
   "execution_count": 69,
   "metadata": {},
   "outputs": [],
   "source": [
    "result = sm.ols(formula=\"Y ~ X1 + X2 + X3 + group\", data=df).fit()"
   ]
  },
  {
   "cell_type": "code",
   "execution_count": 70,
   "metadata": {},
   "outputs": [
    {
     "data": {
      "text/html": [
       "<table class=\"simpletable\">\n",
       "<caption>OLS Regression Results</caption>\n",
       "<tr>\n",
       "  <th>Dep. Variable:</th>            <td>Y</td>        <th>  R-squared:         </th> <td>   0.897</td>\n",
       "</tr>\n",
       "<tr>\n",
       "  <th>Model:</th>                   <td>OLS</td>       <th>  Adj. R-squared:    </th> <td>   0.891</td>\n",
       "</tr>\n",
       "<tr>\n",
       "  <th>Method:</th>             <td>Least Squares</td>  <th>  F-statistic:       </th> <td>   163.1</td>\n",
       "</tr>\n",
       "<tr>\n",
       "  <th>Date:</th>             <td>Thu, 03 Jun 2021</td> <th>  Prob (F-statistic):</th> <td>1.02e-44</td>\n",
       "</tr>\n",
       "<tr>\n",
       "  <th>Time:</th>                 <td>14:09:34</td>     <th>  Log-Likelihood:    </th> <td> -138.96</td>\n",
       "</tr>\n",
       "<tr>\n",
       "  <th>No. Observations:</th>      <td>   100</td>      <th>  AIC:               </th> <td>   289.9</td>\n",
       "</tr>\n",
       "<tr>\n",
       "  <th>Df Residuals:</th>          <td>    94</td>      <th>  BIC:               </th> <td>   305.5</td>\n",
       "</tr>\n",
       "<tr>\n",
       "  <th>Df Model:</th>              <td>     5</td>      <th>                     </th>     <td> </td>   \n",
       "</tr>\n",
       "<tr>\n",
       "  <th>Covariance Type:</th>      <td>nonrobust</td>    <th>                     </th>     <td> </td>   \n",
       "</tr>\n",
       "</table>\n",
       "<table class=\"simpletable\">\n",
       "<tr>\n",
       "       <td></td>         <th>coef</th>     <th>std err</th>      <th>t</th>      <th>P>|t|</th>  <th>[0.025</th>    <th>0.975]</th>  \n",
       "</tr>\n",
       "<tr>\n",
       "  <th>Intercept</th>  <td>    2.8564</td> <td>    0.181</td> <td>   15.802</td> <td> 0.000</td> <td>    2.498</td> <td>    3.215</td>\n",
       "</tr>\n",
       "<tr>\n",
       "  <th>group[T.B]</th> <td>   -2.0760</td> <td>    0.261</td> <td>   -7.956</td> <td> 0.000</td> <td>   -2.594</td> <td>   -1.558</td>\n",
       "</tr>\n",
       "<tr>\n",
       "  <th>group[T.C]</th> <td>   -3.1077</td> <td>    0.244</td> <td>  -12.717</td> <td> 0.000</td> <td>   -3.593</td> <td>   -2.623</td>\n",
       "</tr>\n",
       "<tr>\n",
       "  <th>X1</th>         <td>    1.4173</td> <td>    0.096</td> <td>   14.814</td> <td> 0.000</td> <td>    1.227</td> <td>    1.607</td>\n",
       "</tr>\n",
       "<tr>\n",
       "  <th>X2</th>         <td>   -2.3106</td> <td>    0.104</td> <td>  -22.262</td> <td> 0.000</td> <td>   -2.517</td> <td>   -2.105</td>\n",
       "</tr>\n",
       "<tr>\n",
       "  <th>X3</th>         <td>   -0.0879</td> <td>    0.113</td> <td>   -0.781</td> <td> 0.437</td> <td>   -0.311</td> <td>    0.136</td>\n",
       "</tr>\n",
       "</table>\n",
       "<table class=\"simpletable\">\n",
       "<tr>\n",
       "  <th>Omnibus:</th>       <td> 5.441</td> <th>  Durbin-Watson:     </th> <td>   1.991</td>\n",
       "</tr>\n",
       "<tr>\n",
       "  <th>Prob(Omnibus):</th> <td> 0.066</td> <th>  Jarque-Bera (JB):  </th> <td>   4.835</td>\n",
       "</tr>\n",
       "<tr>\n",
       "  <th>Skew:</th>          <td>-0.448</td> <th>  Prob(JB):          </th> <td>  0.0891</td>\n",
       "</tr>\n",
       "<tr>\n",
       "  <th>Kurtosis:</th>      <td> 3.598</td> <th>  Cond. No.          </th> <td>    3.98</td>\n",
       "</tr>\n",
       "</table><br/><br/>Notes:<br/>[1] Standard Errors assume that the covariance matrix of the errors is correctly specified."
      ],
      "text/plain": [
       "<class 'statsmodels.iolib.summary.Summary'>\n",
       "\"\"\"\n",
       "                            OLS Regression Results                            \n",
       "==============================================================================\n",
       "Dep. Variable:                      Y   R-squared:                       0.897\n",
       "Model:                            OLS   Adj. R-squared:                  0.891\n",
       "Method:                 Least Squares   F-statistic:                     163.1\n",
       "Date:                Thu, 03 Jun 2021   Prob (F-statistic):           1.02e-44\n",
       "Time:                        14:09:34   Log-Likelihood:                -138.96\n",
       "No. Observations:                 100   AIC:                             289.9\n",
       "Df Residuals:                      94   BIC:                             305.5\n",
       "Df Model:                           5                                         \n",
       "Covariance Type:            nonrobust                                         \n",
       "==============================================================================\n",
       "                 coef    std err          t      P>|t|      [0.025      0.975]\n",
       "------------------------------------------------------------------------------\n",
       "Intercept      2.8564      0.181     15.802      0.000       2.498       3.215\n",
       "group[T.B]    -2.0760      0.261     -7.956      0.000      -2.594      -1.558\n",
       "group[T.C]    -3.1077      0.244    -12.717      0.000      -3.593      -2.623\n",
       "X1             1.4173      0.096     14.814      0.000       1.227       1.607\n",
       "X2            -2.3106      0.104    -22.262      0.000      -2.517      -2.105\n",
       "X3            -0.0879      0.113     -0.781      0.437      -0.311       0.136\n",
       "==============================================================================\n",
       "Omnibus:                        5.441   Durbin-Watson:                   1.991\n",
       "Prob(Omnibus):                  0.066   Jarque-Bera (JB):                4.835\n",
       "Skew:                          -0.448   Prob(JB):                       0.0891\n",
       "Kurtosis:                       3.598   Cond. No.                         3.98\n",
       "==============================================================================\n",
       "\n",
       "Notes:\n",
       "[1] Standard Errors assume that the covariance matrix of the errors is correctly specified.\n",
       "\"\"\""
      ]
     },
     "execution_count": 70,
     "metadata": {},
     "output_type": "execute_result"
    }
   ],
   "source": [
    "result.summary()"
   ]
  },
  {
   "cell_type": "markdown",
   "metadata": {},
   "source": [
    "Note the benefit of regression - the coefficient for X1 is much closer to the true coefficient (1.5)"
   ]
  },
  {
   "cell_type": "markdown",
   "metadata": {},
   "source": [
    "## Exercise 3\n",
    "\n",
    "Google to figure out how to output this table as text that you could put into a Word document"
   ]
  },
  {
   "cell_type": "code",
   "execution_count": 71,
   "metadata": {},
   "outputs": [],
   "source": [
    "# Your code here\n",
    "\n",
    "with open('table.txt', 'w') as f:\n",
    "    f.write(str(result.summary()))"
   ]
  },
  {
   "cell_type": "markdown",
   "metadata": {},
   "source": [
    "## Exercise 4\n",
    "\n",
    "Think of a question in some data we've used before (crash data, Twitter data, reddit data) that a statistical test would help to answer and apply one of those covered above."
   ]
  },
  {
   "cell_type": "code",
   "execution_count": 81,
   "metadata": {},
   "outputs": [],
   "source": [
    "np.random.seed(35)"
   ]
  },
  {
   "cell_type": "code",
   "execution_count": 85,
   "metadata": {},
   "outputs": [
    {
     "data": {
      "text/plain": [
       "array([-0.46454173, -0.81487316, -0.87018958,  1.33923703,  0.39519032,\n",
       "        0.86344932, -0.06919494, -2.78430777,  0.83820584,  0.22949623,\n",
       "        1.49052017, -1.63637191, -0.9425192 , -0.83695957,  0.89005539,\n",
       "       -2.00139284,  1.08717104, -0.06010902,  0.11432589,  2.24146231,\n",
       "        1.16319401, -0.59212724,  0.53013554,  0.38467515, -0.24632518,\n",
       "       -1.45965037, -0.67573345, -2.33289491, -0.5610556 ,  0.35046947,\n",
       "        1.28226644,  1.60909264,  0.4925648 ,  1.02488863,  2.8425254 ,\n",
       "       -1.49717629, -1.75206657,  0.04016906, -0.48805239,  0.50799749,\n",
       "       -0.90859003, -0.19765312,  0.62258337,  0.4212686 ,  0.45471113,\n",
       "        0.77421046, -0.07436638, -0.1430368 ,  0.01795917, -0.16253649])"
      ]
     },
     "execution_count": 85,
     "metadata": {},
     "output_type": "execute_result"
    }
   ],
   "source": [
    "np.random.normal(size = 50)"
   ]
  },
  {
   "cell_type": "code",
   "execution_count": 91,
   "metadata": {},
   "outputs": [
    {
     "data": {
      "text/plain": [
       "(0.0, 1.0, 0, array([32., 30., 38.]))"
      ]
     },
     "execution_count": 91,
     "metadata": {},
     "output_type": "execute_result"
    }
   ],
   "source": [
    "stats.chi2_contingency(df.groupby('group').size()"
   ]
  }
 ],
 "metadata": {
  "kernelspec": {
   "display_name": "Python 3",
   "language": "python",
   "name": "python3"
  },
  "language_info": {
   "codemirror_mode": {
    "name": "ipython",
    "version": 3
   },
   "file_extension": ".py",
   "mimetype": "text/x-python",
   "name": "python",
   "nbconvert_exporter": "python",
   "pygments_lexer": "ipython3",
   "version": "3.8.8"
  }
 },
 "nbformat": 4,
 "nbformat_minor": 4
}
