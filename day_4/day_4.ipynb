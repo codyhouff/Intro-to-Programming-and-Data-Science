{
 "cells": [
  {
   "cell_type": "markdown",
   "metadata": {},
   "source": [
    "# Opening, closing, reading, and writing to files\n",
    "\n",
    "This notebook will introduce the idea of loading, reading, and writing to files in Python.\n",
    "\n",
    "Manipulating files in python is typically a two step process. We first use `open` to create a \"file handle\". This gives us a variable that we can then use to access the file.\n",
    "\n",
    "When we are done with the file, we can use `close` to close it."
   ]
  },
  {
   "cell_type": "code",
   "execution_count": null,
   "metadata": {},
   "outputs": [],
   "source": [
    "f = open('./test.txt', 'w') # The 'w' string says that we are opening this file to write"
   ]
  },
  {
   "cell_type": "code",
   "execution_count": null,
   "metadata": {},
   "outputs": [],
   "source": [
    "f.write('Hello, world\\n') # The \\n is the newline character\n",
    "f.write('How are you?\\n')\n",
    "f.writelines(['Line 3\\n', 'Line 4\\n'])"
   ]
  },
  {
   "cell_type": "code",
   "execution_count": null,
   "metadata": {},
   "outputs": [],
   "source": [
    "f.close()"
   ]
  },
  {
   "cell_type": "code",
   "execution_count": null,
   "metadata": {},
   "outputs": [],
   "source": [
    "# Now that it's closed, writing won't work any more\n",
    "f.write('test')"
   ]
  },
  {
   "cell_type": "markdown",
   "metadata": {},
   "source": [
    "The one problem with that approach is that we have to remember to close the file. By using `with` we avoid this and the file closes automatically. This code does the same thing as above:"
   ]
  },
  {
   "cell_type": "code",
   "execution_count": null,
   "metadata": {},
   "outputs": [],
   "source": [
    "with open('./test.txt', 'w') as f:\n",
    "    f.write('Hello, world\\n')\n",
    "    f.write('How are you?\\n')\n",
    "    f.writelines(['Line 3\\n', 'Line 4\\n'])"
   ]
  },
  {
   "cell_type": "markdown",
   "metadata": {},
   "source": [
    "We do a similar operation to read a file"
   ]
  },
  {
   "cell_type": "code",
   "execution_count": null,
   "metadata": {},
   "outputs": [],
   "source": [
    "with open('./test.txt', 'r') as f: # The 'r' is to open for reading\n",
    "    for line in f.readlines():\n",
    "        print(line)"
   ]
  },
  {
   "cell_type": "markdown",
   "metadata": {},
   "source": [
    "## Libraries that make reading and writing easier\n",
    "\n",
    "It is rare that we will operate on files this directly; the `csv` module helps when reading and writing csv files, and `pandas`, which we will come to soon, does a great job of making reading and writing to files simple."
   ]
  },
  {
   "cell_type": "code",
   "execution_count": null,
   "metadata": {},
   "outputs": [],
   "source": [
    "# CSV example\n",
    "import csv\n",
    "import random\n",
    "\n",
    "with open('/home/jeremy/Desktop/csv_test.csv', 'w') as fh:\n",
    "    f = csv.writer(fh)\n",
    "    f.writerow(['Y', 'X1', 'X2', 'X3'])\n",
    "    for i in range(10):\n",
    "        x1 = random.random()\n",
    "        y = x1 + random.random()\n",
    "        f.writerow([y,x1])"
   ]
  },
  {
   "cell_type": "code",
   "execution_count": null,
   "metadata": {},
   "outputs": [],
   "source": [
    "with open('csv_test.csv', 'r') as fh:\n",
    "    f = csv.reader(fh)\n",
    "    header = next(f)\n",
    "    for row in f:\n",
    "        print(f\"Y = {row[0]} and X = {row[1]}\")"
   ]
  },
  {
   "cell_type": "code",
   "execution_count": null,
   "metadata": {},
   "outputs": [],
   "source": [
    "## Pandas example; going from raw data to a plot in two lines\n",
    "\n",
    "import pandas as pd\n",
    "\n",
    "df = pd.read_csv('csv_test.csv')\n",
    "df.plot.scatter(x = 'X1', y = 'Y')"
   ]
  }
 ],
 "metadata": {
  "kernelspec": {
   "display_name": "Python 3",
   "language": "python",
   "name": "python3"
  },
  "language_info": {
   "codemirror_mode": {
    "name": "ipython",
    "version": 3
   },
   "file_extension": ".py",
   "mimetype": "text/x-python",
   "name": "python",
   "nbconvert_exporter": "python",
   "pygments_lexer": "ipython3",
   "version": "3.7.4"
  }
 },
 "nbformat": 4,
 "nbformat_minor": 2
}
