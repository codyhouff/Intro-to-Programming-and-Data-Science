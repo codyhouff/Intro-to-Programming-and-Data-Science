{
 "cells": [
  {
   "cell_type": "markdown",
   "metadata": {},
   "source": [
    "## PY4E\n",
    "\n",
    "7.1 Write a program to read through a file and print the contents of the file (line by line) all in upper case."
   ]
  },
  {
   "cell_type": "code",
   "execution_count": 1,
   "metadata": {},
   "outputs": [
    {
     "name": "stdout",
     "output_type": "stream",
     "text": [
      "Enter a file name: mbox-short.txt\n"
     ]
    },
    {
     "ename": "FileNotFoundError",
     "evalue": "[Errno 2] No such file or directory: 'mbox-short.txt'",
     "output_type": "error",
     "traceback": [
      "\u001b[0;31m--------------------------------------------------------------------\u001b[0m",
      "\u001b[0;31mFileNotFoundError\u001b[0m                  Traceback (most recent call last)",
      "\u001b[0;32m<ipython-input-1-d6a4d43bebdb>\u001b[0m in \u001b[0;36m<module>\u001b[0;34m\u001b[0m\n\u001b[1;32m      1\u001b[0m \u001b[0mfname\u001b[0m \u001b[0;34m=\u001b[0m \u001b[0minput\u001b[0m\u001b[0;34m(\u001b[0m\u001b[0;34m\"Enter a file name: \"\u001b[0m\u001b[0;34m)\u001b[0m\u001b[0;34m\u001b[0m\u001b[0;34m\u001b[0m\u001b[0m\n\u001b[0;32m----> 2\u001b[0;31m \u001b[0;32mwith\u001b[0m \u001b[0mopen\u001b[0m\u001b[0;34m(\u001b[0m\u001b[0mfname\u001b[0m\u001b[0;34m,\u001b[0m \u001b[0;34m'r'\u001b[0m\u001b[0;34m)\u001b[0m \u001b[0;32mas\u001b[0m \u001b[0mfhand\u001b[0m\u001b[0;34m:\u001b[0m\u001b[0;34m\u001b[0m\u001b[0;34m\u001b[0m\u001b[0m\n\u001b[0m\u001b[1;32m      3\u001b[0m     \u001b[0;32mfor\u001b[0m \u001b[0mline\u001b[0m \u001b[0;32min\u001b[0m \u001b[0mfhand\u001b[0m\u001b[0;34m:\u001b[0m\u001b[0;34m\u001b[0m\u001b[0;34m\u001b[0m\u001b[0m\n\u001b[1;32m      4\u001b[0m         \u001b[0mprint\u001b[0m\u001b[0;34m(\u001b[0m\u001b[0mline\u001b[0m\u001b[0;34m.\u001b[0m\u001b[0mupper\u001b[0m\u001b[0;34m(\u001b[0m\u001b[0;34m)\u001b[0m\u001b[0;34m)\u001b[0m\u001b[0;34m\u001b[0m\u001b[0;34m\u001b[0m\u001b[0m\n",
      "\u001b[0;31mFileNotFoundError\u001b[0m: [Errno 2] No such file or directory: 'mbox-short.txt'"
     ]
    }
   ],
   "source": [
    "fname = input(\"Enter a file name: \")\n",
    "with open(fname, 'r') as fhand:\n",
    "    for line in fhand:\n",
    "        print(line.upper())"
   ]
  },
  {
   "cell_type": "markdown",
   "metadata": {},
   "source": [
    "7.2\n",
    "Write a program to prompt for a file name, and then read through the file and look for lines of the form:\n",
    "\n",
    "X-DSPAM-Confidence: 0.8475\n",
    "\n",
    "When you encounter a line that starts with “X-DSPAM-Confidence:” pull apart the line to extract the floating-point number on the line. Count these lines and then compute the total of the spam confidence values from these lines. When you reach the end of the file, print out the average spam confidence."
   ]
  },
  {
   "cell_type": "code",
   "execution_count": null,
   "metadata": {},
   "outputs": [],
   "source": [
    "fname = input('Enter the file name: ')\n",
    "try:\n",
    "    fhand = open(fname, 'r')\n",
    "except:\n",
    "    print('File cannot be opened:', fname)\n",
    "number = []\n",
    "nlines = 0\n",
    "for line in fhand:\n",
    "    s = \"X-DSPAM-Confidence:\"\n",
    "    if line.startswith(s):\n",
    "        colon = line.find(':')\n",
    "        number = number + float(line[len(s) + 1:])\n",
    "        nlines = nlines + 1\n",
    "fhand.close()\n",
    "ave_spam = number / nlines\n",
    "print(f\"Average spam confidence: {ave_spam}\")"
   ]
  },
  {
   "cell_type": "markdown",
   "metadata": {},
   "source": [
    "7.3\n",
    "Sometimes when programmers get bored or want to have a bit of fun, they add a harmless Easter Egg to their program. Modify the program that prompts the user for the file name so that it prints a funny message when the user types in the exact file name “na na boo boo”. The program should behave normally for all other files which exist and don’t exist."
   ]
  },
  {
   "cell_type": "code",
   "execution_count": null,
   "metadata": {},
   "outputs": [],
   "source": [
    "fname = input('Enter the file name: ')\n",
    "count = 0\n",
    "try:\n",
    "    fhand = open(fname)\n",
    "    for line in fhand:\n",
    "        if line.startswith('Subject:'):\n",
    "            print('found it')\n",
    "            count = count + 1\n",
    "    fhand.close()\n",
    "    print('There were', count,' subject lines in', fname)\n",
    "except:\n",
    "    if fname == 'na na boo boo':\n",
    "        print(\"NA NA BOO BOO TO YOU - You have been punk'd!\")\n",
    "    else:\n",
    "        print('File cannot be opened:', fname)"
   ]
  },
  {
   "cell_type": "markdown",
   "metadata": {},
   "source": [
    "## Wordplay\n",
    "\n",
    "For every letter, print the word that uses that character the most. Hint: use two nested for loops. First one is\n",
    "\n",
    "```python\n",
    "for letter in 'abcdefghijklmnopqrstuvwxyz':\n",
    "    # do something\n",
    "```"
   ]
  },
  {
   "cell_type": "code",
   "execution_count": 2,
   "metadata": {},
   "outputs": [
    {
     "ename": "SyntaxError",
     "evalue": "invalid syntax (<ipython-input-2-21a4dbfcec38>, line 1)",
     "output_type": "error",
     "traceback": [
      "\u001b[0;36m  File \u001b[0;32m\"<ipython-input-2-21a4dbfcec38>\"\u001b[0;36m, line \u001b[0;32m1\u001b[0m\n\u001b[0;31m    import .. scrabble\u001b[0m\n\u001b[0m           ^\u001b[0m\n\u001b[0;31mSyntaxError\u001b[0m\u001b[0;31m:\u001b[0m invalid syntax\n"
     ]
    }
   ],
   "source": [
    "import scrabble\n",
    "\n",
    "for letter in 'abcdefghijklmnopqrstuvwxyz':\n",
    "    num = 0\n",
    "    for word in scrabble.wordlist:\n",
    "        count = word.count(letter)\n",
    "        if count > num:\n",
    "            num = count\n",
    "            w = word\n",
    "    print(\"For letter \" + letter + \", the word that uses \" + letter + \" the most is \" + w + \" with using it \" + str(num) + \" times\")"
   ]
  },
  {
   "cell_type": "code",
   "execution_count": 3,
   "metadata": {},
   "outputs": [
    {
     "data": {
      "text/plain": [
       "3"
      ]
     },
     "execution_count": 3,
     "metadata": {},
     "output_type": "execute_result"
    }
   ],
   "source": [
    "'Hello there'.count('e')"
   ]
  },
  {
   "cell_type": "markdown",
   "metadata": {},
   "source": [
    "Find the longest word where no character appears more than 1 time. (Hint: look up counters)"
   ]
  },
  {
   "cell_type": "code",
   "execution_count": null,
   "metadata": {},
   "outputs": [],
   "source": [
    "# Find the longest string where no character appears more than 1 time. (Hint: look up counters)\n",
    "import collections\n",
    "\n",
    "longest = \"\" \n",
    "no_duplicate_words = []\n",
    "for word in scrabble.wordlist:  #find words with charaters only once\n",
    "    for letter in word:\n",
    "    letter_counts = collections.Counter(word)\n",
    "    all_ones = True\n",
    "    for count in letter_counts.values():\n",
    "        if count > 1:\n",
    "            all_ones = False\n",
    "    if all_ones == True:\n",
    "        no_duplicate_words.append(word)\n",
    "    \n",
    "        \n",
    "\n",
    "for item in no_duplicate_words: #find the longest of those\n",
    "    if len(item) > len(longest):\n",
    "        longest = item\n",
    "\n",
    "\n",
    "print(collections.Counter(my_list)) # I know it has something to do with this..."
   ]
  },
  {
   "cell_type": "code",
   "execution_count": 4,
   "metadata": {},
   "outputs": [
    {
     "data": {
      "text/plain": [
       "Counter({'H': 1, 'e': 3, 'l': 2, 'o': 1, ' ': 1, 't': 1, 'h': 1, 'r': 1})"
      ]
     },
     "execution_count": 4,
     "metadata": {},
     "output_type": "execute_result"
    }
   ],
   "source": [
    "longest = None\n",
    "for word in scrabble.wordlist:\n",
    "    count = 0\n",
    "    for letter in \"abcdefghijklmnopqrstuvwxyz\":\n",
    "        if word.count(letter) == 1:\n",
    "            count = count + 1\n",
    "        if count == len(word):\n",
    "            if longest is None or len(word) > len(longest):\n",
    "                longest = word\n",
    "print(f\"The longest string where no character appears more than 1 time is {longest}\")"
   ]
  },
  {
   "cell_type": "code",
   "execution_count": null,
   "metadata": {},
   "outputs": [],
   "source": [
    "max_count = 0\n",
    "curr_length = 0\n",
    "for word in scrabble.wordlist:\n",
    "    exists = False\n",
    "    for letter in \"abcdefghijklmnopqrstuvwxyz\":\n",
    "        number = 0\n",
    "        for word_letter in word:\n",
    "            if word_letter == letter:\n",
    "                number += 1\n",
    "                if number > 1:\n",
    "                    exists = True         #it exists more than 1 \n",
    "                    break                 #leave\n",
    "            if exists == True:\n",
    "                continue\n",
    "    if exists == False:\n",
    "        if len(word) >= curr_length:\n",
    "            longest_word = word\n",
    "            curr_length = len(word)\n",
    "print(longest_word)  "
   ]
  },
  {
   "cell_type": "code",
   "execution_count": null,
   "metadata": {},
   "outputs": [],
   "source": [
    "from collections import Counter\n",
    "\n",
    "counter = {}\n",
    "for word in scrabble.wordlist:\n",
    "    curr_counter = Counter(word)\n",
    "    if sum(curr_counter.values()) / len(curr_counter) == 1:\n",
    "        counter[word] = len(word)\n",
    "    else:\n",
    "        continue\n",
    "most = max(counter, key=counter.get)\n",
    "print(most)"
   ]
  },
  {
   "cell_type": "markdown",
   "metadata": {},
   "source": [
    "   \n",
    "Use Python to find one other interesting fact about the data set. Examples (that you can't use) might be:\n",
    "        One of the words that is tied for the most vowels is aquifoliaceous\n",
    "        The word with the highest consonant to vowel ratio is sulphhydryls"
   ]
  },
  {
   "cell_type": "code",
   "execution_count": null,
   "metadata": {},
   "outputs": [],
   "source": [
    "#Find words that end with q and contains z!\n",
    "for word in scrabble.wordlist:\n",
    "    if word.endswith('q') and 'z' in word:\n",
    "        print(word)                       #what does tzaddiq  mean \n",
    "\n",
    "#Find words with hello in them?\n",
    "for word in scrabble.wordlist:\n",
    "    if 'hello' in word:                   #words that have the word hello in them?\n",
    "        print(word)\n",
    "\n",
    "#for letter in \"hello\":\n",
    "#    exists = False\n",
    "#    for word in scrabble.wordlist:\n",
    "#        if letter in word:\n",
    "#                exists = True\n",
    "#                print(word)\n"
   ]
  },
  {
   "cell_type": "code",
   "execution_count": null,
   "metadata": {},
   "outputs": [],
   "source": [
    "import scrabble\n",
    "longest_size = 0\n",
    "longest = []\n",
    "smallest = None\n",
    "for word in scrabble.wordlist:\n",
    "    no_vowels = True\n",
    "    for vowel in \"aeiouy\":\n",
    "        if word.count(vowel) != 0:\n",
    "            no_vowels = False\n",
    "            break\n",
    "    if no_vowels == True:\n",
    "        if len(word) > longest_size:\n",
    "            longest = [word]\n",
    "            longest_size = len(word)\n",
    "        elif len(word) == longest_size:\n",
    "            longest.append(word)\n",
    "        else:\n",
    "            continue\n",
    "\n",
    "print(f\"One of the longest word without vowels is {longest} in the dataset\")\n",
    "\n",
    "azlist = list()\n",
    "for word in scrabble.wordlist:\n",
    "    if word.startswith(\"a\") and word.endswith(\"z\"):\n",
    "        azlist.append(word)\n",
    "print(f\"Here is a list of words that starts with 'a' and ends with 'z': {azlist}\")"
   ]
  }
 ],
 "metadata": {
  "kernelspec": {
   "display_name": "Python 3",
   "language": "python",
   "name": "python3"
  },
  "language_info": {
   "codemirror_mode": {
    "name": "ipython",
    "version": 3
   },
   "file_extension": ".py",
   "mimetype": "text/x-python",
   "name": "python",
   "nbconvert_exporter": "python",
   "pygments_lexer": "ipython3",
   "version": "3.7.4"
  }
 },
 "nbformat": 4,
 "nbformat_minor": 2
}
