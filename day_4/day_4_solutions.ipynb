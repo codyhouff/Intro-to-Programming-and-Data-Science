{
 "cells": [
  {
   "cell_type": "markdown",
   "metadata": {},
   "source": [
    "## PY4E\n",
    "\n",
    "7.1 Write a program to read through a file and print the contents of the file (line by line) all in upper case."
   ]
  },
  {
   "cell_type": "code",
   "execution_count": null,
   "metadata": {},
   "outputs": [],
   "source": [
    "f_hand = open('./mbox-short.txt', 'r')\n",
    "\n",
    "for line in f_hand.readlines():\n",
    "    print(line.upper())\n",
    "    \n",
    "f_hand.close()\n",
    "\n",
    "with open('./mbox-short.txt') as f_hand:\n",
    "    for line in f_hand.readlines():\n",
    "        print(line.upper())"
   ]
  },
  {
   "cell_type": "markdown",
   "metadata": {},
   "source": [
    "7.2\n",
    "Write a program to prompt for a file name, and then read through the file and look for lines of the form:\n",
    "\n",
    "X-DSPAM-Confidence: 0.8475\n",
    "\n",
    "When you encounter a line that starts with “X-DSPAM-Confidence:” pull apart the line to extract the floating-point number on the line. Count these lines and then compute the total of the spam confidence values from these lines. When you reach the end of the file, print out the average spam confidence."
   ]
  },
  {
   "cell_type": "code",
   "execution_count": 12,
   "metadata": {},
   "outputs": [
    {
     "name": "stdin",
     "output_type": "stream",
     "text": [
      "Enter the filename:  mbox-short.txt\n"
     ]
    },
    {
     "name": "stdout",
     "output_type": "stream",
     "text": [
      "Average spam confidence:  0.7507185185185187\n"
     ]
    }
   ],
   "source": [
    "conf_list = list()\n",
    "f_name = input(\"Enter the filename: \")\n",
    "f_hand = open(f_name)\n",
    "\n",
    "count = 0\n",
    "\n",
    "for line in f_hand:\n",
    "    if line.startswith(\"X-DSPAM-Confidence: \"):\n",
    "        count = count + 1\n",
    "        line = line.split()\n",
    "        numbers = line[1]\n",
    "        numbers = float(numbers)\n",
    "        conf_list.append(numbers)\n",
    "total = sum(conf_list)\n",
    "average = total / count\n",
    "print(\"Average spam confidence: \", average)"
   ]
  },
  {
   "cell_type": "markdown",
   "metadata": {},
   "source": [
    "7.3\n",
    "Sometimes when programmers get bored or want to have a bit of fun, they add a harmless Easter Egg to their program. Modify the program that prompts the user for the file name so that it prints a funny message when the user types in the exact file name “na na boo boo”. The program should behave normally for all other files which exist and don’t exist."
   ]
  },
  {
   "cell_type": "code",
   "execution_count": 18,
   "metadata": {},
   "outputs": [
    {
     "name": "stdin",
     "output_type": "stream",
     "text": [
      "Enter the filename:  klfdjsalk\n"
     ]
    },
    {
     "ename": "FileNotFoundError",
     "evalue": "[Errno 2] No such file or directory: 'klfdjsalk'",
     "output_type": "error",
     "traceback": [
      "\u001b[0;31m---------------------------------------------------------------------------\u001b[0m",
      "\u001b[0;31mFileNotFoundError\u001b[0m                         Traceback (most recent call last)",
      "\u001b[0;32m<ipython-input-18-64d146d21360>\u001b[0m in \u001b[0;36m<module>\u001b[0;34m\u001b[0m\n\u001b[1;32m      3\u001b[0m     \u001b[0mprint\u001b[0m\u001b[0;34m(\u001b[0m\u001b[0;34m\"Na na na na na boo boo to you. You have been punked.\"\u001b[0m\u001b[0;34m)\u001b[0m\u001b[0;34m\u001b[0m\u001b[0;34m\u001b[0m\u001b[0m\n\u001b[1;32m      4\u001b[0m \u001b[0;32melse\u001b[0m\u001b[0;34m:\u001b[0m\u001b[0;34m\u001b[0m\u001b[0;34m\u001b[0m\u001b[0m\n\u001b[0;32m----> 5\u001b[0;31m     \u001b[0mf_hand\u001b[0m \u001b[0;34m=\u001b[0m \u001b[0mopen\u001b[0m\u001b[0;34m(\u001b[0m\u001b[0mfilename\u001b[0m\u001b[0;34m)\u001b[0m\u001b[0;34m\u001b[0m\u001b[0;34m\u001b[0m\u001b[0m\n\u001b[0m\u001b[1;32m      6\u001b[0m \u001b[0;34m\u001b[0m\u001b[0m\n\u001b[1;32m      7\u001b[0m     \u001b[0mcount\u001b[0m \u001b[0;34m=\u001b[0m \u001b[0;36m0\u001b[0m\u001b[0;34m\u001b[0m\u001b[0;34m\u001b[0m\u001b[0m\n",
      "\u001b[0;31mFileNotFoundError\u001b[0m: [Errno 2] No such file or directory: 'klfdjsalk'"
     ]
    }
   ],
   "source": [
    "filename = input(\"Enter the filename: \")\n",
    "if filename == 'na na boo boo':\n",
    "    print(\"Na na na na na boo boo to you. You have been punked.\")\n",
    "else:\n",
    "    f_hand = open(filename)\n",
    "\n",
    "    count = 0\n",
    "    conf_list = []\n",
    "\n",
    "    for line in f_hand:\n",
    "        if line.startswith(\"X-DSPAM-Confidence: \"):\n",
    "            count = count + 1\n",
    "            line = line.split()\n",
    "            numbers = line[1]\n",
    "            numbers = float(numbers)\n",
    "            conf_list.append(numbers)\n",
    "    total = sum(conf_list)\n",
    "    average = total / count\n",
    "    print(\"Average spam confidence: \", average)\n"
   ]
  },
  {
   "cell_type": "markdown",
   "metadata": {},
   "source": [
    "## Wordplay\n",
    "\n",
    "For every letter, print the word that uses that character the most. Hint: use two nested for loops. First one is\n",
    "\n",
    "```python\n",
    "for letter in 'abcdefghijklmnopqrstuvwxyz':\n",
    "    # do something\n",
    "```"
   ]
  },
  {
   "cell_type": "code",
   "execution_count": null,
   "metadata": {},
   "outputs": [],
   "source": []
  },
  {
   "cell_type": "markdown",
   "metadata": {},
   "source": [
    "Find the longest word where no character appears more than 1 time. (Hint: look up counters)"
   ]
  },
  {
   "cell_type": "code",
   "execution_count": null,
   "metadata": {},
   "outputs": [],
   "source": []
  },
  {
   "cell_type": "markdown",
   "metadata": {},
   "source": [
    "   \n",
    "Use Python to find one other interesting fact about the data set. Examples (that you can't use) might be:\n",
    "        One of the words that is tied for the most vowels is aquifoliaceous\n",
    "        The word with the highest consonant to vowel ratio is sulphhydryls"
   ]
  },
  {
   "cell_type": "code",
   "execution_count": null,
   "metadata": {},
   "outputs": [],
   "source": []
  }
 ],
 "metadata": {
  "kernelspec": {
   "display_name": "Python 3",
   "language": "python",
   "name": "python3"
  },
  "language_info": {
   "codemirror_mode": {
    "name": "ipython",
    "version": 3
   },
   "file_extension": ".py",
   "mimetype": "text/x-python",
   "name": "python",
   "nbconvert_exporter": "python",
   "pygments_lexer": "ipython3",
   "version": "3.8.8"
  }
 },
 "nbformat": 4,
 "nbformat_minor": 4
}
