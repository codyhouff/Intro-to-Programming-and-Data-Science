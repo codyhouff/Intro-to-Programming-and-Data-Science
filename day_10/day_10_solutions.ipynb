{
 "cells": [
  {
   "cell_type": "code",
   "execution_count": 1,
   "metadata": {},
   "outputs": [],
   "source": [
    "import requests\n",
    "from datetime import datetime\n",
    "import time\n",
    "import pandas as pd\n",
    "import seaborn as sns\n",
    "import pandas as pd\n",
    "import matplotlib.pyplot as plt"
   ]
  },
  {
   "cell_type": "code",
   "execution_count": 20,
   "metadata": {},
   "outputs": [],
   "source": [
    "sr = pd.read_csv('https://github.com/jdfoote/Intro-to-Programming-and-Data-Science/blob/fall2021/resources/data/sr_post_data.csv?raw=true')"
   ]
  },
  {
   "cell_type": "code",
   "execution_count": 21,
   "metadata": {},
   "outputs": [],
   "source": [
    "# Change the date to a datetime, and put it in the index\n",
    "sr.index = pd.to_datetime(sr.date)"
   ]
  },
  {
   "cell_type": "markdown",
   "metadata": {},
   "source": [
    "### EXERCISE 1\n",
    "\n",
    "Modify the code above to plot how often \"Coronavirus\" is used in each of the three subreddits over time"
   ]
  },
  {
   "cell_type": "code",
   "execution_count": 22,
   "metadata": {},
   "outputs": [
    {
     "data": {
      "text/html": [
       "<div>\n",
       "<style scoped>\n",
       "    .dataframe tbody tr th:only-of-type {\n",
       "        vertical-align: middle;\n",
       "    }\n",
       "\n",
       "    .dataframe tbody tr th {\n",
       "        vertical-align: top;\n",
       "    }\n",
       "\n",
       "    .dataframe thead th {\n",
       "        text-align: right;\n",
       "    }\n",
       "</style>\n",
       "<table border=\"1\" class=\"dataframe\">\n",
       "  <thead>\n",
       "    <tr style=\"text-align: right;\">\n",
       "      <th></th>\n",
       "      <th>title</th>\n",
       "      <th>selftext</th>\n",
       "      <th>date</th>\n",
       "      <th>subreddit</th>\n",
       "    </tr>\n",
       "    <tr>\n",
       "      <th>date</th>\n",
       "      <th></th>\n",
       "      <th></th>\n",
       "      <th></th>\n",
       "      <th></th>\n",
       "    </tr>\n",
       "  </thead>\n",
       "  <tbody>\n",
       "    <tr>\n",
       "      <th>2021-09-25 03:59:39</th>\n",
       "      <td>FALSE: US records 12,366 deaths due to COVID-1...</td>\n",
       "      <td>NaN</td>\n",
       "      <td>2021-09-25 03:59:39</td>\n",
       "      <td>Coronavirus</td>\n",
       "    </tr>\n",
       "    <tr>\n",
       "      <th>2021-09-25 03:55:12</th>\n",
       "      <td>Researchers who developed the mRNA technology ...</td>\n",
       "      <td>NaN</td>\n",
       "      <td>2021-09-25 03:55:12</td>\n",
       "      <td>Coronavirus</td>\n",
       "    </tr>\n",
       "    <tr>\n",
       "      <th>2021-09-25 02:51:33</th>\n",
       "      <td>The United States Completes Donation of 3.5 mi...</td>\n",
       "      <td>NaN</td>\n",
       "      <td>2021-09-25 02:51:33</td>\n",
       "      <td>Coronavirus</td>\n",
       "    </tr>\n",
       "    <tr>\n",
       "      <th>2021-09-25 02:25:46</th>\n",
       "      <td>When will the pandemic end? Models project a d...</td>\n",
       "      <td>NaN</td>\n",
       "      <td>2021-09-25 02:25:46</td>\n",
       "      <td>Coronavirus</td>\n",
       "    </tr>\n",
       "    <tr>\n",
       "      <th>2021-09-25 01:55:31</th>\n",
       "      <td>Thousands of teachers may be forced out of NYC...</td>\n",
       "      <td>NaN</td>\n",
       "      <td>2021-09-25 01:55:31</td>\n",
       "      <td>Coronavirus</td>\n",
       "    </tr>\n",
       "  </tbody>\n",
       "</table>\n",
       "</div>"
      ],
      "text/plain": [
       "                                                                 title  \\\n",
       "date                                                                     \n",
       "2021-09-25 03:59:39  FALSE: US records 12,366 deaths due to COVID-1...   \n",
       "2021-09-25 03:55:12  Researchers who developed the mRNA technology ...   \n",
       "2021-09-25 02:51:33  The United States Completes Donation of 3.5 mi...   \n",
       "2021-09-25 02:25:46  When will the pandemic end? Models project a d...   \n",
       "2021-09-25 01:55:31  Thousands of teachers may be forced out of NYC...   \n",
       "\n",
       "                    selftext                 date    subreddit  \n",
       "date                                                            \n",
       "2021-09-25 03:59:39      NaN  2021-09-25 03:59:39  Coronavirus  \n",
       "2021-09-25 03:55:12      NaN  2021-09-25 03:55:12  Coronavirus  \n",
       "2021-09-25 02:51:33      NaN  2021-09-25 02:51:33  Coronavirus  \n",
       "2021-09-25 02:25:46      NaN  2021-09-25 02:25:46  Coronavirus  \n",
       "2021-09-25 01:55:31      NaN  2021-09-25 01:55:31  Coronavirus  "
      ]
     },
     "execution_count": 22,
     "metadata": {},
     "output_type": "execute_result"
    }
   ],
   "source": [
    "sr.head()"
   ]
  },
  {
   "cell_type": "code",
   "execution_count": 23,
   "metadata": {},
   "outputs": [
    {
     "data": {
      "text/plain": [
       "array(['Coronavirus', 'politics', 'aww'], dtype=object)"
      ]
     },
     "execution_count": 23,
     "metadata": {},
     "output_type": "execute_result"
    }
   ],
   "source": [
    "sr.subreddit.unique()"
   ]
  },
  {
   "cell_type": "code",
   "execution_count": 57,
   "metadata": {},
   "outputs": [
    {
     "data": {
      "image/png": "[encoded data removed]",
      "text/plain": [
       "<Figure size 432x288 with 1 Axes>"
      ]
     },
     "metadata": {
      "needs_background": "light"
     },
     "output_type": "display_data"
    }
   ],
   "source": [
    "subreddits = ['Coronavirus', 'politics', 'aww']\n",
    "term = 'is'\n",
    "for subreddit in sr.subreddit.unique():\n",
    "    curr_df = sr.loc[sr.subreddit == subreddit, ['title', 'selftext']]\n",
    "    curr_df = curr_df.loc[curr_df.title.str.contains(term) | curr_df.selftext.str.contains(term), ]\n",
    "    #print(curr_df)\n",
    "    posts_per_day = curr_df.resample('D').size()\n",
    "    #print(posts_per_day)\n",
    "    try:\n",
    "        posts_per_day.plot(label = subreddit)\n",
    "    except ValueError:\n",
    "        continue\n",
    "\n",
    "plt.legend()\n",
    "plt.show()"
   ]
  },
  {
   "cell_type": "markdown",
   "metadata": {},
   "source": [
    "### EXERCISE 2\n",
    "\n",
    "One of the trickiest parts of analysis is getting the data in the form that you want it in order to analyze/visualize it. \n",
    "\n",
    "I think a good visualization for this would be a barplot showing how often male and female word types appear for each subreddit. I'll give you the final call to produce the plot:\n",
    "\n",
    "`sns.barplot(x='subreddit', y='proportion', hue = 'word_gender', data = agg_df_long)`\n",
    "\n",
    "Now, see if you can get the data in shape so that this code actually works! :)\n",
    "\n",
    "*Hint: You'll want to use [wide to long](https://pandas.pydata.org/pandas-docs/stable/reference/api/pandas.wide_to_long.html)*"
   ]
  },
  {
   "cell_type": "code",
   "execution_count": null,
   "metadata": {},
   "outputs": [],
   "source": []
  },
  {
   "cell_type": "code",
   "execution_count": 125,
   "metadata": {},
   "outputs": [],
   "source": [
    "def get_words_ratio(strings):\n",
    "    result = {}\n",
    "    for name, group in sr.groupby('subreddit').all_text:\n",
    "        result[name] = {'matches':0, 'all_words': 0}\n",
    "        for s in group:\n",
    "            text_list = s.split()\n",
    "            for string in strings:\n",
    "                result[name]['matches'] += text_list.count(string)\n",
    "            result[name]['all_words'] += len(text_list)\n",
    "    final_result = {}\n",
    "    for name, values in result.items():\n",
    "        final_result[name] = values['matches'] / values['all_words']\n",
    "    return final_result\n",
    "        "
   ]
  },
  {
   "cell_type": "code",
   "execution_count": 126,
   "metadata": {},
   "outputs": [
    {
     "data": {
      "text/plain": [
       "{'Coronavirus': 0.0018737557090994263,\n",
       " 'aww': 0.011129173440040016,\n",
       " 'politics': 0.003949948899262492}"
      ]
     },
     "execution_count": 126,
     "metadata": {},
     "output_type": "execute_result"
    }
   ],
   "source": [
    "get_words_ratio(['he', 'his'])"
   ]
  },
  {
   "cell_type": "code",
   "execution_count": 98,
   "metadata": {},
   "outputs": [],
   "source": [
    "sr.loc[(pd.isna(sr.selftext)) | (sr.selftext.isin(['[removed]', '[deleted]'])), 'selftext'] = ''\n",
    "sr['all_text'] = sr.title + ' ' + sr.selftext\n",
    "\n",
    "male_words = ['he', 'his']\n",
    "female_words = ['she', 'hers']\n",
    "\n",
    "# This puts all of the text of each subreddit into lists\n",
    "def string_to_list(x):\n",
    "   # print(' '.join(x))\n",
    "    return ' '.join(x).split()\n",
    "grouped_text = sr.groupby('subreddit').all_text.apply(string_to_list)\n",
    "\n",
    "# Then, we count how often each type of words appears in each subreddit\n",
    "agg = grouped_text.aggregate({'proportionMale': lambda x: sum([x.count(y) for y in male_words])/len(x),\n",
    "                        'proportionFemale': lambda x: sum([x.count(y) for y in female_words])/len(x)}\n",
    "                        )"
   ]
  },
  {
   "cell_type": "code",
   "execution_count": 109,
   "metadata": {},
   "outputs": [
    {
     "data": {
      "text/plain": [
       "                  subreddit  \n",
       "proportionMale    Coronavirus    0.001874\n",
       "                  aww            0.011129\n",
       "                  politics       0.003950\n",
       "proportionFemale  Coronavirus    0.000234\n",
       "                  aww            0.003251\n",
       "                  politics       0.000525\n",
       "Name: all_text, dtype: float64"
      ]
     },
     "execution_count": 109,
     "metadata": {},
     "output_type": "execute_result"
    }
   ],
   "source": [
    "agg"
   ]
  },
  {
   "cell_type": "code",
   "execution_count": 107,
   "metadata": {},
   "outputs": [],
   "source": [
    "agg_df = agg.unstack(level=0)\n",
    "agg_df = agg_df.reset_index()\n",
    "\n",
    "agg_df_long = pd.wide_to_long(agg_df, # The data\n",
    "                # The prefixes for the data columns. These will become column names that hold data values.\n",
    "                stubnames = 'proportion', \n",
    "                # i is a column which uniquely identifies each row\n",
    "                i='subreddit',\n",
    "                # j is what you want to call the prefix\n",
    "                j='word_gender',\n",
    "                # sep is a string that is between the stubnames and the values which will go in j\n",
    "                sep='',\n",
    "                suffix = '\\w+'\n",
    "               )\n",
    "\n",
    "agg_df_long = agg_df_long.reset_index()\n"
   ]
  },
  {
   "cell_type": "code",
   "execution_count": 108,
   "metadata": {},
   "outputs": [
    {
     "data": {
      "text/plain": [
       "<AxesSubplot:xlabel='subreddit', ylabel='proportion'>"
      ]
     },
     "execution_count": 108,
     "metadata": {},
     "output_type": "execute_result"
    },
    {
     "data": {
      "image/png": "[encoded data removed]",
      "text/plain": [
       "<Figure size 432x288 with 1 Axes>"
      ]
     },
     "metadata": {
      "needs_background": "light"
     },
     "output_type": "display_data"
    }
   ],
   "source": [
    "sns.barplot(x='subreddit', y='proportion', hue = 'word_gender', data = agg_df_long)"
   ]
  },
  {
   "cell_type": "markdown",
   "metadata": {},
   "source": [
    "### EXERCISE 3\n",
    "\n",
    "Make your own analysis, with a different set of terms"
   ]
  },
  {
   "cell_type": "code",
   "execution_count": null,
   "metadata": {},
   "outputs": [],
   "source": []
  },
  {
   "cell_type": "markdown",
   "metadata": {},
   "source": [
    "### EXERCISE 4\n",
    "\n",
    "Where topic modeling really shines is in analyzing longer texts - for example, the subreddit [changemyview](https://www.reddit.com/r/changemyview/) has fairly long posts where people explain a controversial view that they hold.\n",
    "\n",
    "Try to figure out how to get a few hundred posts from changemyview, and run a topic model on them, where the selftext of each post is a document."
   ]
  },
  {
   "cell_type": "code",
   "execution_count": 49,
   "metadata": {},
   "outputs": [
    {
     "name": "stdout",
     "output_type": "stream",
     "text": [
      "https://api.pushshift.io/reddit/search/submission?subreddit=changemyview&num_comments=%3E20&before=1585108800&size=500\n",
      "2020-03-25 00:00:00\n",
      "https://api.pushshift.io/reddit/search/submission?subreddit=changemyview&num_comments=%3E20&before=1584813062&size=500\n",
      "2020-03-21 13:51:02\n",
      "https://api.pushshift.io/reddit/search/submission?subreddit=changemyview&num_comments=%3E20&before=1584507012&size=500\n",
      "2020-03-18 00:50:12\n",
      "https://api.pushshift.io/reddit/search/submission?subreddit=changemyview&num_comments=%3E20&before=1584262715&size=500\n",
      "2020-03-15 04:58:35\n",
      "https://api.pushshift.io/reddit/search/submission?subreddit=changemyview&num_comments=%3E20&before=1583974710&size=500\n",
      "2020-03-11 20:58:30\n",
      "457\n"
     ]
    }
   ],
   "source": [
    "## Code used to create the dataset - no need to run this code\n",
    "\n",
    "endpt = 'https://api.pushshift.io/reddit/search/submission'\n",
    "\n",
    "subreddits = ['changemyview']\n",
    "\n",
    "# Start and end date (pushshift expects these in epoch time)\n",
    "start_date = int(datetime.strptime('2020-03-11', '%Y-%m-%d').timestamp())\n",
    "end_date = int(datetime.strptime('2020-03-25', '%Y-%m-%d').timestamp())\n",
    "\n",
    "\n",
    "def get_posts(subreddit, before = end_date, after = start_date, result = None,  min_comments = 20):\n",
    "    params = {'subreddit': subreddit,\n",
    "              'num_comments': f'>{min_comments}',\n",
    "              'before': before,\n",
    "              'size': 500\n",
    "             }\n",
    "    if result == None:\n",
    "        result = []\n",
    "    r = requests.get(endpt, params=params)\n",
    "    print(r.url)\n",
    "    print(datetime.fromtimestamp(before))\n",
    "    for item in r.json()['data']:\n",
    "        created_time = item['created_utc']\n",
    "        if created_time < after: # If we've reached the earliest we want, then return\n",
    "            print(len(result))\n",
    "            return result\n",
    "        else:\n",
    "            try:\n",
    "                result.append((item['title'],item['selftext'], created_time, subreddit))\n",
    "            except KeyError:\n",
    "                print(item)\n",
    "    time.sleep(.5)\n",
    "    return get_posts(subreddit, before = created_time, result = result)\n",
    "\n",
    "\n",
    "sr_data = []\n",
    "for subreddit in subreddits:\n",
    "    new_data = get_posts(subreddit)\n",
    "    sr_data = sr_data + new_data\n",
    "sr = pd.DataFrame(sr_data, columns = ['title', 'selftext', 'date', 'subreddit'])\n",
    "sr.date = pd.to_datetime(sr.date, unit='s')\n",
    "sr.to_csv('./change_my_view.csv', index = False)"
   ]
  },
  {
   "cell_type": "code",
   "execution_count": 53,
   "metadata": {},
   "outputs": [
    {
     "name": "stdout",
     "output_type": "stream",
     "text": [
      "Loading dataset...\n",
      "done in 0.000s.\n",
      "Extracting tf features for LDA...\n",
      "done in 0.412s.\n",
      "Fitting LDA models with tf features, n_samples=457 and n_features=20000...\n",
      "done in 6.003s.\n",
      "Topics by how common each topic is:\n",
      "          1          3                      5                  7  \\\n",
      "0    people       time                removed           officers   \n",
      "1      like  marijuana                   like        enforcement   \n",
      "2       don     people                  karma  \"police officers\"   \n",
      "3      just       just                 people  \"law enforcement\"   \n",
      "4     think        amp                    don             people   \n",
      "5      want     states                   just             police   \n",
      "6      time       jews                   subs               acab   \n",
      "7      make       does        \"posts removed\"              think   \n",
      "8       way      exist  \"removed immediately\"           bastards   \n",
      "9   believe      think          \"account age\"               like   \n",
      "10     life      water     \"original content\"                don   \n",
      "11    https       drug         \"content subs\"               bath   \n",
      "12     know       life            \"age karma\"               cops   \n",
      "13   really     jewish            restriction               just   \n",
      "14    women     better                   post                law   \n",
      "15     need   venusaur                account             really   \n",
      "16     good        don                  posts               tubs   \n",
      "17      say       pass                   time                 ve   \n",
      "18   person        say                content          statement   \n",
      "19    right   academic            immediately             reform   \n",
      "\n",
      "                      4                     0                  2  \\\n",
      "0                 lenin               celcius             humans   \n",
      "1                  marx           temperature         chromosome   \n",
      "2              theodore                people            females   \n",
      "3                peeing            fahrenheit               like   \n",
      "4             roosevelt                 prize               just   \n",
      "5       \"america worst\"              cheating              genes   \n",
      "6                   pee                 ruins            crucial   \n",
      "7           proletariat                   don             people   \n",
      "8               marxism                  just            genetic   \n",
      "9             plekhanov                   hot              lenin   \n",
      "10        revolutionary      \"cheating ruins\"                don   \n",
      "11                 like              decimals      \"non crucial\"   \n",
      "12     \"peeing outside\"                better              think   \n",
      "13  \"hygienic possible\"                  like               game   \n",
      "14   \"cult personality\"             intuitive        compromised   \n",
      "15               stalin  \"fahrenheit celcius\"  \"breasts ovaries\"   \n",
      "16             hygienic            \"ll teach\"              males   \n",
      "17  \"roosevelt america\"                  cold                way   \n",
      "18           revolution               cooking             sperms   \n",
      "19              buddies   \"partner beginning\"              human   \n",
      "\n",
      "                      9                       6                   8  \n",
      "0              engineer                  permit                knee  \n",
      "1                  dick                   carry   \"community based\"  \n",
      "2                people                  people              people  \n",
      "3               rounded               concealed            programs  \n",
      "4              negative          \"carry permit\"           arthritis  \n",
      "5                  life       \"concealed carry\"    \"based programs\"  \n",
      "6           \"suck dick\"                 firearm                like  \n",
      "7                person      \"background check\"           healthier  \n",
      "8                  like                     gun         \"knee pain\"  \n",
      "9                  suck                 federal     \"eat healthier\"  \n",
      "10           philosophy               marijuana            tailored  \n",
      "11               things    \"federal government\"                just  \n",
      "12           experience              background                peer  \n",
      "13             nobility      \"permit displayed\"       \"black women\"  \n",
      "14                child                  states                 don  \n",
      "15         \"needs able\"        \"permit require\"        \"based peer\"  \n",
      "16                think  \"universal background\"           community  \n",
      "17  \"philosophy worked\"     \"permits currently\"               women  \n",
      "18                  poe                   check  \"support programs\"  \n",
      "19          \"poe raven\"          \"permit taken\"                make  \n",
      "Distributions of topic for each subreddit\n",
      "            1         3         5         7         4         0         2  \\\n",
      "0    0.985483  0.001613  0.001613  0.001613  0.001613  0.001613  0.001613   \n",
      "1    0.994410  0.000621  0.000621  0.000621  0.000621  0.000621  0.000621   \n",
      "2    0.981998  0.002000  0.002000  0.002000  0.002000  0.002000  0.002000   \n",
      "3    0.988749  0.001250  0.001250  0.001250  0.001250  0.001250  0.001250   \n",
      "4    0.992105  0.000877  0.000877  0.000877  0.000877  0.000877  0.000877   \n",
      "..        ...       ...       ...       ...       ...       ...       ...   \n",
      "452  0.992800  0.000800  0.000800  0.000800  0.000800  0.000800  0.000800   \n",
      "453  0.996667  0.000370  0.000370  0.000370  0.000370  0.000370  0.000370   \n",
      "454  0.988461  0.001282  0.001282  0.001282  0.001282  0.001282  0.001282   \n",
      "455  0.996018  0.000443  0.000442  0.000442  0.000442  0.000442  0.000442   \n",
      "456  0.993706  0.000699  0.000699  0.000699  0.000699  0.000699  0.000699   \n",
      "\n",
      "            9         6         8  \n",
      "0    0.001613  0.001613  0.001613  \n",
      "1    0.000621  0.000621  0.000621  \n",
      "2    0.002000  0.002000  0.002000  \n",
      "3    0.001250  0.001250  0.001250  \n",
      "4    0.000877  0.000877  0.000877  \n",
      "..        ...       ...       ...  \n",
      "452  0.000800  0.000800  0.000800  \n",
      "453  0.000370  0.000370  0.000370  \n",
      "454  0.001282  0.001282  0.001282  \n",
      "455  0.000442  0.000442  0.000442  \n",
      "456  0.000699  0.000699  0.000699  \n",
      "\n",
      "[457 rows x 10 columns]\n"
     ]
    }
   ],
   "source": [
    "dataset = sr.selftext\n",
    "run_lda(dataset)"
   ]
  }
 ],
 "metadata": {
  "kernelspec": {
   "display_name": "Python 3",
   "language": "python",
   "name": "python3"
  },
  "language_info": {
   "codemirror_mode": {
    "name": "ipython",
    "version": 3
   },
   "file_extension": ".py",
   "mimetype": "text/x-python",
   "name": "python",
   "nbconvert_exporter": "python",
   "pygments_lexer": "ipython3",
   "version": "3.8.8"
  }
 },
 "nbformat": 4,
 "nbformat_minor": 4
}
