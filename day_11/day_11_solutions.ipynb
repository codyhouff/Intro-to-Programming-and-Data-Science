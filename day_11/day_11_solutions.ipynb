{
 "cells": [
  {
   "cell_type": "markdown",
   "metadata": {},
   "source": [
    "# Data cleaning and operationalization\n",
    "\n",
    "I'm going to introduce a dataset of vehicle crashes in Indiana, show how to import it into pandas, and give examples of a few ways of exploring this data.\n",
    "\n",
    "**Download the data from [here](https://github.com/jdfoote/Intro-to-Programming-and-Data-Science/blob/master/resources/data/aries_crash_data_2018_filtered.csv?raw=true)**. I created this CSV file from [this full dataset](https://hub.mph.in.gov/dataset/aries-crash-data-2007-2017/resource/cc90589c-72d8-4d92-a5fe-73254b555c73) by filtering out many of the columns to make it small enough to easily fit in memory.\n",
    "\n",
    "A description of the columns is [here](https://hub.mph.in.gov/dataset/aries-crash-data-2007-2017/resource/f61a5dcb-5ca3-485a-9ecf-cd3d8740dc9b?inner_span=True).\n",
    "\n",
    "Then, I want you to form groups of 2-4 where you identify a hypothesis about this data, brainstorm a visualization or set of visualizations that would give you insight into your hypothesis, and then try to create that visualization in Python."
   ]
  },
  {
   "cell_type": "code",
   "execution_count": 1,
   "metadata": {},
   "outputs": [],
   "source": [
    "import pandas as pd\n",
    "import matplotlib.pyplot as plt\n",
    "import seaborn as sns"
   ]
  },
  {
   "cell_type": "code",
   "execution_count": 2,
   "metadata": {},
   "outputs": [],
   "source": [
    "# This code downloads the CSV every time it's run.\n",
    "# Instead, you may want to download the CSV to your computer, and load it from there\n",
    "# You can use the same code, just change the path to where you download it\n",
    "raw_df = pd.read_csv('https://github.com/jdfoote/Intro-to-Programming-and-Data-Science/blob/master/resources/data/aries_crash_data_2018_filtered.csv?raw=true')"
   ]
  },
  {
   "cell_type": "code",
   "execution_count": 3,
   "metadata": {},
   "outputs": [],
   "source": [
    "raw_df = raw_df[raw_df.PERSONTYPEDESCR != 'Owner Vehicle']"
   ]
  },
  {
   "cell_type": "code",
   "execution_count": 4,
   "metadata": {},
   "outputs": [
    {
     "data": {
      "text/plain": [
       "0"
      ]
     },
     "execution_count": 4,
     "metadata": {},
     "output_type": "execute_result"
    }
   ],
   "source": [
    "grouped = raw_df.sort_values(['COLLDTE', 'COLLISION_TIME']).groupby(\"INDIVIDUAL_MR_RECORD\")\n",
    "\n",
    "# For example, this is a simple test of the number of unique weather descriptions per group.\n",
    "sum(grouped.WEATHERDESCR.nunique() > 1)"
   ]
  },
  {
   "cell_type": "code",
   "execution_count": 5,
   "metadata": {},
   "outputs": [
    {
     "data": {
      "text/html": [
       "<div>\n",
       "<style scoped>\n",
       "    .dataframe tbody tr th:only-of-type {\n",
       "        vertical-align: middle;\n",
       "    }\n",
       "\n",
       "    .dataframe tbody tr th {\n",
       "        vertical-align: top;\n",
       "    }\n",
       "\n",
       "    .dataframe thead th {\n",
       "        text-align: right;\n",
       "    }\n",
       "</style>\n",
       "<table border=\"1\" class=\"dataframe\">\n",
       "  <thead>\n",
       "    <tr style=\"text-align: right;\">\n",
       "      <th></th>\n",
       "      <th>date</th>\n",
       "      <th>time</th>\n",
       "      <th>injured</th>\n",
       "      <th>deceased</th>\n",
       "      <th>weather</th>\n",
       "      <th>accident_count</th>\n",
       "    </tr>\n",
       "    <tr>\n",
       "      <th>INDIVIDUAL_MR_RECORD</th>\n",
       "      <th></th>\n",
       "      <th></th>\n",
       "      <th></th>\n",
       "      <th></th>\n",
       "      <th></th>\n",
       "      <th></th>\n",
       "    </tr>\n",
       "  </thead>\n",
       "  <tbody>\n",
       "    <tr>\n",
       "      <th>903070479</th>\n",
       "      <td>2018-01-01</td>\n",
       "      <td>12:03AM</td>\n",
       "      <td>3.0</td>\n",
       "      <td>0.0</td>\n",
       "      <td>Cloudy</td>\n",
       "      <td>1</td>\n",
       "    </tr>\n",
       "    <tr>\n",
       "      <th>903070487</th>\n",
       "      <td>2018-01-01</td>\n",
       "      <td>12:48AM</td>\n",
       "      <td>0.0</td>\n",
       "      <td>0.0</td>\n",
       "      <td>Snow</td>\n",
       "      <td>1</td>\n",
       "    </tr>\n",
       "    <tr>\n",
       "      <th>903070491</th>\n",
       "      <td>2018-01-01</td>\n",
       "      <td>12:57AM</td>\n",
       "      <td>0.0</td>\n",
       "      <td>0.0</td>\n",
       "      <td>Clear</td>\n",
       "      <td>1</td>\n",
       "    </tr>\n",
       "    <tr>\n",
       "      <th>903070495</th>\n",
       "      <td>2018-01-01</td>\n",
       "      <td>12:45AM</td>\n",
       "      <td>0.0</td>\n",
       "      <td>0.0</td>\n",
       "      <td>Snow</td>\n",
       "      <td>1</td>\n",
       "    </tr>\n",
       "    <tr>\n",
       "      <th>903070497</th>\n",
       "      <td>2018-01-01</td>\n",
       "      <td>12:26AM</td>\n",
       "      <td>0.0</td>\n",
       "      <td>0.0</td>\n",
       "      <td>Snow</td>\n",
       "      <td>1</td>\n",
       "    </tr>\n",
       "    <tr>\n",
       "      <th>...</th>\n",
       "      <td>...</td>\n",
       "      <td>...</td>\n",
       "      <td>...</td>\n",
       "      <td>...</td>\n",
       "      <td>...</td>\n",
       "      <td>...</td>\n",
       "    </tr>\n",
       "    <tr>\n",
       "      <th>903377525</th>\n",
       "      <td>2018-12-26</td>\n",
       "      <td>03:02PM</td>\n",
       "      <td>0.0</td>\n",
       "      <td>0.0</td>\n",
       "      <td>Clear</td>\n",
       "      <td>1</td>\n",
       "    </tr>\n",
       "    <tr>\n",
       "      <th>903377671</th>\n",
       "      <td>2018-12-27</td>\n",
       "      <td>09:45PM</td>\n",
       "      <td>0.0</td>\n",
       "      <td>0.0</td>\n",
       "      <td>Cloudy</td>\n",
       "      <td>1</td>\n",
       "    </tr>\n",
       "    <tr>\n",
       "      <th>903384692</th>\n",
       "      <td>2018-12-31</td>\n",
       "      <td>05:57PM</td>\n",
       "      <td>0.0</td>\n",
       "      <td>0.0</td>\n",
       "      <td>Snow</td>\n",
       "      <td>1</td>\n",
       "    </tr>\n",
       "    <tr>\n",
       "      <th>903395728</th>\n",
       "      <td>2018-12-25</td>\n",
       "      <td>05:46PM</td>\n",
       "      <td>1.0</td>\n",
       "      <td>0.0</td>\n",
       "      <td>Cloudy</td>\n",
       "      <td>1</td>\n",
       "    </tr>\n",
       "    <tr>\n",
       "      <th>903401646</th>\n",
       "      <td>2018-12-26</td>\n",
       "      <td>02:08PM</td>\n",
       "      <td>0.0</td>\n",
       "      <td>0.0</td>\n",
       "      <td>Clear</td>\n",
       "      <td>1</td>\n",
       "    </tr>\n",
       "  </tbody>\n",
       "</table>\n",
       "<p>214019 rows × 6 columns</p>\n",
       "</div>"
      ],
      "text/plain": [
       "                            date     time  injured  deceased weather  \\\n",
       "INDIVIDUAL_MR_RECORD                                                   \n",
       "903070479             2018-01-01  12:03AM      3.0       0.0  Cloudy   \n",
       "903070487             2018-01-01  12:48AM      0.0       0.0    Snow   \n",
       "903070491             2018-01-01  12:57AM      0.0       0.0   Clear   \n",
       "903070495             2018-01-01  12:45AM      0.0       0.0    Snow   \n",
       "903070497             2018-01-01  12:26AM      0.0       0.0    Snow   \n",
       "...                          ...      ...      ...       ...     ...   \n",
       "903377525             2018-12-26  03:02PM      0.0       0.0   Clear   \n",
       "903377671             2018-12-27  09:45PM      0.0       0.0  Cloudy   \n",
       "903384692             2018-12-31  05:57PM      0.0       0.0    Snow   \n",
       "903395728             2018-12-25  05:46PM      1.0       0.0  Cloudy   \n",
       "903401646             2018-12-26  02:08PM      0.0       0.0   Clear   \n",
       "\n",
       "                      accident_count  \n",
       "INDIVIDUAL_MR_RECORD                  \n",
       "903070479                          1  \n",
       "903070487                          1  \n",
       "903070491                          1  \n",
       "903070495                          1  \n",
       "903070497                          1  \n",
       "...                              ...  \n",
       "903377525                          1  \n",
       "903377671                          1  \n",
       "903384692                          1  \n",
       "903395728                          1  \n",
       "903401646                          1  \n",
       "\n",
       "[214019 rows x 6 columns]"
      ]
     },
     "execution_count": 5,
     "metadata": {},
     "output_type": "execute_result"
    }
   ],
   "source": [
    "# Get the first entry for each of these\n",
    "coll_df = pd.DataFrame({\"date\" : grouped.COLLDTE.first(),\n",
    "                        \"time\": grouped.COLLISION_TIME.first() + grouped.COLLISION_TIME_AM_PM.first(), \n",
    "                        \"injured\": grouped.INJUREDNMB.first(),\n",
    "                        \"deceased\": grouped.DEADNMB.first(),\n",
    "                        \"weather\": grouped.WEATHERDESCR.first(),\n",
    "                        \"accident_count\": 1\n",
    "                       })\n",
    "\n",
    "coll_df"
   ]
  },
  {
   "cell_type": "code",
   "execution_count": 8,
   "metadata": {},
   "outputs": [],
   "source": [
    "coll_df.index = pd.to_datetime(coll_df.date + ' ' + coll_df.time)"
   ]
  },
  {
   "cell_type": "code",
   "execution_count": 9,
   "metadata": {},
   "outputs": [],
   "source": [
    "def get_mode(x):\n",
    "    return x.mode()"
   ]
  },
  {
   "cell_type": "code",
   "execution_count": 10,
   "metadata": {},
   "outputs": [],
   "source": [
    "accidents_per_day = coll_df.groupby(coll_df.index.date).agg(\n",
    "    # Create a new column called weather which gets the modal weather for each day\n",
    "    weather = ('weather', get_mode),\n",
    "    # And accidents which is the number of accidents that day\n",
    "    accidents = ('accident_count', sum))"
   ]
  },
  {
   "cell_type": "code",
   "execution_count": 11,
   "metadata": {},
   "outputs": [
    {
     "data": {
      "image/png": "[encoded data removed]",
      "text/plain": [
       "<Figure size 432x288 with 1 Axes>"
      ]
     },
     "metadata": {
      "needs_background": "light"
     },
     "output_type": "display_data"
    }
   ],
   "source": [
    "accidents_per_day.groupby('weather').accidents.mean().plot.bar();\n",
    "plt.title('Mean accidents per day for each weather type');"
   ]
  },
  {
   "cell_type": "markdown",
   "metadata": {},
   "source": [
    "## Exercises\n",
    "\n",
    "1. How would you create the above plot in Seaborn instead?"
   ]
  },
  {
   "cell_type": "code",
   "execution_count": 16,
   "metadata": {},
   "outputs": [
    {
     "ename": "AttributeError",
     "evalue": "'FacetGrid' object has no attribute 'xticks'",
     "output_type": "error",
     "traceback": [
      "\u001b[0;31m---------------------------------------------------------------------------\u001b[0m",
      "\u001b[0;31mAttributeError\u001b[0m                            Traceback (most recent call last)",
      "\u001b[0;32m<ipython-input-16-96600d0c4a09>\u001b[0m in \u001b[0;36m<module>\u001b[0;34m\u001b[0m\n\u001b[1;32m      5\u001b[0m     \u001b[0mx\u001b[0m\u001b[0;34m=\u001b[0m\u001b[0;34m\"weather\"\u001b[0m\u001b[0;34m,\u001b[0m \u001b[0my\u001b[0m\u001b[0;34m=\u001b[0m\u001b[0;34m\"accidents\"\u001b[0m\u001b[0;34m,\u001b[0m \u001b[0;31m#hue=\"sex\",\u001b[0m\u001b[0;34m\u001b[0m\u001b[0;34m\u001b[0m\u001b[0m\n\u001b[1;32m      6\u001b[0m     palette=\"viridis\", height=6, aspect=11/8);\n\u001b[0;32m----> 7\u001b[0;31m \u001b[0mg\u001b[0m\u001b[0;34m.\u001b[0m\u001b[0mxticks\u001b[0m\u001b[0;34m(\u001b[0m\u001b[0mrotation\u001b[0m\u001b[0;34m=\u001b[0m\u001b[0;36m45\u001b[0m\u001b[0;34m)\u001b[0m\u001b[0;34m;\u001b[0m\u001b[0;34m\u001b[0m\u001b[0;34m\u001b[0m\u001b[0m\n\u001b[0m",
      "\u001b[0;31mAttributeError\u001b[0m: 'FacetGrid' object has no attribute 'xticks'"
     ]
    },
    {
     "data": {
      "image/png": "[encoded data removed]",
      "text/plain": [
       "<Figure size 594x432 with 1 Axes>"
      ]
     },
     "metadata": {},
     "output_type": "display_data"
    }
   ],
   "source": [
    "sns.set_style(\"ticks\")\n",
    "accidents_per_day.head()\n",
    "\n",
    "sns.catplot(data=accidents_per_day, kind=\"bar\",\n",
    "    x=\"weather\", y=\"accidents\", #hue=\"sex\",\n",
    "    palette=\"viridis\", height=6, aspect=11/8);\n",
    "xticks(rotation=45);"
   ]
  },
  {
   "cell_type": "markdown",
   "metadata": {},
   "source": [
    "2. Find a question that you'd like to answer with this data or the reddit data. Figure out how to filter/clean/group the data to produce the summary data that will help you to find that answer, and produce a visualization."
   ]
  },
  {
   "cell_type": "code",
   "execution_count": 17,
   "metadata": {},
   "outputs": [],
   "source": [
    "raw_df = raw_df[raw_df.PERSONTYPEDESCR == 'Driver']\n",
    "grouped = raw_df.sort_values(['COLLDTE', 'COLLISION_TIME']).groupby(\"INDIVIDUAL_MR_RECORD\")"
   ]
  },
  {
   "cell_type": "code",
   "execution_count": 18,
   "metadata": {},
   "outputs": [
    {
     "data": {
      "text/plain": [
       "Text(0.5, 1.0, 'Female')"
      ]
     },
     "execution_count": 18,
     "metadata": {},
     "output_type": "execute_result"
    },
    {
     "data": {
      "image/png": "[encoded data removed]",
      "text/plain": [
       "<Figure size 1440x504 with 2 Axes>"
      ]
     },
     "metadata": {},
     "output_type": "display_data"
    }
   ],
   "source": [
    "time_df = pd.DataFrame({\"date\" : raw_df.COLLDTE,\n",
    "                        \"time\": raw_df.COLLISION_TIME + raw_df.COLLISION_TIME_AM_PM, \n",
    "                        \"injured\": raw_df.INJUREDNMB,\n",
    "                        \"deceased\": raw_df.DEADNMB,\n",
    "                        \"weather\": raw_df.WEATHERDESCR,\n",
    "                        \"age\": raw_df.AGE_GRP,\n",
    "                        \"gender\": raw_df.GENDERCDE,\n",
    "                        \"accident_count\": 1,\n",
    "                        \"driver\" : raw_df.PERSONTYPEDESCR\n",
    "                       }) #our dataframe\n",
    "time_df.index = pd.to_datetime(time_df.date + ' ' + time_df.time)\n",
    "\n",
    "m_time_df = time_df[time_df.gender == 'M']\n",
    "f_time_df = time_df[time_df.gender == 'F']\n",
    "\n",
    "m_accidents_per_time = pd.DataFrame({'time' : [], 'accidents' : [], 'gender' : []})\n",
    "time_count = 0\n",
    "time = []\n",
    "accidents = []\n",
    "gender = []\n",
    "\n",
    "acc_per_time = m_time_df.groupby(m_time_df.index.hour).accident_count.sum()\n",
    "for acc in acc_per_time:\n",
    "    time.append(time_count)\n",
    "    accidents.append(acc)\n",
    "    gender.append('M')\n",
    "    time_count = time_count + 1\n",
    "m_accidents_per_time['time'] = time\n",
    "m_accidents_per_time['accidents'] = accidents\n",
    "m_accidents_per_time['gender'] = gender\n",
    "\n",
    "f_accidents_per_time = pd.DataFrame({'time' : [], 'accidents' : [], 'gender' : []})\n",
    "time_count = 0\n",
    "time = []\n",
    "accidents = []\n",
    "gender = []\n",
    "f_acc_per_time = f_time_df.groupby(f_time_df.index.hour).accident_count.sum()\n",
    "for acc in f_acc_per_time:\n",
    "    time.append(time_count)\n",
    "    accidents.append(acc)\n",
    "    gender.append('F')\n",
    "    time_count = time_count + 1\n",
    "f_accidents_per_time['time'] = time\n",
    "f_accidents_per_time['accidents'] = accidents\n",
    "f_accidents_per_time['gender'] = gender\n",
    "\n",
    "fig, axes = plt.subplots(1, 2, sharey=True, figsize=(20, 7))\n",
    "fig.suptitle(\"Mean accidents per each hour\")\n",
    "\n",
    "sns.barplot(ax=axes[0], x='time', y='accidents', data = m_accidents_per_time)\n",
    "axes[0].set_title('Male')\n",
    "\n",
    "sns.barplot(ax=axes[1], x='time', y='accidents', data = f_accidents_per_time)\n",
    "axes[1].set_title('Female')"
   ]
  },
  {
   "cell_type": "code",
   "execution_count": 19,
   "metadata": {},
   "outputs": [
    {
     "data": {
      "text/plain": [
       "Text(0.5, 1.0, 'Female')"
      ]
     },
     "execution_count": 19,
     "metadata": {},
     "output_type": "execute_result"
    },
    {
     "data": {
      "image/png": "[encoded data removed]",
      "text/plain": [
       "<Figure size 1440x504 with 2 Axes>"
      ]
     },
     "metadata": {},
     "output_type": "display_data"
    }
   ],
   "source": [
    "time_df.index = pd.to_datetime(time_df.date + ' ' + time_df.time)\n",
    "\n",
    "m_time_df = time_df[time_df.gender == 'M']\n",
    "f_time_df = time_df[time_df.gender == 'F']\n",
    "\n",
    "m_deceased_per_time = pd.DataFrame({'time' : [], 'deceased' : [], 'gender' : []})\n",
    "time_count = 0\n",
    "time = []\n",
    "deceased = []\n",
    "gender = []\n",
    "\n",
    "dec_per_time = m_time_df.groupby(m_time_df.index.hour).deceased.sum()\n",
    "for acc in dec_per_time:\n",
    "    time.append(time_count)\n",
    "    deceased.append(acc)\n",
    "    gender.append('M')\n",
    "    time_count = time_count + 1\n",
    "m_deceased_per_time['time'] = time\n",
    "m_deceased_per_time['deceased'] = deceased\n",
    "m_deceased_per_time['gender'] = gender\n",
    "\n",
    "f_deceased_per_time = pd.DataFrame({'time' : [], 'deceased' : [], 'gender' : []})\n",
    "time_count = 0\n",
    "time = []\n",
    "deceased = []\n",
    "gender = []\n",
    "f_dec_per_time = f_time_df.groupby(f_time_df.index.hour).deceased.sum()\n",
    "for acc in f_dec_per_time:\n",
    "    time.append(time_count)\n",
    "    deceased.append(acc)\n",
    "    gender.append('F')\n",
    "    time_count = time_count + 1\n",
    "f_deceased_per_time['time'] = time\n",
    "f_deceased_per_time['deceased'] = deceased\n",
    "f_deceased_per_time['gender'] = gender\n",
    "\n",
    "fig, axes = plt.subplots(1, 2, sharey=True, figsize=(20, 7))\n",
    "fig.suptitle(\"Mean deceased per each hour\")\n",
    "\n",
    "sns.barplot(ax=axes[0], x='time', y='deceased', data = m_deceased_per_time)\n",
    "axes[0].set_title('Male')\n",
    "\n",
    "sns.barplot(ax=axes[1], x='time', y='deceased', data = f_deceased_per_time)\n",
    "axes[1].set_title('Female')"
   ]
  }
 ],
 "metadata": {
  "kernelspec": {
   "display_name": "Python 3",
   "language": "python",
   "name": "python3"
  },
  "language_info": {
   "codemirror_mode": {
    "name": "ipython",
    "version": 3
   },
   "file_extension": ".py",
   "mimetype": "text/x-python",
   "name": "python",
   "nbconvert_exporter": "python",
   "pygments_lexer": "ipython3",
   "version": "3.8.8"
  }
 },
 "nbformat": 4,
 "nbformat_minor": 4
}
