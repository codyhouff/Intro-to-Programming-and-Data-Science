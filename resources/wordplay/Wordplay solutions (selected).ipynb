{
 "cells": [
  {
   "cell_type": "code",
   "execution_count": 1,
   "metadata": {},
   "outputs": [],
   "source": [
    "import scrabble"
   ]
  },
  {
   "cell_type": "code",
   "execution_count": null,
   "metadata": {},
   "outputs": [],
   "source": [
    "for letter in 'abcdefghijklmnopqrstuvwxyz':\n",
    "    max_count = 0\n",
    "    max_word = ''\n",
    "    for word in scrabble.wordlist:\n",
    "        curr_count = 0\n",
    "        for word_letter in word:\n",
    "            if word_letter == letter:\n",
    "                curr_count += 1\n",
    "        #curr_count = word.count(letter)\n",
    "        if curr_count > max_count:\n",
    "            max_count = curr_count\n",
    "            max_word = word\n",
    "    print(max_word)"
   ]
  },
  {
   "cell_type": "code",
   "execution_count": null,
   "metadata": {},
   "outputs": [],
   "source": [
    "for letter in 'abcdefghijklmnopqrstuvwxyz':\n",
    "    max_count = 0\n",
    "    max_words = []\n",
    "    for word in scrabble.wordlist:\n",
    "        curr_count = word.count(letter)\n",
    "        if curr_count > max_count:\n",
    "            max_count = curr_count\n",
    "            max_words = [word]\n",
    "        elif curr_count == max_count:\n",
    "            max_words.append(word)\n",
    "    print(max_words)"
   ]
  }
 ],
 "metadata": {
  "kernelspec": {
   "display_name": "Python 3",
   "language": "python",
   "name": "python3"
  },
  "language_info": {
   "codemirror_mode": {
    "name": "ipython",
    "version": 3
   },
   "file_extension": ".py",
   "mimetype": "text/x-python",
   "name": "python",
   "nbconvert_exporter": "python",
   "pygments_lexer": "ipython3",
   "version": "3.7.4"
  }
 },
 "nbformat": 4,
 "nbformat_minor": 4
}
